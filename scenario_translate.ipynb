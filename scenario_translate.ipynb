{
 "cells": [
  {
   "cell_type": "code",
   "execution_count": 1,
   "metadata": {},
   "outputs": [],
   "source": [
    "from utils.scenario import Scenario\n",
    "from utils.scenario_converter import convert_scenario\n",
    "from utils.loader import getFiles\n",
    "import pickle\n",
    "import serde.json\n",
    "\n",
    "SRC_DIR = '~/data/waymo_scenarios_list'"
   ]
  },
  {
   "cell_type": "code",
   "execution_count": 2,
   "metadata": {},
   "outputs": [
    {
     "ename": "UnpicklingError",
     "evalue": "invalid load key, '{'.",
     "output_type": "error",
     "traceback": [
      "\u001b[0;31m---------------------------------------------------------------------------\u001b[0m",
      "\u001b[0;31mUnpicklingError\u001b[0m                           Traceback (most recent call last)",
      "\u001b[1;32m/home/fidgetsinner/myworkspace/metadrive-offline-rl-benchmark/scenario_translate.ipynb Cell 2\u001b[0m line \u001b[0;36m4\n\u001b[1;32m      <a href='vscode-notebook-cell:/home/fidgetsinner/myworkspace/metadrive-offline-rl-benchmark/scenario_translate.ipynb#W1sZmlsZQ%3D%3D?line=0'>1</a>\u001b[0m filename \u001b[39m=\u001b[39m getFiles(SRC_DIR)[\u001b[39m0\u001b[39m]\n\u001b[1;32m      <a href='vscode-notebook-cell:/home/fidgetsinner/myworkspace/metadrive-offline-rl-benchmark/scenario_translate.ipynb#W1sZmlsZQ%3D%3D?line=2'>3</a>\u001b[0m \u001b[39mwith\u001b[39;00m \u001b[39mopen\u001b[39m(filename, \u001b[39m'\u001b[39m\u001b[39mrb\u001b[39m\u001b[39m'\u001b[39m) \u001b[39mas\u001b[39;00m f:\n\u001b[0;32m----> <a href='vscode-notebook-cell:/home/fidgetsinner/myworkspace/metadrive-offline-rl-benchmark/scenario_translate.ipynb#W1sZmlsZQ%3D%3D?line=3'>4</a>\u001b[0m     scenario \u001b[39m=\u001b[39m pickle\u001b[39m.\u001b[39;49mload(f)\n\u001b[1;32m      <a href='vscode-notebook-cell:/home/fidgetsinner/myworkspace/metadrive-offline-rl-benchmark/scenario_translate.ipynb#W1sZmlsZQ%3D%3D?line=5'>6</a>\u001b[0m md_scenario \u001b[39m=\u001b[39m convert_scenario(scenario)\n\u001b[1;32m      <a href='vscode-notebook-cell:/home/fidgetsinner/myworkspace/metadrive-offline-rl-benchmark/scenario_translate.ipynb#W1sZmlsZQ%3D%3D?line=7'>8</a>\u001b[0m \u001b[39mwith\u001b[39;00m \u001b[39mopen\u001b[39m(\u001b[39m'\u001b[39m\u001b[39moutput.pkl\u001b[39m\u001b[39m'\u001b[39m, \u001b[39m'\u001b[39m\u001b[39mwb\u001b[39m\u001b[39m'\u001b[39m) \u001b[39mas\u001b[39;00m f:\n",
      "\u001b[0;31mUnpicklingError\u001b[0m: invalid load key, '{'."
     ]
    }
   ],
   "source": [
    "filename = getFiles(SRC_DIR)[0]\n",
    "\n",
    "with open(filename, 'r') as f:\n",
    "    scenario = serde.json.from_json(Scenario, f.read())\n",
    "\n",
    "md_scenario = convert_scenario(scenario)\n",
    "\n",
    "with open('output.pkl', 'wb') as f:\n",
    "    pickle.dump(md_scenario, f)"
   ]
  }
 ],
 "metadata": {
  "kernelspec": {
   "display_name": "metadrive",
   "language": "python",
   "name": "python3"
  },
  "language_info": {
   "codemirror_mode": {
    "name": "ipython",
    "version": 3
   },
   "file_extension": ".py",
   "mimetype": "text/x-python",
   "name": "python",
   "nbconvert_exporter": "python",
   "pygments_lexer": "ipython3",
   "version": "3.11.5"
  }
 },
 "nbformat": 4,
 "nbformat_minor": 2
}
