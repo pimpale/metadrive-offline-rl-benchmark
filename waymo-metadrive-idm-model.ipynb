{
 "cells": [
  {
   "cell_type": "markdown",
   "metadata": {},
   "source": [
    "# Strategy\n",
    "\n",
    "In this notebook, we attempt to train an inverse dynamics model (IDM). In Reinforcement Learning parlance, an IDM learns to predict $a_t$ given $s_t$ and $s_{t+1}$. In our case, we have access to the MetaDrive simulator and the Waymo dataset. We want to predict the action the car should take in MetaDrive so that the successor state in the simulator is as close as possible to the successor state in the Waymo dataset."
   ]
  },
  {
   "cell_type": "code",
   "execution_count": null,
   "metadata": {},
   "outputs": [],
   "source": [
    "# CHANGE ME: Set this to the path to the Waymo Open Dataset root directory\n",
    "WAYMO_DATA_PATH = \"~/data/waymo\""
   ]
  },
  {
   "cell_type": "code",
   "execution_count": 2,
   "metadata": {},
   "outputs": [],
   "source": [
    "import typing\n",
    "from dataclasses import dataclass\n",
    "import numpy as np\n",
    "import numpy.typing as npt\n",
    "\n",
    "@dataclass\n",
    "class State:\n",
    "    heading: float\n",
    "    velocity: npt.NDArray[np.float64]\n",
    "\n",
    "\n",
    "Observation: typing.TypeAlias = tuple[State, State]\n",
    "Action: typing.TypeAlias = tuple[float, float]"
   ]
  },
  {
   "cell_type": "code",
   "execution_count": null,
   "metadata": {},
   "outputs": [],
   "source": [
    "import os\n",
    "\n",
    "trajectories: list[list[State]] = []\n",
    "\n",
    "\n",
    "def getFiles(path: str) -> list[str]:\n",
    "    path = os.path.expanduser(path)\n",
    "    files = [os.path.join(path, f) for f in os.listdir(path)]\n",
    "    return [f for f in files if os.path.isfile(f)]\n",
    "\n",
    "file_iter = iter(getFiles(WAYMO_DATA_PATH))"
   ]
  },
  {
   "cell_type": "code",
   "execution_count": null,
   "metadata": {},
   "outputs": [],
   "source": [
    "# tensorflow don't allocate all gpu memory right away\n",
    "os.environ['TF_FORCE_GPU_ALLOW_GROWTH'] = 'true'\n",
    "import tensorflow as tf\n",
    "from waymo_protos import scenario_pb2\n",
    "\n",
    "def parse_scenario(scenario: scenario_pb2.Scenario) -> list[State]:\n",
    "    states = []\n",
    "    for s in scenario.tracks[scenario.sdc_track_index].states:\n",
    "        if s.valid:\n",
    "            states.append(State(s.heading, np.array([s.velocity_x, s.velocity_y], dtype=np.float32)))\n",
    "    return states\n",
    "\n",
    "for file_path in file_iter:\n",
    "    trajectories_in_file = []\n",
    "    for data in tf.data.TFRecordDataset(file_path, compression_type=\"\").as_numpy_iterator():\n",
    "        scenario = scenario_pb2.Scenario()\n",
    "        scenario.ParseFromString(data)\n",
    "        trajectories_in_file.append(parse_scenario(scenario))\n",
    "    trajectories.extend(trajectories_in_file)\n",
    "    print(f\"Loaded {len(trajectories_in_file)} trajectories from {file_path}\")"
   ]
  },
  {
   "cell_type": "code",
   "execution_count": 99,
   "metadata": {},
   "outputs": [],
   "source": [
    "import pickle\n",
    "import os\n",
    "import lzma\n",
    "\n",
    "# pickle the trajectories\n",
    "if not os.path.exists('waymo_data/trajectories.pkl.xz'):\n",
    "    with lzma.open('waymo_data/trajectories.pkl.xz', 'wb') as f:\n",
    "        pickle.dump(trajectories, f)"
   ]
  },
  {
   "cell_type": "code",
   "execution_count": 3,
   "metadata": {},
   "outputs": [],
   "source": [
    "import pickle\n",
    "import os\n",
    "import lzma\n",
    "\n",
    "# unpickle and decompress\n",
    "if \"trajectories\" not in locals():\n",
    "    with lzma.open('waymo_data/trajectories.pkl.xz', 'rb') as f:\n",
    "        trajectories = pickle.load(f)"
   ]
  },
  {
   "cell_type": "code",
   "execution_count": 4,
   "metadata": {},
   "outputs": [],
   "source": [
    "import random\n",
    "\n",
    "idm_data: list[Observation] = []\n",
    "for states in trajectories:\n",
    "    for i in range(len(states)-1):\n",
    "        idm_data.append((states[i], states[i+1]))\n",
    "\n",
    "# 90:10 train-validation split\n",
    "random.seed(0)\n",
    "random.shuffle(idm_data)\n",
    "idm_train_data = idm_data[:int(len(idm_data)*0.9)]\n",
    "idm_validation_data = idm_data[int(len(idm_data)*0.9):]"
   ]
  },
  {
   "cell_type": "code",
   "execution_count": 5,
   "metadata": {},
   "outputs": [
    {
     "name": "stdout",
     "output_type": "stream",
     "text": [
      "train data: 399502\n",
      "validation data: 44390\n"
     ]
    }
   ],
   "source": [
    "print(\"train data:\", len(idm_train_data))\n",
    "print(\"validation data:\", len(idm_validation_data))"
   ]
  },
  {
   "cell_type": "code",
   "execution_count": 6,
   "metadata": {},
   "outputs": [
    {
     "name": "stdout",
     "output_type": "stream",
     "text": [
      "Successfully registered the following environments: ['MetaDrive-validation-v0', 'MetaDrive-10env-v0', 'MetaDrive-100envs-v0', 'MetaDrive-1000envs-v0', 'SafeMetaDrive-validation-v0', 'SafeMetaDrive-10env-v0', 'SafeMetaDrive-100envs-v0', 'SafeMetaDrive-1000envs-v0', 'MARLTollgate-v0', 'MARLBottleneck-v0', 'MARLRoundabout-v0', 'MARLIntersection-v0', 'MARLParkingLot-v0', 'MARLMetaDrive-v0'].\n"
     ]
    }
   ],
   "source": [
    "import matplotlib.pyplot as plt\n",
    "import metadrive\n",
    "from metadrive import MetaDriveEnv\n",
    "import gymnasium as gym\n",
    "import torch\n",
    "import torch.nn as nn\n",
    "import torch.nn.functional as F\n",
    "\n",
    "\n",
    "\n",
    "def deviceof(m: nn.Module) -> torch.device:\n",
    "    \"\"\"\n",
    "    Get the device of the given module\n",
    "    \"\"\"\n",
    "    return next(m.parameters()).device\n",
    "\n",
    "def normalize_angle(angle: float) -> float:\n",
    "    \"\"\"\n",
    "    Normalize the angle to [-pi, pi)\n",
    "    \"\"\"\n",
    "    return (angle + np.pi) % (2 * np.pi) - np.pi\n",
    "\n",
    "def get_metadrive_state(env: MetaDriveEnv) -> State:\n",
    "    return State(heading=env.vehicle.heading_theta, velocity=env.vehicle.velocity[:2])\n",
    "\n",
    "def next_state(env: MetaDriveEnv, s: State, a: Action) -> State:\n",
    "    \"\"\"\n",
    "    runs the policy and returns the total reward\n",
    "    \"\"\"\n",
    "    # reset\n",
    "    env.reset()\n",
    "    env.vehicle.set_position(env.vehicle.position, height=0.49)\n",
    "\n",
    "    # allow car to settle\n",
    "    for _ in range(5):\n",
    "        env.step([0,0])\n",
    "\n",
    "    # set the initial state\n",
    "    env.vehicle.set_velocity(s.velocity)\n",
    "    env.vehicle.set_heading_theta(s.heading)\n",
    "    \n",
    "    # run the simulator\n",
    "    env.step(a)\n",
    "\n",
    "    # get the new state\n",
    "    s_prime = get_metadrive_state(env)\n",
    "\n",
    "    # allow car to settle (if rendering)\n",
    "    if env.config.use_render:\n",
    "        for _ in range(10):\n",
    "            env.step([0,0])\n",
    "\n",
    "    return s_prime\n",
    "\n",
    "def gen_random_action() -> Action:\n",
    "    \"\"\"\n",
    "    Generates a random action with probabilities that are similar to that are found in the waymo dataset\n",
    "    \"\"\"\n",
    "    a = tuple(np.random.normal(0, 0.5, 2))\n",
    "    return a\n",
    "\n",
    "def state_batch_to_tensor(states: list[State], device: torch.device) -> torch.Tensor:\n",
    "    \"\"\"\n",
    "    Reshape the state from State to a tensor of shape (batch_size, 4)\n",
    "    \"\"\"\n",
    "    velocities = torch.tensor(np.stack([st.velocity for st in states]), dtype=torch.float32, device=device)\n",
    "    heading = torch.tensor([st.heading for st in states], dtype=torch.float32, device=device)\n",
    "    return torch.cat([velocities, torch.cos(heading).unsqueeze(1), torch.sin(heading).unsqueeze(1)], dim=1)\n",
    "\n",
    "def action_batch_to_tensor(actions: list[Action], device: torch.device) -> torch.Tensor:\n",
    "    \"\"\"\n",
    "    Reshape the action from Action to a tensor of shape (batch_size, 2)\n",
    "    \"\"\"\n",
    "    return torch.tensor(np.stack(actions), dtype=torch.float32, device=device)\n",
    "\n",
    "def obs_batch_to_tensor(obs: list[Observation], device: torch.device) -> torch.Tensor:\n",
    "    \"\"\"\n",
    "    Reshape the observation from tuple[State, State] to a tensor of shape (batch_size, 4, 2)\n",
    "    \"\"\"\n",
    "\n",
    "    observations = []\n",
    "\n",
    "    for st0, st1 in obs:\n",
    "        observations.append(np.array([\n",
    "            [st0.velocity[0], st1.velocity[0]], \n",
    "            [st0.velocity[1], st1.velocity[1]],\n",
    "            [np.cos(st0.heading), np.cos(st1.heading)],\n",
    "            [np.sin(st0.heading), np.sin(st1.heading)],\n",
    "        ]))\n",
    "\n",
    "    return torch.tensor(np.stack(observations), dtype=torch.float32, device=device)"
   ]
  },
  {
   "cell_type": "markdown",
   "metadata": {},
   "source": [
    "This task may take a few minutes to run the first time."
   ]
  },
  {
   "cell_type": "code",
   "execution_count": 6,
   "metadata": {},
   "outputs": [],
   "source": [
    "def generate_data(s0_batch: list[State]) -> list[tuple[State, Action, State]]:\n",
    "    env = MetaDriveEnv(config={\"on_continuous_line_done\": False, \"use_render\": False})\n",
    "    dataset: list[tuple[State, Action, State]] = []\n",
    "    for s0 in s0_batch:\n",
    "        a = gen_random_action()\n",
    "        s1 = next_state(env, s0, a)\n",
    "        dataset.append((s0, a, s1))\n",
    "    env.close()\n",
    "    return dataset"
   ]
  },
  {
   "cell_type": "code",
   "execution_count": 109,
   "metadata": {},
   "outputs": [
    {
     "name": "stderr",
     "output_type": "stream",
     "text": [
      ":task(warning): Creating implicit AsyncTaskChain default for AsyncTaskManager TaskManager\n",
      ":task(warning): Creating implicit AsyncTaskChain default for AsyncTaskManager TaskManager\n",
      ":task(warning): Creating implicit AsyncTaskChain default for AsyncTaskManager TaskManager\n",
      ":task(warning): Creating implicit AsyncTaskChain default for AsyncTaskManager TaskManager\n",
      ":task(warning): Creating implicit AsyncTaskChain default for AsyncTaskManager TaskManager\n",
      ":task(warning): Creating implicit AsyncTaskChain default for AsyncTaskManager TaskManager\n",
      ":task(warning): Creating implicit AsyncTaskChain default for AsyncTaskManager TaskManager\n",
      ":task(warning): Creating implicit AsyncTaskChain default for AsyncTaskManager TaskManager\n",
      ":task(warning): Creating implicit AsyncTaskChain default for AsyncTaskManager TaskManager\n",
      ":task(warning): Creating implicit AsyncTaskChain default for AsyncTaskManager TaskManager\n",
      ":task(warning): Creating implicit AsyncTaskChain default for AsyncTaskManager TaskManager\n",
      ":task(warning): Creating implicit AsyncTaskChain default for AsyncTaskManager TaskManager\n",
      ":task(warning): Creating implicit AsyncTaskChain default for AsyncTaskManager TaskManager\n",
      ":task(warning): Creating implicit AsyncTaskChain default for AsyncTaskManager TaskManager\n",
      ":task(warning): Creating implicit AsyncTaskChain default for AsyncTaskManager TaskManager\n",
      ":task(warning): Creating implicit AsyncTaskChain default for AsyncTaskManager TaskManager\n"
     ]
    }
   ],
   "source": [
    "from concurrent.futures import ProcessPoolExecutor\n",
    "from metadrive import MetaDriveEnv\n",
    "\n",
    "MAX_WORKERS = 16\n",
    "\n",
    "mm_train_data: list[tuple[State, Action, State]] = []\n",
    "\n",
    "with ProcessPoolExecutor(max_workers=MAX_WORKERS) as executor:\n",
    "    batch_size, leftover_size = divmod(len(idm_train_data), MAX_WORKERS)\n",
    "    \n",
    "    # Distribute the data evenly among workers\n",
    "    n_scenarios_per_worker = [batch_size]*MAX_WORKERS\n",
    "    n_scenarios_per_worker[0] += leftover_size\n",
    "\n",
    "    # Distribute the initial states among workers\n",
    "    idm_train_data_iter = iter(idm_train_data)\n",
    "    s0_batch_per_worker = [[next(idm_train_data_iter)[0] for _ in range(n_scenarios)] for n_scenarios in n_scenarios_per_worker]\n",
    "\n",
    "    # Generate the data in parallel\n",
    "    for batch in executor.map(generate_data, s0_batch_per_worker):\n",
    "        mm_train_data.extend(batch)"
   ]
  },
  {
   "cell_type": "code",
   "execution_count": 111,
   "metadata": {},
   "outputs": [
    {
     "name": "stderr",
     "output_type": "stream",
     "text": [
      ":task(warning): Creating implicit AsyncTaskChain default for AsyncTaskManager TaskManager\n",
      ":task(warning): Creating implicit AsyncTaskChain default for AsyncTaskManager TaskManager\n",
      ":task(warning): Creating implicit AsyncTaskChain default for AsyncTaskManager TaskManager\n",
      ":task(warning): Creating implicit AsyncTaskChain default for AsyncTaskManager TaskManager\n",
      ":task(warning): Creating implicit AsyncTaskChain default for AsyncTaskManager TaskManager\n",
      ":task(warning): Creating implicit AsyncTaskChain default for AsyncTaskManager TaskManager\n",
      ":task(warning): Creating implicit AsyncTaskChain default for AsyncTaskManager TaskManager\n",
      ":task(warning): Creating implicit AsyncTaskChain default for AsyncTaskManager TaskManager\n",
      ":task(warning): Creating implicit AsyncTaskChain default for AsyncTaskManager TaskManager\n",
      ":task(warning): Creating implicit AsyncTaskChain default for AsyncTaskManager TaskManager\n",
      ":task(warning): Creating implicit AsyncTaskChain default for AsyncTaskManager TaskManager\n",
      ":task(warning): Creating implicit AsyncTaskChain default for AsyncTaskManager TaskManager\n",
      ":task(warning): Creating implicit AsyncTaskChain default for AsyncTaskManager TaskManager\n",
      ":task(warning): Creating implicit AsyncTaskChain default for AsyncTaskManager TaskManager\n",
      ":task(warning): Creating implicit AsyncTaskChain default for AsyncTaskManager TaskManager\n",
      ":task(warning): Creating implicit AsyncTaskChain default for AsyncTaskManager TaskManager\n"
     ]
    }
   ],
   "source": [
    "from concurrent.futures import ProcessPoolExecutor\n",
    "from metadrive import MetaDriveEnv\n",
    "\n",
    "MAX_WORKERS = 16\n",
    "\n",
    "mm_validation_data: list[tuple[State, Action, State]] = []\n",
    "\n",
    "with ProcessPoolExecutor(max_workers=MAX_WORKERS) as executor:\n",
    "    batch_size, leftover_size = divmod(len(idm_validation_data), MAX_WORKERS)\n",
    "    \n",
    "    # Distribute the data evenly among workers\n",
    "    n_scenarios_per_worker = [batch_size]*MAX_WORKERS\n",
    "    n_scenarios_per_worker[0] += leftover_size\n",
    "\n",
    "    # Distribute the initial states among workers\n",
    "    idm_train_data_iter = iter(idm_train_data)\n",
    "    s0_batch_per_worker = [[next(idm_train_data_iter)[0] for _ in range(n_scenarios)] for n_scenarios in n_scenarios_per_worker]\n",
    "\n",
    "    # Generate the data in parallel\n",
    "    for batch in executor.map(generate_data, s0_batch_per_worker):\n",
    "        mm_validation_data.extend(batch)"
   ]
  },
  {
   "cell_type": "code",
   "execution_count": 112,
   "metadata": {},
   "outputs": [],
   "source": [
    "import pickle\n",
    "import os\n",
    "import lzma\n",
    "\n",
    "# pickle the data\n",
    "if not os.path.exists('waymo_data/mm_train_data.pkl.xz'):\n",
    "    with lzma.open('waymo_data/mm_train_data.pkl.xz', 'wb') as f:\n",
    "        pickle.dump(mm_train_data, f)\n",
    "\n",
    "if not os.path.exists('waymo_data/mm_validation_data.pkl.xz'):\n",
    "    with lzma.open('waymo_data/mm_validation_data.pkl.xz', 'wb') as f:\n",
    "        pickle.dump(mm_validation_data, f)\n",
    "\n"
   ]
  },
  {
   "cell_type": "code",
   "execution_count": 8,
   "metadata": {},
   "outputs": [],
   "source": [
    "import pickle\n",
    "import os\n",
    "import lzma\n",
    "\n",
    "if 'mm_train_data' not in locals():\n",
    "    # load data (if exists)   \n",
    "    with lzma.open('waymo_data/mm_train_data.pkl.xz', 'rb') as f:\n",
    "        mm_train_data = pickle.load(f)\n",
    "\n",
    "if 'mm_validation_data' not in locals():\n",
    "    with lzma.open('waymo_data/mm_validation_data.pkl.xz', 'rb') as f:\n",
    "        mm_validation_data = pickle.load(f)"
   ]
  },
  {
   "cell_type": "code",
   "execution_count": 9,
   "metadata": {},
   "outputs": [
    {
     "name": "stdout",
     "output_type": "stream",
     "text": [
      "training data: 399502\n",
      "validation data: 44390\n"
     ]
    }
   ],
   "source": [
    "print(\"training data:\", len(mm_train_data))\n",
    "print(\"validation data:\", len(mm_validation_data))"
   ]
  },
  {
   "cell_type": "code",
   "execution_count": 10,
   "metadata": {},
   "outputs": [],
   "source": [
    "import torch\n",
    "import torch.nn as nn\n",
    "import torch.nn.functional as F\n",
    "\n",
    "# create a model that attempts to predict the next state given the current state and the action: (throttle and steering)\n",
    "# each state contains: velocity_x, velocity_y, and heading\n",
    "class MetadriveModel(nn.Module):\n",
    "    def __init__(self):\n",
    "        super().__init__()\n",
    "        # input shape: (batch_size, 3) + (batch_size, 2) = (batch_size, 5)\n",
    "        # output shape: (batch_size, 3)\n",
    "        self.fc1 = nn.Linear(6, 768)\n",
    "        self.fc2 = nn.Linear(768, 768)\n",
    "        self.fc3 = nn.Linear(768, 4)\n",
    "    \n",
    "    def forward(self, states: torch.Tensor, actions: torch.Tensor):\n",
    "        # clip actions to be between -1 and 1\n",
    "        actions = torch.clamp(actions, -1, 1)\n",
    "        x = torch.cat([states, actions], dim=1)\n",
    "        x = F.relu(self.fc1(x))\n",
    "        x = F.relu(self.fc2(x))\n",
    "        x = self.fc3(x)\n",
    "        x = states + x\n",
    "        return x\n",
    "\n",
    "def metadrive_model_train_batch(\n",
    "    mm: MetadriveModel,\n",
    "    mm_optimizer: torch.optim.Optimizer,\n",
    "    s0_batch: list[State],\n",
    "    a_batch: list[Action],\n",
    "    s1_batch: list[State],\n",
    ") -> float: \n",
    "    device = deviceof(mm)\n",
    "\n",
    "    s0_tensor = state_batch_to_tensor(s0_batch, device) \n",
    "    a_tensor = action_batch_to_tensor(a_batch, device)\n",
    "    s1_tensor = state_batch_to_tensor(s1_batch, device)\n",
    "\n",
    "    mm_optimizer.zero_grad()\n",
    "    s1_pred_tensor = mm(s0_tensor, a_tensor)\n",
    "    loss = F.mse_loss(s1_pred_tensor, s1_tensor)\n",
    "    loss.backward()\n",
    "    mm_optimizer.step()\n",
    "    return float(loss.item())\n",
    "\n"
   ]
  },
  {
   "cell_type": "code",
   "execution_count": 11,
   "metadata": {},
   "outputs": [],
   "source": [
    "def set_lr(optimizer: torch.optim.Optimizer, lr: float) -> None:\n",
    "    for param_group in optimizer.param_groups:\n",
    "        param_group['lr'] = lr\n",
    "\n",
    "device = torch.device(\"cuda\" if torch.cuda.is_available() else \"cpu\")"
   ]
  },
  {
   "cell_type": "code",
   "execution_count": 12,
   "metadata": {},
   "outputs": [],
   "source": [
    "import itertools\n",
    "# make sure we don't run out of data\n",
    "mm_train_iter = itertools.cycle(mm_train_data)\n",
    "\n",
    "mm = MetadriveModel().to(device)\n",
    "\n",
    "mm_optimizer = torch.optim.AdamW(mm.parameters())\n",
    "\n",
    "mm_step = 0\n",
    "mm_losses = []"
   ]
  },
  {
   "cell_type": "code",
   "execution_count": 13,
   "metadata": {},
   "outputs": [
    {
     "name": "stdout",
     "output_type": "stream",
     "text": [
      "Step: 500, Loss: 0.0130\n",
      "Step: 1000, Loss: 0.0063\n",
      "Step: 1500, Loss: 0.0036\n",
      "Step: 2000, Loss: 0.0023\n",
      "Step: 2500, Loss: 0.0018\n",
      "Step: 3000, Loss: 0.0015\n",
      "Step: 3500, Loss: 0.0013\n",
      "Step: 4000, Loss: 0.0011\n",
      "Step: 4500, Loss: 0.0010\n",
      "Step: 5000, Loss: 0.0009\n",
      "Step: 5500, Loss: 0.0008\n",
      "Step: 6000, Loss: 0.0007\n",
      "Step: 6500, Loss: 0.0007\n",
      "Step: 7000, Loss: 0.0007\n",
      "Step: 7500, Loss: 0.0006\n",
      "Step: 8000, Loss: 0.0006\n",
      "Step: 8500, Loss: 0.0006\n",
      "Step: 9000, Loss: 0.0006\n",
      "Step: 9500, Loss: 0.0005\n",
      "Step: 10000, Loss: 0.0005\n"
     ]
    }
   ],
   "source": [
    "set_lr(mm_optimizer, 1e-4)\n",
    "METADRIVE_MODEL_TRAIN_EPOCHS = 10000\n",
    "METADRIVE_MODEL_TRAIN_BATCH_SIZE = 4096\n",
    "\n",
    "while mm_step < METADRIVE_MODEL_TRAIN_EPOCHS:\n",
    "    # take up to n from the data buffer\n",
    "    data_batch = [next(mm_train_iter) for _ in range(METADRIVE_MODEL_TRAIN_BATCH_SIZE)]\n",
    "    # unpack the batch\n",
    "    s0_batch, a_batch, s1_batch = zip(*data_batch)\n",
    "    loss = metadrive_model_train_batch(mm, mm_optimizer, s0_batch, a_batch, s1_batch)\n",
    "    mm_losses.append(loss)\n",
    "    mm_step += 1\n",
    "    if mm_step % 500 == 0:\n",
    "        # print average loss over the last 500 steps\n",
    "        loss = np.mean(mm_losses[-500:])\n",
    "        print(f\"Step: {mm_step}, Loss: {loss:.4f}\")"
   ]
  },
  {
   "cell_type": "code",
   "execution_count": 164,
   "metadata": {},
   "outputs": [],
   "source": [
    "# load mm\n",
    "if 'mm' not in locals():\n",
    "    mm = MetadriveModel().to(device)\n",
    "    mm.load_state_dict(torch.load('waymo_data/mm.pth'))"
   ]
  },
  {
   "cell_type": "code",
   "execution_count": 14,
   "metadata": {},
   "outputs": [],
   "source": [
    "# save mm\n",
    "if not os.path.exists('waymo_data/mm.pth'):\n",
    "    torch.save(mm.state_dict(), 'waymo_data/mm.pth')"
   ]
  },
  {
   "cell_type": "code",
   "execution_count": 15,
   "metadata": {},
   "outputs": [
    {
     "data": {
      "image/png": "[encoded data removed]",
      "text/plain": [
       "<Figure size 640x480 with 1 Axes>"
      ]
     },
     "metadata": {},
     "output_type": "display_data"
    },
    {
     "data": {
      "image/png": "[encoded data removed]",
      "text/plain": [
       "<Figure size 640x480 with 1 Axes>"
      ]
     },
     "metadata": {},
     "output_type": "display_data"
    },
    {
     "data": {
      "image/png": "[encoded data removed]",
      "text/plain": [
       "<Figure size 640x480 with 1 Axes>"
      ]
     },
     "metadata": {},
     "output_type": "display_data"
    }
   ],
   "source": [
    "import matplotlib.pyplot as plt\n",
    "\n",
    "# Plot the losses over training\n",
    "plt.plot(list(range(len(mm_losses))), mm_losses, label='MM')\n",
    "plt.show()\n",
    "\n",
    "latter_training = mm_losses[500:]\n",
    "plt.plot(list(range(len(latter_training))), latter_training, label='MM')\n",
    "plt.show()\n",
    "\n",
    "# running average of last 100 losses\n",
    "latter_training_averaged = np.convolve(latter_training, np.ones((100,))/100, mode='valid')\n",
    "plt.plot(list(range(len(latter_training_averaged))), latter_training_averaged, label='MM')\n",
    "plt.show()"
   ]
  },
  {
   "cell_type": "code",
   "execution_count": 16,
   "metadata": {},
   "outputs": [
    {
     "name": "stdout",
     "output_type": "stream",
     "text": [
      "training loss 0.00039682083297520876\n"
     ]
    }
   ],
   "source": [
    "s0_batch = [s0 for s0, _, _ in mm_train_data]\n",
    "s1_batch = [s1 for _, _, s1 in mm_train_data]\n",
    "a_batch = [a for _, a, _ in mm_train_data]\n",
    "\n",
    "s0_tensor = state_batch_to_tensor(s0_batch, device)\n",
    "s1_tensor = state_batch_to_tensor(s1_batch, device)\n",
    "a_tensor = action_batch_to_tensor(a_batch, device)\n",
    "\n",
    "s1_pred = mm(s0_tensor, a_tensor)\n",
    "\n",
    "loss = (s1_pred - s1_tensor)**2\n",
    "loss_x = loss[:, 0]\n",
    "loss_y = loss[:, 1]\n",
    "loss_theta = loss[:, 2] + loss[:, 3]\n",
    "\n",
    "print(\"training loss\", loss.mean().item())"
   ]
  },
  {
   "cell_type": "code",
   "execution_count": 17,
   "metadata": {},
   "outputs": [
    {
     "name": "stdout",
     "output_type": "stream",
     "text": [
      "validation loss 0.00042138362186960876\n"
     ]
    }
   ],
   "source": [
    "s0_batch = [s0 for s0, _, _ in mm_validation_data]\n",
    "s1_batch = [s1 for _, _, s1 in mm_validation_data]\n",
    "a_batch = [a for _, a, _ in mm_validation_data]\n",
    "\n",
    "s0_tensor = state_batch_to_tensor(s0_batch, device)\n",
    "s1_tensor = state_batch_to_tensor(s1_batch, device)\n",
    "a_tensor = action_batch_to_tensor(a_batch, device)\n",
    "\n",
    "s1_pred = mm(s0_tensor, a_tensor)\n",
    "\n",
    "loss = (s1_pred - s1_tensor)**2\n",
    "loss_x = loss[:, 0]\n",
    "loss_y = loss[:, 1]\n",
    "loss_theta = loss[:, 2] + loss[:, 3]\n",
    "\n",
    "print(\"validation loss\", loss.mean().item())"
   ]
  },
  {
   "cell_type": "code",
   "execution_count": 19,
   "metadata": {},
   "outputs": [
    {
     "data": {
      "image/png": "[encoded data removed]",
      "text/plain": [
       "<Figure size 640x480 with 1 Axes>"
      ]
     },
     "metadata": {},
     "output_type": "display_data"
    },
    {
     "data": {
      "image/png": "[encoded data removed]",
      "text/plain": [
       "<Figure size 640x480 with 1 Axes>"
      ]
     },
     "metadata": {},
     "output_type": "display_data"
    },
    {
     "data": {
      "image/png": "[encoded data removed]",
      "text/plain": [
       "<Figure size 640x480 with 1 Axes>"
      ]
     },
     "metadata": {},
     "output_type": "display_data"
    }
   ],
   "source": [
    "plt.hist(loss_x.cpu().detach().numpy(), bins=100)\n",
    "plt.title('Loss in x')\n",
    "plt.show()\n",
    "plt.hist(loss_y.cpu().detach().numpy(), bins=100)\n",
    "plt.title('Loss in y')\n",
    "plt.show()\n",
    "plt.hist(loss_theta.cpu().detach().numpy(), bins=100)\n",
    "plt.title('Loss in theta')\n",
    "plt.show()\n"
   ]
  },
  {
   "cell_type": "markdown",
   "metadata": {},
   "source": [
    "Now that we have trained a neural network model of Metadrive through which we can backprop, training the IDM is easy."
   ]
  },
  {
   "cell_type": "code",
   "execution_count": 20,
   "metadata": {},
   "outputs": [],
   "source": [
    "# creates a model that attempts to predict the action given the current state and the next state\n",
    "class InverseDynamicsModel(nn.Module):\n",
    "    def __init__(self):\n",
    "        super().__init__()\n",
    "        # input shape: (batch_size, 4, 2)\n",
    "        # output shape: (batch_size, 2)\n",
    "\n",
    "        self.conv1 = nn.Conv1d(4, 768, 2) # Bx4x2 -> Bx768x1\n",
    "        self.fc1 = nn.Linear(768, 768) # Bx768 -> Bx768\n",
    "        self.fc2 = nn.Linear(768, 2) # Bx768 -> Bx2\n",
    "    \n",
    "    def forward(self, x: torch.Tensor):\n",
    "        x = F.relu(self.conv1(x)) # Bx4x2 -> Bx768x1\n",
    "        x = torch.flatten(x, 1) # Bx768x1 -> Bx768\n",
    "        x = F.relu(self.fc1(x)) # Bx768 -> Bx768\n",
    "        x = self.fc2(x) # Bx768 -> Bx2\n",
    "        return x\n",
    "\n",
    "def idm_train_batch(\n",
    "        mm: MetadriveModel,\n",
    "        idm: InverseDynamicsModel,\n",
    "        idm_optimizer: torch.optim.Optimizer,\n",
    "        obs_batch: list[Observation],\n",
    ") -> float:\n",
    "    device = deviceof(mm)\n",
    "\n",
    "    assert deviceof(idm) == device\n",
    "\n",
    "    obs_tensor = obs_batch_to_tensor(obs_batch, device)\n",
    "    s0_tensor = state_batch_to_tensor([s0 for s0, _ in obs_batch], device)\n",
    "    s1_tensor = state_batch_to_tensor([s1 for _, s1 in obs_batch], device)\n",
    "\n",
    "    idm_optimizer.zero_grad()\n",
    "\n",
    "    pred_action = idm(obs_tensor)\n",
    "    pred_s1 = mm(s0_tensor, pred_action)\n",
    "\n",
    "    loss = F.mse_loss(pred_s1, s1_tensor)\n",
    "    loss.backward()\n",
    "\n",
    "    idm_optimizer.step()\n",
    "\n",
    "    return float(loss.item())"
   ]
  },
  {
   "cell_type": "code",
   "execution_count": 22,
   "metadata": {},
   "outputs": [],
   "source": [
    "idm_train_iter = itertools.cycle(idm_train_data)\n",
    "\n",
    "idm = InverseDynamicsModel().to(device)\n",
    "\n",
    "idm_optimizer = torch.optim.AdamW(idm.parameters())\n",
    "\n",
    "idm_step = 0\n",
    "idm_losses = []"
   ]
  },
  {
   "cell_type": "code",
   "execution_count": 23,
   "metadata": {},
   "outputs": [
    {
     "name": "stdout",
     "output_type": "stream",
     "text": [
      "Step: 100, Loss: 0.0275\n",
      "Step: 200, Loss: 0.0272\n",
      "Step: 300, Loss: 0.0265\n",
      "Step: 400, Loss: 0.0275\n",
      "Step: 500, Loss: 0.0270\n",
      "Step: 600, Loss: 0.0270\n",
      "Step: 700, Loss: 0.0233\n",
      "Step: 800, Loss: 0.0248\n",
      "Step: 900, Loss: 0.0250\n",
      "Step: 1000, Loss: 0.0227\n",
      "Step: 1100, Loss: 0.0225\n",
      "Step: 1200, Loss: 0.0201\n",
      "Step: 1300, Loss: 0.0174\n",
      "Step: 1400, Loss: 0.0158\n",
      "Step: 1500, Loss: 0.0146\n",
      "Step: 1600, Loss: 0.0134\n",
      "Step: 1700, Loss: 0.0111\n",
      "Step: 1800, Loss: 0.0114\n",
      "Step: 1900, Loss: 0.0088\n",
      "Step: 2000, Loss: 0.0096\n",
      "Step: 2100, Loss: 0.0074\n",
      "Step: 2200, Loss: 0.0070\n",
      "Step: 2300, Loss: 0.0062\n",
      "Step: 2400, Loss: 0.0026\n",
      "Step: 2500, Loss: 0.0021\n",
      "Step: 2600, Loss: 0.0020\n",
      "Step: 2700, Loss: 0.0019\n",
      "Step: 2800, Loss: 0.0018\n",
      "Step: 2900, Loss: 0.0017\n",
      "Step: 3000, Loss: 0.0018\n",
      "Step: 3100, Loss: 0.0015\n",
      "Step: 3200, Loss: 0.0016\n",
      "Step: 3300, Loss: 0.0015\n",
      "Step: 3400, Loss: 0.0016\n",
      "Step: 3500, Loss: 0.0015\n",
      "Step: 3600, Loss: 0.0015\n",
      "Step: 3700, Loss: 0.0013\n",
      "Step: 3800, Loss: 0.0013\n",
      "Step: 3900, Loss: 0.0013\n",
      "Step: 4000, Loss: 0.0012\n",
      "Step: 4100, Loss: 0.0016\n",
      "Step: 4200, Loss: 0.0008\n",
      "Step: 4300, Loss: 0.0011\n",
      "Step: 4400, Loss: 0.0010\n",
      "Step: 4500, Loss: 0.0009\n",
      "Step: 4600, Loss: 0.0010\n",
      "Step: 4700, Loss: 0.0010\n",
      "Step: 4800, Loss: 0.0009\n",
      "Step: 4900, Loss: 0.0010\n",
      "Step: 5000, Loss: 0.0009\n"
     ]
    }
   ],
   "source": [
    "set_lr(idm_optimizer, 1e-4)\n",
    "INVERSE_DYNAMICS_MODEL_TRAIN_EPOCHS = 5000\n",
    "INVERSE_DYNAMICS_MODEL_TRAIN_BATCH_SIZE = 4096\n",
    "\n",
    "while idm_step < INVERSE_DYNAMICS_MODEL_TRAIN_EPOCHS:\n",
    "    obs_batch = [next(idm_train_iter) for _ in range(INVERSE_DYNAMICS_MODEL_TRAIN_BATCH_SIZE)]\n",
    "    loss = idm_train_batch(\n",
    "        mm,\n",
    "        idm,\n",
    "        idm_optimizer,\n",
    "        obs_batch,\n",
    "    )\n",
    "    idm_losses.append(loss)\n",
    "    idm_step += 1\n",
    "    if idm_step % 100 == 0:\n",
    "        # print average loss over last 100 steps\n",
    "        loss = np.mean(idm_losses[-100:])\n",
    "        print(f\"Step: {idm_step}, Loss: {loss:.4f}\")"
   ]
  },
  {
   "cell_type": "code",
   "execution_count": 31,
   "metadata": {},
   "outputs": [],
   "source": [
    "# load idm\n",
    "if 'idm' not in locals():\n",
    "    idm = InverseDynamicsModel().to(device)\n",
    "    idm.load_state_dict(torch.load('waymo_data/idm.pth'))    "
   ]
  },
  {
   "cell_type": "code",
   "execution_count": 29,
   "metadata": {},
   "outputs": [],
   "source": [
    "# save idm\n",
    "if not os.path.exists('waymo_data/idm.pth'):\n",
    "    torch.save(mm.state_dict(), 'waymo_data/idm.pth')"
   ]
  },
  {
   "cell_type": "code",
   "execution_count": 24,
   "metadata": {},
   "outputs": [
    {
     "data": {
      "image/png": "[encoded data removed]",
      "text/plain": [
       "<Figure size 640x480 with 1 Axes>"
      ]
     },
     "metadata": {},
     "output_type": "display_data"
    }
   ],
   "source": [
    "import matplotlib.pyplot as plt\n",
    "\n",
    "# Plot the losses over training\n",
    "plt.plot(list(range(len(idm_losses))), idm_losses, label='IDM')\n",
    "plt.show()"
   ]
  },
  {
   "cell_type": "code",
   "execution_count": 25,
   "metadata": {},
   "outputs": [
    {
     "data": {
      "text/plain": [
       "[<matplotlib.lines.Line2D at 0x7f2eb158c210>]"
      ]
     },
     "execution_count": 25,
     "metadata": {},
     "output_type": "execute_result"
    },
    {
     "data": {
      "image/png": "[encoded data removed]",
      "text/plain": [
       "<Figure size 640x480 with 1 Axes>"
      ]
     },
     "metadata": {},
     "output_type": "display_data"
    }
   ],
   "source": [
    "# compute running average of the last 200 episodes\n",
    "# plot the average reward per episode\n",
    "idm_losses_averaged = np.convolve(idm_losses, np.ones((200,))/200, mode='valid')\n",
    "plt.plot(idm_losses_averaged)"
   ]
  },
  {
   "cell_type": "markdown",
   "metadata": {},
   "source": [
    "Let' compare our trained IDM against the null idm (predicts 0 for all values):"
   ]
  },
  {
   "cell_type": "code",
   "execution_count": 26,
   "metadata": {},
   "outputs": [
    {
     "name": "stdout",
     "output_type": "stream",
     "text": [
      "training loss 0.00083230558084324\n"
     ]
    }
   ],
   "source": [
    "obs_batch = idm_train_data\n",
    "\n",
    "obs_tensor = obs_batch_to_tensor(obs_batch, device)\n",
    "s0_tensor = state_batch_to_tensor([s0 for s0, _ in obs_batch], device)\n",
    "s1_tensor = state_batch_to_tensor([s1 for _, s1 in obs_batch], device)\n",
    "with torch.no_grad():\n",
    "    action_pred = idm(obs_tensor)\n",
    "    s1_pred = mm(s0_tensor, action_pred)\n",
    "\n",
    "loss = (s1_pred - s1_tensor)**2\n",
    "loss_x = loss[:, 0].cpu().detach().numpy()\n",
    "loss_y = loss[:, 1].cpu().detach().numpy()\n",
    "loss_theta = loss[:, 2].cpu().detach().numpy()\n",
    "\n",
    "print(\"training loss\", loss.mean().item())"
   ]
  },
  {
   "cell_type": "code",
   "execution_count": 27,
   "metadata": {},
   "outputs": [
    {
     "data": {
      "image/png": "[encoded data removed]",
      "text/plain": [
       "<Figure size 640x480 with 1 Axes>"
      ]
     },
     "metadata": {},
     "output_type": "display_data"
    },
    {
     "data": {
      "image/png": "[encoded data removed]",
      "text/plain": [
       "<Figure size 640x480 with 1 Axes>"
      ]
     },
     "metadata": {},
     "output_type": "display_data"
    },
    {
     "data": {
      "image/png": "[encoded data removed]",
      "text/plain": [
       "<Figure size 640x480 with 1 Axes>"
      ]
     },
     "metadata": {},
     "output_type": "display_data"
    }
   ],
   "source": [
    "plt.hist(loss_x, bins=100)\n",
    "plt.title('Loss in x')\n",
    "plt.show()\n",
    "plt.hist(loss_y, bins=100)\n",
    "plt.title('Loss in y')\n",
    "plt.show()\n",
    "plt.hist(loss_theta, bins=100)\n",
    "plt.title('Loss in theta')\n",
    "plt.show()\n"
   ]
  },
  {
   "cell_type": "code",
   "execution_count": 28,
   "metadata": {},
   "outputs": [
    {
     "data": {
      "image/png": "[encoded data removed]",
      "text/plain": [
       "<Figure size 640x480 with 1 Axes>"
      ]
     },
     "metadata": {},
     "output_type": "display_data"
    },
    {
     "data": {
      "image/png": "[encoded data removed]",
      "text/plain": [
       "<Figure size 640x480 with 1 Axes>"
      ]
     },
     "metadata": {},
     "output_type": "display_data"
    },
    {
     "data": {
      "image/png": "[encoded data removed]",
      "text/plain": [
       "<Figure size 640x480 with 1 Axes>"
      ]
     },
     "metadata": {},
     "output_type": "display_data"
    }
   ],
   "source": [
    "loss_x_no_outliers = np.array([x for x in loss_x if x < 0.1 ]) \n",
    "loss_y_no_outliers = np.array([x for x in loss_y if x < 0.1 ])\n",
    "loss_theta_no_outliers = np.array([x for x in loss_theta if x < 0.1 ])\n",
    "\n",
    "plt.hist(loss_x_no_outliers, bins=100)\n",
    "plt.title('Loss in x')\n",
    "plt.show()\n",
    "plt.hist(loss_y_no_outliers, bins=100)\n",
    "plt.title('Loss in y')\n",
    "plt.show()\n",
    "plt.hist(loss_theta_no_outliers, bins=100)\n",
    "plt.title('Loss in theta')\n",
    "plt.show()\n"
   ]
  },
  {
   "cell_type": "markdown",
   "metadata": {},
   "source": [
    "Let's try visualizing our IDM by having it follow a track from start to finish."
   ]
  },
  {
   "cell_type": "code",
   "execution_count": 30,
   "metadata": {},
   "outputs": [],
   "source": [
    "class IDMPolicy:\n",
    "    def __init__(self, net: InverseDynamicsModel):\n",
    "        self.net = net\n",
    "\n",
    "    def __call__(self, obs:Observation) -> Action:\n",
    "        # sample an action from the policy network\n",
    "        obs_tensor = obs_batch_to_tensor([obs], deviceof(self.net))\n",
    "        # sample an action from the policy network\n",
    "        with torch.no_grad():\n",
    "            steering, throttle = self.net(obs_tensor)[0]\n",
    "        return steering.item(), throttle.item()\n"
   ]
  },
  {
   "cell_type": "code",
   "execution_count": 32,
   "metadata": {},
   "outputs": [],
   "source": [
    "env = gym.make(\"MetaDrive-validation-v0\", config={\"on_continuous_line_done\": False, \"use_render\": True})"
   ]
  },
  {
   "cell_type": "code",
   "execution_count": 33,
   "metadata": {},
   "outputs": [
    {
     "name": "stderr",
     "output_type": "stream",
     "text": [
      "/home/fidgetsinner/venvs/metadrive/lib/python3.11/site-packages/gymnasium/utils/passive_env_checker.py:210: DeprecationWarning: WARN: Current gymnasium version requires that `Env.reset` can be passed `options` to allow the environment initialisation to be passed additional information.\n",
      "  logger.deprecation(\n",
      "Known pipe types:\n",
      "  glxGraphicsPipe\n",
      "(1 aux display modules not yet loaded.)\n",
      ":device(warning): /dev/input/event6 is not readable, some features will be unavailable.\n",
      ":device(warning): /dev/input/event7 is not readable, some features will be unavailable.\n",
      ":device(warning): /dev/input/event23 is not readable, some features will be unavailable.\n"
     ]
    },
    {
     "name": "stdout",
     "output_type": "stream",
     "text": [
      "(-0.004349745810031891, -0.00658010970801115)\n",
      "[ 8.52707863 -0.89150143] -0.10208655459184435 [ 8.434904  -0.8993066] -0.10308719426393509\n",
      "(-0.01025761105120182, -0.24361279606819153)\n",
      "[ 8.13075161 -0.8702448 ] -0.10327472391218251 [ 8.238273   -0.88254017] -0.10458064079284668\n",
      "(-0.014247262850403786, 0.011446897871792316)\n",
      "[ 8.13043976 -0.90104467] -0.10552323082053672 [ 8.038336   -0.88226646] -0.10596421360969543\n",
      "(-0.006228474900126457, -0.2647111713886261)\n",
      "[ 7.70217657 -0.85665822] -0.10804511121478733 [ 7.8264923  -0.86863965] -0.10708256810903549\n",
      "(-0.008808402344584465, 0.02374834194779396)\n",
      "[ 7.70670986 -0.87484157] -0.10984420968919029 [ 7.6220136  -0.84843785] -0.10836736112833023\n",
      "(-0.003332151100039482, -0.24923846125602722)\n",
      "[ 7.30398798 -0.82830608] -0.11141507525817396 [ 7.418258  -0.8321308] -0.10931422561407089\n",
      "(-0.005708759650588036, 0.009704937227070332)\n",
      "[ 7.30536318 -0.83974504] -0.11245464018968576 [ 7.2167773 -0.8089041] -0.10959555208683014\n",
      "(-0.0005357284680940211, -0.2402489185333252)\n",
      "[ 6.91765451 -0.79049104] -0.11332283070505156 [ 7.027111  -0.7868269] -0.1096423789858818\n",
      "(-0.003197683021426201, 0.020264167338609695)\n",
      "[ 6.92239285 -0.79821056] -0.11376025491409703 [ 6.839355  -0.7673589] -0.10990039259195328\n",
      "(-0.002445800229907036, -0.2133845090866089)\n",
      "[ 6.5772624  -0.76124364] -0.11428782712604235 [ 6.6686153  -0.75048065] -0.11030494421720505\n",
      "(-0.0020159203559160233, 0.0482894666492939)\n",
      "[ 6.59027815 -0.76478308] -0.11474069766940964 [ 6.518079  -0.7356754] -0.11076677590608597\n",
      "(-0.004329802468419075, -0.1769489049911499)\n",
      "[ 6.30347538 -0.73916501] -0.11523311615496556 [ 6.3680954 -0.7246295] -0.11096543073654175\n",
      "(0.0016322359442710876, 0.012816105969250202)\n",
      "[ 6.30797338 -0.73102945] -0.11566561351599436 [ 6.2229953  -0.70202875] -0.1109381765127182\n",
      "(0.001023516058921814, -0.17546546459197998)\n",
      "[ 6.02459717 -0.69695878] -0.11560183080788722 [ 6.0884094 -0.6884112] -0.1111702099442482\n",
      "(-0.0034547802060842514, 0.04159669950604439)\n",
      "[ 6.03495932 -0.70713627] -0.11563938137925689 [ 5.962471   -0.68004286] -0.11151131987571716\n",
      "(0.007970308884978294, -0.13785183429718018)\n",
      "[ 5.81441545 -0.66134953] -0.11561208397808365 [ 5.8450174  -0.66047454] -0.11165124177932739\n",
      "(-0.0023153964430093765, 0.00791016686707735)\n",
      "[ 5.81513119 -0.67400718] -0.11507279385734304 [ 5.73038   -0.6475902] -0.11156447231769562\n",
      "(0.006408277899026871, -0.14012397825717926)\n",
      "[ 5.59026194 -0.63383448] -0.11485308306741082 [ 5.6227255 -0.6325629] -0.11153580993413925\n",
      "(-0.003386950120329857, 0.03296734765172005)\n",
      "[ 5.59779739 -0.64766014] -0.11444402152397526 [ 5.5215774 -0.6270589] -0.11159662157297134\n",
      "(0.0006676390185020864, -0.11749128252267838)\n",
      "[ 5.40834808 -0.62224889] -0.11456013534750298 [ 5.4216976  -0.61792386] -0.11151961982250214\n",
      "(0.002830337733030319, 0.010755275376141071)\n",
      "[ 5.41190338 -0.61719012] -0.11444402152397526 [ 5.3257985 -0.599346 ] -0.11153719574213028\n",
      "(-0.0019112080335617065, -0.11841034144163132)\n",
      "[ 5.21983433 -0.60136461] -0.11427198131755567 [ 5.2333636  -0.59453416] -0.11150698363780975\n",
      "(-0.0020274166017770767, 0.021099451929330826)\n",
      "[ 5.22533607 -0.60450673] -0.11442990677019793 [ 5.142998  -0.5833777] -0.11141730844974518\n",
      "(0.002274719998240471, -0.1096329465508461)\n",
      "[ 5.04888391 -0.57785213] -0.11454175953598078 [ 5.053487   -0.57061446] -0.11124975979328156\n",
      "(-0.0037274789065122604, 0.003493894822895527)\n",
      "[ 5.04885292 -0.58636689] -0.11454655322594309 [ 4.961848   -0.56096125] -0.111046701669693\n",
      "(0.0041515883058309555, -0.11987151950597763)\n",
      "[ 4.8562994  -0.55379057] -0.11466186810114376 [ 4.869771 -0.545485] -0.11091991513967514\n",
      "(-0.00593559630215168, 0.01630774512887001)\n",
      "[ 4.8591795 -0.5676192] -0.11462045594619319 [ 4.7790647 -0.5400493] -0.11100971698760986\n",
      "(-0.0022341925650835037, -0.12015389651060104)\n",
      "[ 4.66513205 -0.54431212] -0.11506986438014355 [ 4.680133  -0.5321404] -0.11081743240356445\n",
      "(0.0015552546828985214, 0.0026576416566967964)\n",
      "[ 4.66647577 -0.53898329] -0.11529024096034757 [ 4.579621   -0.51279676] -0.11059017479419708\n",
      "(0.007962023839354515, -0.12342263013124466)\n",
      "[ 4.46834993 -0.5039922 ] -0.1150044837753823 [ 4.4857397 -0.4895694] -0.11010714620351791\n",
      "(0.01399875245988369, 0.015538607724010944)\n",
      "[ 4.47420502 -0.48936853] -0.11401618469485353 [ 4.39074   -0.4621457] -0.1088545098900795\n",
      "(0.019752414897084236, -0.11739762872457504)\n",
      "[ 4.28610134 -0.45150372] -0.1123028400075512 [ 4.299261   -0.43024474] -0.10646214336156845\n",
      "(0.03870667889714241, 0.024293143302202225)\n",
      "[ 4.29613495 -0.4125841 ] -0.10954859880819168 [ 4.211073   -0.38012615] -0.10268595814704895\n",
      "(0.05043259263038635, -0.09724774211645126)\n",
      "[ 4.14167023 -0.35802856] -0.1050895350370169 [ 4.1332407 -0.3231669] -0.09702446311712265\n",
      "(0.07130983471870422, 0.030460182577371597)\n",
      "[ 4.15327263 -0.30210155] -0.09901353301000171 [ 4.0641427  -0.25549945] -0.08926954865455627\n",
      "(0.08772024512290955, -0.07638553529977798)\n",
      "[ 4.03189611 -0.23340029] -0.09089222326580515 [ 3.9964721  -0.17906062] -0.07948888093233109\n",
      "(0.10493934899568558, 0.00820921827107668)\n",
      "[ 4.03578663 -0.16686873] -0.08099445191647092 [ 3.9287562  -0.10101721] -0.06763005256652832\n",
      "(0.1316918432712555, -0.076140396296978)\n",
      "[ 3.91179991 -0.07616426] -0.06900117226340807 [ 3.8672671  -0.00538901] -0.05354651063680649\n",
      "(0.1535041779279709, 0.04953101649880409)\n",
      "[3.92301393 0.01411841] -0.05466391137691229 [3.8210113  0.09259914] -0.0369177870452404\n",
      "(0.17403846979141235, -0.019878637045621872)\n",
      "[3.88570333 0.11118203] -0.037953241326937004 [3.7780743  0.19365218] -0.018091276288032532\n",
      "(0.20068109035491943, -0.007700557820498943)\n",
      "[3.86358476 0.22333951] -0.018920427964467912 [3.7344575  0.30748722] 0.002772784326225519\n",
      "(0.2184065729379654, -0.01015868317335844)\n",
      "[3.83486176 0.33307716] 0.002532000406392676 [3.6985476  0.42144635] 0.02588743530213833\n",
      "(0.2462615966796875, 0.010371734388172626)\n",
      "[3.81793809 0.46279621] 0.026234533582261577 [3.6620886 0.54913  ] 0.05137905851006508\n",
      "(0.2745860815048218, 0.040251899510622025)\n",
      "[3.80106378 0.60713935] 0.05273738064434852 [3.642576  0.6913443] 0.07924409955739975\n",
      "(0.2886020541191101, 0.06785169988870621)\n",
      "[3.78935313 0.74542266] 0.08189060562328265 [3.6309109 0.8263073] 0.10953003913164139\n",
      "(0.31654199957847595, 0.08769718557596207)\n",
      "[3.76966929 0.90641868] 0.11331484122178104 [3.6056807 0.9816821] 0.14208544790744781\n",
      "(0.3158523142337799, -0.1523989737033844)\n",
      "[3.49469328 0.97216529] 0.14649529840113296 [3.4037964 1.0749475] 0.17696762084960938\n",
      "(0.35347989201545715, 0.23563511669635773)\n",
      "[3.49874449 1.14519966] 0.17980172310004594 [3.3742187 1.2298893] 0.210579052567482\n",
      "(0.3753024935722351, 0.5048776268959045)\n",
      "[3.55977201 1.35334003] 0.21624708261778025 [3.5196145 1.471867 ] 0.2500673234462738\n",
      "(0.3876582384109497, 0.3771299719810486)\n",
      "[3.57998991 1.55202794] 0.2559785166045634 [3.4856515 1.6392294] 0.29119187593460083\n",
      "(0.4046933650970459, 0.2888377010822296)\n",
      "[3.56132317 1.75396705] 0.2982752405113649 [3.4293942 1.8133816] 0.33424103260040283\n",
      "(0.42034605145454407, 0.2404850721359253)\n",
      "[3.51412034 1.95905864] 0.3430385842197987 [3.3561196 1.995782 ] 0.37878262996673584\n",
      "(0.4241229295730591, 0.20559832453727722)\n",
      "[3.45302773 2.15394497] 0.3898646793505529 [3.2760253 2.1727233] 0.424688458442688\n",
      "(0.44254907965660095, 0.19426575303077698)\n",
      "[3.36050344 2.36383319] 0.4383716286033108 [3.1763449 2.3708742] 0.4722968339920044\n",
      "(0.43141278624534607, 0.18833471834659576)\n",
      "[3.28054309 2.54740524] 0.48842600760745825 [3.095236  2.5442858] 0.5214563608169556\n",
      "(0.42596909403800964, 0.16572856903076172)\n",
      "[3.18577671 2.72538185] 0.538540041420025 [3.0019562 2.7165055] 0.5711866617202759\n",
      "(0.431914746761322, 0.1375168412923813)\n",
      "[3.06076026 2.90579677] 0.5888201233265571 [2.87295   2.8941317] 0.6203289031982422\n",
      "(0.41757044196128845, 0.10562362521886826)\n",
      "[2.94160652 3.06045675] 0.6392944162555843 [2.7441893 3.036189 ] 0.6702166795730591\n",
      "(0.41907888650894165, 0.10396712273359299)\n",
      "[2.80036259 3.21797752] 0.6892483940866363 [2.5990827 3.191092 ] 0.7209235429763794\n",
      "(0.4088486433029175, -0.13749352097511292)\n",
      "[2.50815678 3.16846848] 0.7385339184840785 [2.3410473 3.1777742] 0.7715402841567993\n",
      "(0.39967286586761475, 0.1667085438966751)\n",
      "[2.39749312 3.30594087] 0.7853237946240075 [2.207508  3.3087738] 0.8167906403541565\n",
      "(0.38983023166656494, 0.42361095547676086)\n",
      "[2.31847429 3.49732304] 0.8313377587803421 [2.1753643 3.591177 ] 0.8669372200965881\n",
      "(0.3858712315559387, 0.2618895471096039)\n",
      "[2.19641876 3.65341973] 0.8773722292770705 [2.0157278 3.6947315] 0.9161383509635925\n",
      "(0.37531396746635437, 0.18299159407615662)\n",
      "[2.06491256 3.78289819] 0.9232397195734503 [1.8608239 3.7915022] 0.9635611176490784\n",
      "(0.371812105178833, 0.16261063516139984)\n",
      "[1.91642976 3.9047935 ] 0.9686205171806188 [1.6919507 3.8959415] 1.0094221830368042\n",
      "(0.3570091724395752, 0.15043215453624725)\n",
      "[1.77655137 4.01338148] 1.0135206807900552 [1.5497038 3.9939966] 1.0539578199386597\n",
      "(0.28849872946739197, 0.0644010528922081)\n",
      "[1.71401346 4.06956339] 1.0556679014911632 [1.5125047 4.029226 ] 1.0968897342681885\n",
      "(0.33218327164649963, 0.07472379505634308)\n",
      "[1.51745462 4.15712833] 1.0944241524657858 [1.3182261 4.081293 ] 1.1360543966293335\n",
      "(0.35094839334487915, 0.012506243772804737)\n",
      "[1.30507278 4.2203064 ] 1.1353994158396912 [1.0949259 4.098235 ] 1.1713621616363525\n",
      "(0.2821407616138458, -0.11588839441537857)\n",
      "[1.17215109 4.07274675] 1.175816746965224 [1.019208 4.055502] 1.2088245153427124\n",
      "(0.2928864657878876, 0.13860081136226654)\n",
      "[1.04113579 4.14543438] 1.2114981121452422 [0.8799562 4.102822 ] 1.2460989952087402\n",
      "(0.27161654829978943, 0.17275196313858032)\n",
      "[0.93610269 4.22003889] 1.2461754988838134 [0.78602016 4.1916    ] 1.2772380113601685\n",
      "(0.2239638715982437, 0.09486496448516846)\n",
      "[0.87839246 4.26449537] 1.278241855910644 [0.74087876 4.203691  ] 1.305312156677246\n",
      "(0.20712780952453613, -0.019667599350214005)\n",
      "[0.79022825 4.25163174] 1.306325122632125 [0.6643568 4.1598363] 1.3342419862747192\n",
      "(0.20565031468868256, 0.043596599251031876)\n",
      "[0.68957829 4.28091002] 1.3321314199111018 [0.5709501 4.187821 ] 1.3602550029754639\n",
      "(0.16795767843723297, 0.2009841650724411)\n",
      "[0.64746016 4.34653091] 1.356228600271007 [0.5443083 4.3218102] 1.3801113367080688\n",
      "(0.13323013484477997, 0.3870472311973572)\n",
      "[0.6323759  4.45945311] 1.3768756887282274 [0.5496981 4.490632 ] 1.3976900577545166\n",
      "(0.14701242744922638, 0.03454955294728279)\n",
      "[0.54196411 4.4797039 ] 1.395149284798186 [0.46301934 4.3823495 ] 1.4169617891311646\n",
      "(0.13545969128608704, 0.09314855188131332)\n",
      "[0.4767437  4.51321793] 1.4132440828904587 [0.39838725 4.4406137 ] 1.4339805841445923\n",
      "(0.11160523444414139, 0.4925130009651184)\n",
      "[0.45129946 4.65375614] 1.4300088484000755 [0.3834095 4.7109346] 1.4490835666656494\n",
      "(0.09259417653083801, 0.371077299118042)\n",
      "[0.42837012 4.75989819] 1.4446515156069548 [0.3714624 4.7796144] 1.4604283571243286\n",
      "(0.06917496770620346, 0.4050443768501282)\n",
      "[0.42244974 4.87374926] 1.4569219970399816 [0.3749182 4.9014997] 1.470969319343567\n",
      "(0.06623301655054092, 0.4695804715156555)\n",
      "[0.39396816 5.00641394] 1.46708072488663 [0.3596923 5.0535645] 1.4805423021316528\n",
      "(0.0529615692794323, 0.4716072082519531)\n",
      "[0.38072518 5.1384449 ] 1.4761705181283684 [0.34950352 5.186569  ] 1.4874539375305176\n",
      "(0.03414645418524742, 0.40266796946525574)\n",
      "[0.385447   5.25002718] 1.4835512027734143 [0.35788095 5.27924   ] 1.4921001195907593\n",
      "(0.02773973159492016, 0.3468154966831207)\n",
      "[0.39557058 5.34545469] 1.4890273360872683 [0.3601475 5.360172 ] 1.496314525604248\n",
      "(0.030621489509940147, 0.3558819591999054)\n",
      "[0.3535094  5.44673538] 1.4939350759230932 [0.35670063 5.46206   ] 1.499914526939392\n"
     ]
    },
    {
     "name": "stderr",
     "output_type": "stream",
     "text": [
      "INFO:/home/fidgetsinner/myworkspace/metadrive/metadrive/envs/base_env.py:Episode ended! Index: 0 Reason: out_of_road.\n"
     ]
    },
    {
     "name": "stdout",
     "output_type": "stream",
     "text": [
      "(0.010061590000987053, 0.3821660280227661)\n",
      "[0.37519947 5.55115604] 1.4978614076077106 [0.3620588 5.575738 ] 1.5021787881851196\n"
     ]
    },
    {
     "name": "stderr",
     "output_type": "stream",
     "text": [
      "INFO:/home/fidgetsinner/myworkspace/metadrive/metadrive/envs/base_env.py:Episode ended! Index: 0 Reason: out_of_road.\n"
     ]
    },
    {
     "name": "stdout",
     "output_type": "stream",
     "text": [
      "(0.011217733845114708, 0.3792664110660553)\n",
      "[0.37459952 5.65619278] 1.500007482682638 [0.37354338 5.6789627 ] 1.5032975673675537\n"
     ]
    },
    {
     "name": "stderr",
     "output_type": "stream",
     "text": [
      "INFO:/home/fidgetsinner/myworkspace/metadrive/metadrive/envs/base_env.py:Episode ended! Index: 0 Reason: out_of_road.\n"
     ]
    },
    {
     "name": "stdout",
     "output_type": "stream",
     "text": [
      "(0.007325528189539909, 0.3550545275211334)\n",
      "[0.40210316 5.74820948] 1.5017375803176725 [0.3802775 5.770196 ] 1.5040465593338013\n"
     ]
    },
    {
     "name": "stderr",
     "output_type": "stream",
     "text": [
      "INFO:/home/fidgetsinner/myworkspace/metadrive/metadrive/envs/base_env.py:Episode ended! Index: 0 Reason: out_of_road.\n"
     ]
    },
    {
     "name": "stdout",
     "output_type": "stream",
     "text": [
      "(0.015015138313174248, 0.3518582880496979)\n",
      "[0.36116591 5.83976889] 1.5032160425192087 [0.38664845 5.861693  ] 1.5046573877334595\n"
     ]
    },
    {
     "name": "stderr",
     "output_type": "stream",
     "text": [
      "INFO:/home/fidgetsinner/myworkspace/metadrive/metadrive/envs/base_env.py:Episode ended! Index: 0 Reason: out_of_road.\n"
     ]
    },
    {
     "name": "stdout",
     "output_type": "stream",
     "text": [
      "(-0.00382283516228199, 0.35848191380500793)\n",
      "[0.35975888 5.88947201] 1.505005254008064 [0.39357695 5.9543447 ] 1.5050568580627441\n"
     ]
    },
    {
     "name": "stderr",
     "output_type": "stream",
     "text": [
      "INFO:/home/fidgetsinner/myworkspace/metadrive/metadrive/envs/base_env.py:Episode ended! Index: 0 Reason: out_of_road.\n"
     ]
    },
    {
     "name": "stdout",
     "output_type": "stream",
     "text": [
      "(-0.006354542449116707, 0.42756685614585876)\n",
      "[0.36285481 5.94843483] 1.5065621504648927 [0.4004763 6.041934 ] 1.5052820444107056\n"
     ]
    },
    {
     "name": "stderr",
     "output_type": "stream",
     "text": [
      "INFO:/home/fidgetsinner/myworkspace/metadrive/metadrive/envs/base_env.py:Episode ended! Index: 0 Reason: out_of_road.\n"
     ]
    },
    {
     "name": "stdout",
     "output_type": "stream",
     "text": [
      "(-0.00989091582596302, 0.46741148829460144)\n",
      "[0.39816955 6.06237745] 1.5076911227076257 [0.41156766 6.1225724 ] 1.5051860809326172\n"
     ]
    },
    {
     "name": "stderr",
     "output_type": "stream",
     "text": [
      "INFO:/home/fidgetsinner/myworkspace/metadrive/metadrive/envs/base_env.py:Episode ended! Index: 0 Reason: out_of_road.\n"
     ]
    },
    {
     "name": "stdout",
     "output_type": "stream",
     "text": [
      "(-0.0015926677733659744, 0.4121347963809967)\n",
      "[0.4036954  6.17607832] 1.5073216548794584 [0.42153323 6.206927  ] 1.504749059677124\n"
     ]
    },
    {
     "name": "stderr",
     "output_type": "stream",
     "text": [
      "INFO:/home/fidgetsinner/myworkspace/metadrive/metadrive/envs/base_env.py:Episode ended! Index: 0 Reason: out_of_road.\n"
     ]
    },
    {
     "name": "stdout",
     "output_type": "stream",
     "text": [
      "(-0.005133325234055519, 0.3526444733142853)\n",
      "[0.40840024 6.22987366] 1.5070079511478038 [0.43402797 6.286877  ] 1.5044056177139282\n"
     ]
    },
    {
     "name": "stderr",
     "output_type": "stream",
     "text": [
      "INFO:/home/fidgetsinner/myworkspace/metadrive/metadrive/envs/base_env.py:Episode ended! Index: 0 Reason: out_of_road.\n"
     ]
    },
    {
     "name": "stdout",
     "output_type": "stream",
     "text": [
      "(-0.003926688805222511, 0.3877698481082916)\n",
      "[0.41290402 6.2832365 ] 1.506641300444727 [0.43781155 6.3602657 ] 1.5041756629943848\n"
     ]
    },
    {
     "name": "stderr",
     "output_type": "stream",
     "text": [
      "INFO:/home/fidgetsinner/myworkspace/metadrive/metadrive/envs/base_env.py:Episode ended! Index: 0 Reason: out_of_road.\n"
     ]
    },
    {
     "name": "stdout",
     "output_type": "stream",
     "text": [
      "(-0.0028358418494462967, 0.4343007802963257)\n",
      "[0.42077813 6.37887669] 1.506286496647312 [0.44207415 6.4396915 ] 1.5035043954849243\n"
     ]
    },
    {
     "name": "stderr",
     "output_type": "stream",
     "text": [
      "INFO:/home/fidgetsinner/myworkspace/metadrive/metadrive/envs/base_env.py:Episode ended! Index: 0 Reason: out_of_road.\n"
     ]
    },
    {
     "name": "stdout",
     "output_type": "stream",
     "text": [
      "(-0.008379580453038216, 0.41070714592933655)\n",
      "[0.44513169 6.49085951] 1.5055488634431988 [0.46385005 6.5214725 ] 1.5025402307510376\n"
     ]
    },
    {
     "name": "stderr",
     "output_type": "stream",
     "text": [
      "INFO:/home/fidgetsinner/myworkspace/metadrive/metadrive/envs/base_env.py:Episode ended! Index: 0 Reason: out_of_road.\n"
     ]
    },
    {
     "name": "stdout",
     "output_type": "stream",
     "text": [
      "(-0.002215960994362831, 0.3417220413684845)\n",
      "[0.44735411 6.58530235] 1.5044689266540363 [0.472288  6.5940113] 1.5018751621246338\n"
     ]
    },
    {
     "name": "stderr",
     "output_type": "stream",
     "text": [
      "INFO:/home/fidgetsinner/myworkspace/metadrive/metadrive/envs/base_env.py:Episode ended! Index: 0 Reason: out_of_road.\n"
     ]
    },
    {
     "name": "stdout",
     "output_type": "stream",
     "text": [
      "(-0.0009103213087655604, 0.2955791652202606)\n",
      "[0.45079479 6.66688538] 1.5039360738929926 [0.4758818 6.661564 ] 1.5011874437332153\n"
     ]
    },
    {
     "name": "stderr",
     "output_type": "stream",
     "text": [
      "INFO:/home/fidgetsinner/myworkspace/metadrive/metadrive/envs/base_env.py:Episode ended! Index: 0 Reason: out_of_road.\n"
     ]
    },
    {
     "name": "stdout",
     "output_type": "stream",
     "text": [
      "(-0.004367085173726082, 0.27539679408073425)\n",
      "[0.46477798 6.74214649] 1.5035169214657387 [0.4903972 6.730551 ] 1.5003000497817993\n"
     ]
    },
    {
     "name": "stderr",
     "output_type": "stream",
     "text": [
      "INFO:/home/fidgetsinner/myworkspace/metadrive/metadrive/envs/base_env.py:Episode ended! Index: 0 Reason: out_of_road.\n"
     ]
    },
    {
     "name": "stdout",
     "output_type": "stream",
     "text": [
      "(-0.004012526944279671, 0.26026391983032227)\n",
      "[0.47433847 6.81352901] 1.5028264303741077 [0.50146914 6.7965508 ] 1.4995455741882324\n"
     ]
    },
    {
     "name": "stderr",
     "output_type": "stream",
     "text": [
      "INFO:/home/fidgetsinner/myworkspace/metadrive/metadrive/envs/base_env.py:Episode ended! Index: 0 Reason: out_of_road.\n"
     ]
    },
    {
     "name": "stdout",
     "output_type": "stream",
     "text": [
      "(-0.004287654533982277, 0.233280748128891)\n",
      "[0.48445958 6.87739754] 1.502067862227113 [0.51098305 6.8514752 ] 1.4988337755203247\n"
     ]
    },
    {
     "name": "stderr",
     "output_type": "stream",
     "text": [
      "INFO:/home/fidgetsinner/myworkspace/metadrive/metadrive/envs/base_env.py:Episode ended! Index: 0 Reason: out_of_road.\n"
     ]
    },
    {
     "name": "stdout",
     "output_type": "stream",
     "text": [
      "(-0.003771798685193062, 0.20381538569927216)\n",
      "[0.49268299 6.93324423] 1.5012853963705233 [0.5190603 6.897399 ] 1.4976098537445068\n"
     ]
    },
    {
     "name": "stderr",
     "output_type": "stream",
     "text": [
      "INFO:/home/fidgetsinner/myworkspace/metadrive/metadrive/envs/base_env.py:Episode ended! Index: 0 Reason: out_of_road.\n"
     ]
    },
    {
     "name": "stdout",
     "output_type": "stream",
     "text": [
      "(-0.007330896332859993, 0.1846439391374588)\n",
      "[0.51043069 6.98305511] 1.500372369041492 [0.5368797 6.940908 ] 1.4963221549987793\n"
     ]
    },
    {
     "name": "stderr",
     "output_type": "stream",
     "text": [
      "INFO:/home/fidgetsinner/myworkspace/metadrive/metadrive/envs/base_env.py:Episode ended! Index: 0 Reason: out_of_road.\n"
     ]
    },
    {
     "name": "stdout",
     "output_type": "stream",
     "text": [
      "(-0.005418943241238594, 0.16984663903713226)\n",
      "[0.51921624 7.02944756] 1.4991757691518277 [0.547153  6.9817133] 1.4954941272735596\n"
     ]
    },
    {
     "name": "stderr",
     "output_type": "stream",
     "text": [
      "INFO:/home/fidgetsinner/myworkspace/metadrive/metadrive/envs/base_env.py:Episode ended! Index: 0 Reason: out_of_road.\n"
     ]
    },
    {
     "name": "stdout",
     "output_type": "stream",
     "text": [
      "(-0.004042530432343483, 0.16771309077739716)\n",
      "[0.52634513 7.07536793] 1.498139117052757 [0.55245495 7.0265555 ] 1.494631052017212\n"
     ]
    },
    {
     "name": "stderr",
     "output_type": "stream",
     "text": [
      "INFO:/home/fidgetsinner/myworkspace/metadrive/metadrive/envs/base_env.py:Episode ended! Index: 0 Reason: out_of_road.\n"
     ]
    },
    {
     "name": "stdout",
     "output_type": "stream",
     "text": [
      "(-0.0052368734031915665, 0.16407981514930725)\n",
      "[0.53827053 7.11990595] 1.4972199519696519 [0.5638121 7.0697184] 1.4934890270233154\n"
     ]
    },
    {
     "name": "stderr",
     "output_type": "stream",
     "text": [
      "INFO:/home/fidgetsinner/myworkspace/metadrive/metadrive/envs/base_env.py:Episode ended! Index: 0 Reason: out_of_road.\n"
     ]
    },
    {
     "name": "stdout",
     "output_type": "stream",
     "text": [
      "(-0.00391949899494648, 0.14642754197120667)\n",
      "[0.54545772 7.15992069] 1.4962784995571736 [0.5712877 7.103415 ] 1.492586374282837\n"
     ]
    },
    {
     "name": "stderr",
     "output_type": "stream",
     "text": [
      "INFO:/home/fidgetsinner/myworkspace/metadrive/metadrive/envs/base_env.py:Episode ended! Index: 0 Reason: out_of_road.\n"
     ]
    },
    {
     "name": "stdout",
     "output_type": "stream",
     "text": [
      "(-0.0023469049483537674, 0.13268238306045532)\n",
      "[0.54959041 7.19635868] 1.4955287864208024 [0.57411957 7.135037  ] 1.4920015335083008\n"
     ]
    },
    {
     "name": "stderr",
     "output_type": "stream",
     "text": [
      "INFO:/home/fidgetsinner/myworkspace/metadrive/metadrive/envs/base_env.py:Episode ended! Index: 0 Reason: out_of_road.\n"
     ]
    },
    {
     "name": "stdout",
     "output_type": "stream",
     "text": [
      "(-0.0018086601048707962, 0.13446888327598572)\n",
      "[0.55424905 7.23324871] 1.4950095282648856 [0.57760185 7.17233   ] 1.4915282726287842\n"
     ]
    },
    {
     "name": "stderr",
     "output_type": "stream",
     "text": [
      "INFO:/home/fidgetsinner/myworkspace/metadrive/metadrive/envs/base_env.py:Episode ended! Index: 0 Reason: out_of_road.\n"
     ]
    },
    {
     "name": "stdout",
     "output_type": "stream",
     "text": [
      "(-0.0018348414450883865, 0.12790603935718536)\n",
      "[0.55975515 7.26825285] 1.4946035127119464 [0.5824695 7.205048 ] 1.4913051128387451\n"
     ]
    },
    {
     "name": "stderr",
     "output_type": "stream",
     "text": [
      "INFO:/home/fidgetsinner/myworkspace/metadrive/metadrive/envs/base_env.py:Episode ended! Index: 0 Reason: out_of_road.\n"
     ]
    },
    {
     "name": "stdout",
     "output_type": "stream",
     "text": [
      "(-0.0007109065190888941, 0.11069802194833755)\n",
      "[0.56188625 7.29874945] 1.494279222914959 [0.5842667 7.2296395] 1.491066336631775\n"
     ]
    },
    {
     "name": "stderr",
     "output_type": "stream",
     "text": [
      "INFO:/home/fidgetsinner/myworkspace/metadrive/metadrive/envs/base_env.py:Episode ended! Index: 0 Reason: out_of_road.\n"
     ]
    },
    {
     "name": "stdout",
     "output_type": "stream",
     "text": [
      "(-0.0016080010682344437, 0.11379799991846085)\n",
      "[0.567725   7.32981634] 1.4940416772681022 [0.5898651 7.261667 ] 1.4905669689178467\n"
     ]
    },
    {
     "name": "stderr",
     "output_type": "stream",
     "text": [
      "INFO:/home/fidgetsinner/myworkspace/metadrive/metadrive/envs/base_env.py:Episode ended! Index: 0 Reason: out_of_road.\n"
     ]
    },
    {
     "name": "stdout",
     "output_type": "stream",
     "text": [
      "(-0.0022233594208955765, 0.12050596624612808)\n",
      "[0.57452458 7.36266375] 1.4937085740723823 [0.5974232 7.296478 ] 1.4902881383895874\n"
     ]
    },
    {
     "name": "stderr",
     "output_type": "stream",
     "text": [
      "INFO:/home/fidgetsinner/myworkspace/metadrive/metadrive/envs/base_env.py:Episode ended! Index: 0 Reason: out_of_road.\n"
     ]
    },
    {
     "name": "stdout",
     "output_type": "stream",
     "text": [
      "(-0.0007851739064790308, 0.10633476823568344)\n",
      "[0.57632643 7.39197779] 1.4933574695721692 [0.5992058 7.320796 ] 1.4901599884033203\n"
     ]
    },
    {
     "name": "stderr",
     "output_type": "stream",
     "text": [
      "INFO:/home/fidgetsinner/myworkspace/metadrive/metadrive/envs/base_env.py:Episode ended! Index: 0 Reason: out_of_road.\n"
     ]
    },
    {
     "name": "stdout",
     "output_type": "stream",
     "text": [
      "(-0.0009606052772141993, 0.09342751652002335)\n",
      "[0.57984275 7.41758108] 1.4931347044693624 [0.6018444 7.342322 ] 1.4898490905761719\n"
     ]
    },
    {
     "name": "stderr",
     "output_type": "stream",
     "text": [
      "INFO:/home/fidgetsinner/myworkspace/metadrive/metadrive/envs/base_env.py:Episode ended! Index: 0 Reason: out_of_road.\n"
     ]
    },
    {
     "name": "stdout",
     "output_type": "stream",
     "text": [
      "(-0.003813626244664192, 0.08845198899507523)\n",
      "[0.5910306  7.44118786] 1.4927871785918638 [0.61347663 7.364597  ] 1.4895634651184082\n"
     ]
    },
    {
     "name": "stderr",
     "output_type": "stream",
     "text": [
      "INFO:/home/fidgetsinner/myworkspace/metadrive/metadrive/envs/base_env.py:Episode ended! Index: 0 Reason: out_of_road.\n"
     ]
    },
    {
     "name": "stdout",
     "output_type": "stream",
     "text": [
      "(0.0003761331900022924, 0.07674383372068405)\n",
      "[0.58747971 7.46272755] 1.492329081594856 [0.610853  7.3816657] 1.4894236326217651\n"
     ]
    },
    {
     "name": "stderr",
     "output_type": "stream",
     "text": [
      "INFO:/home/fidgetsinner/myworkspace/metadrive/metadrive/envs/base_env.py:Episode ended! Index: 0 Reason: out_of_road.\n"
     ]
    },
    {
     "name": "stdout",
     "output_type": "stream",
     "text": [
      "(0.00025526987155899405, 0.06707777827978134)\n",
      "[0.58813858 7.48125839] 1.492252815319139 [0.60927975 7.3973536 ] 1.4890722036361694\n"
     ]
    },
    {
     "name": "stderr",
     "output_type": "stream",
     "text": [
      "INFO:/home/fidgetsinner/myworkspace/metadrive/metadrive/envs/base_env.py:Episode ended! Index: 0 Reason: out_of_road.\n"
     ]
    },
    {
     "name": "stdout",
     "output_type": "stream",
     "text": [
      "(-0.002983706071972847, 0.056386593729257584)\n",
      "[0.59795725 7.49608994] 1.4921095372524933 [0.6192652 7.4091196] 1.4888473749160767\n"
     ]
    },
    {
     "name": "stderr",
     "output_type": "stream",
     "text": [
      "INFO:/home/fidgetsinner/myworkspace/metadrive/metadrive/envs/base_env.py:Episode ended! Index: 0 Reason: out_of_road.\n"
     ]
    },
    {
     "name": "stdout",
     "output_type": "stream",
     "text": [
      "(-0.0012967605143785477, 0.05335307493805885)\n",
      "[0.59953189 7.51074457] 1.4917038129827977 [0.6225402 7.4223228] 1.4887633323669434\n"
     ]
    },
    {
     "name": "stderr",
     "output_type": "stream",
     "text": [
      "INFO:/home/fidgetsinner/myworkspace/metadrive/metadrive/envs/base_env.py:Episode ended! Index: 0 Reason: out_of_road.\n"
     ]
    },
    {
     "name": "stdout",
     "output_type": "stream",
     "text": [
      "(-0.0012981165200471878, 0.05003753677010536)\n",
      "[0.60246551 7.52436972] 1.4913931136297478 [0.6247261 7.434896 ] 1.4883527755737305\n"
     ]
    },
    {
     "name": "stderr",
     "output_type": "stream",
     "text": [
      "INFO:/home/fidgetsinner/myworkspace/metadrive/metadrive/envs/base_env.py:Episode ended! Index: 0 Reason: out_of_road.\n"
     ]
    },
    {
     "name": "stdout",
     "output_type": "stream",
     "text": [
      "(-0.0015918631106615067, 0.029743317514657974)\n",
      "[0.60594112 7.5323348 ] 1.4910965207080977 [0.6281461 7.4360304] 1.487992525100708\n"
     ]
    },
    {
     "name": "stderr",
     "output_type": "stream",
     "text": [
      "INFO:/home/fidgetsinner/myworkspace/metadrive/metadrive/envs/base_env.py:Episode ended! Index: 0 Reason: out_of_road.\n"
     ]
    },
    {
     "name": "stdout",
     "output_type": "stream",
     "text": [
      "(-0.0007553715840913355, 0.023302678018808365)\n",
      "[0.60668021 7.53873491] 1.4908158651410952 [0.62890315 7.440082  ] 1.4878284931182861\n"
     ]
    },
    {
     "name": "stderr",
     "output_type": "stream",
     "text": [
      "INFO:/home/fidgetsinner/myworkspace/metadrive/metadrive/envs/base_env.py:Episode ended! Index: 0 Reason: out_of_road.\n"
     ]
    },
    {
     "name": "stdout",
     "output_type": "stream",
     "text": [
      "(0.0008232574327848852, 0.03450663760304451)\n",
      "[0.60421008 7.548491  ] 1.4907048030012602 [0.6258966 7.4534307] 1.4876474142074585\n"
     ]
    },
    {
     "name": "stderr",
     "output_type": "stream",
     "text": [
      "INFO:/home/fidgetsinner/myworkspace/metadrive/metadrive/envs/base_env.py:Episode ended! Index: 0 Reason: out_of_road.\n"
     ]
    },
    {
     "name": "stdout",
     "output_type": "stream",
     "text": [
      "(-0.0019219834357500076, 0.029372546821832657)\n",
      "[0.61105639 7.55607176] 1.4906608941327875 [0.6322214 7.4598117] 1.4872727394104004\n"
     ]
    },
    {
     "name": "stderr",
     "output_type": "stream",
     "text": [
      "INFO:/home/fidgetsinner/myworkspace/metadrive/metadrive/envs/base_env.py:Episode ended! Index: 0 Reason: out_of_road.\n"
     ]
    },
    {
     "name": "stdout",
     "output_type": "stream",
     "text": [
      "(-0.002320738509297371, 0.018752265721559525)\n",
      "[0.61600029 7.56086063] 1.4903358886112574 [0.63881236 7.460815  ] 1.487014651298523\n"
     ]
    },
    {
     "name": "stderr",
     "output_type": "stream",
     "text": [
      "INFO:/home/fidgetsinner/myworkspace/metadrive/metadrive/envs/base_env.py:Episode ended! Index: 0 Reason: out_of_road.\n"
     ]
    },
    {
     "name": "stdout",
     "output_type": "stream",
     "text": [
      "(-0.0013538170605897903, 0.018702272325754166)\n",
      "[0.61737907 7.56593323] 1.4899392690235382 [0.64082336 7.4655676 ] 1.4865072965621948\n"
     ]
    },
    {
     "name": "stderr",
     "output_type": "stream",
     "text": [
      "INFO:/home/fidgetsinner/myworkspace/metadrive/metadrive/envs/base_env.py:Episode ended! Index: 0 Reason: out_of_road.\n"
     ]
    },
    {
     "name": "stdout",
     "output_type": "stream",
     "text": [
      "(-0.003727557137608528, 0.016448084264993668)\n",
      "[0.62635058 7.56974506] 1.4895009210304897 [0.64963573 7.469003  ] 1.4858983755111694\n"
     ]
    },
    {
     "name": "stderr",
     "output_type": "stream",
     "text": [
      "INFO:/home/fidgetsinner/myworkspace/metadrive/metadrive/envs/base_env.py:Episode ended! Index: 0 Reason: out_of_road.\n"
     ]
    },
    {
     "name": "stdout",
     "output_type": "stream",
     "text": [
      "(-0.0029069948941469193, 0.012751881964504719)\n",
      "[0.63047385 7.57293653] 1.4888524329826769 [0.6551945 7.4705596] 1.4854170083999634\n"
     ]
    },
    {
     "name": "stderr",
     "output_type": "stream",
     "text": [
      "INFO:/home/fidgetsinner/myworkspace/metadrive/metadrive/envs/base_env.py:Episode ended! Index: 0 Reason: out_of_road.\n"
     ]
    },
    {
     "name": "stdout",
     "output_type": "stream",
     "text": [
      "(-0.001931922510266304, 0.011154462583363056)\n",
      "[0.63248998 7.57586336] 1.4882777727537082 [0.6567713 7.4728165] 1.48493230342865\n"
     ]
    },
    {
     "name": "stderr",
     "output_type": "stream",
     "text": [
      "INFO:/home/fidgetsinner/myworkspace/metadrive/metadrive/envs/base_env.py:Episode ended! Index: 0 Reason: out_of_road.\n"
     ]
    },
    {
     "name": "stdout",
     "output_type": "stream",
     "text": [
      "(-0.004175784066319466, 0.010353912599384785)\n",
      "[0.64194757 7.57792616] 1.4877097870722222 [0.6659616 7.474974 ] 1.4842092990875244\n"
     ]
    },
    {
     "name": "stderr",
     "output_type": "stream",
     "text": [
      "INFO:/home/fidgetsinner/myworkspace/metadrive/metadrive/envs/base_env.py:Episode ended! Index: 0 Reason: out_of_road.\n"
     ]
    },
    {
     "name": "stdout",
     "output_type": "stream",
     "text": [
      "(-0.0037993062287569046, 0.0005937861278653145)\n",
      "[0.64782244 7.5775876 ] 1.4869342412732776 [0.6731201 7.471108 ] 1.4835487604141235\n"
     ]
    },
    {
     "name": "stderr",
     "output_type": "stream",
     "text": [
      "INFO:/home/fidgetsinner/myworkspace/metadrive/metadrive/envs/base_env.py:Episode ended! Index: 0 Reason: out_of_road.\n"
     ]
    },
    {
     "name": "stdout",
     "output_type": "stream",
     "text": [
      "(-0.004146130755543709, -0.01011065673083067)\n",
      "[0.65337735 7.5605998 ] 1.486120437500798 [0.68002975 7.463939  ] 1.4824882745742798\n"
     ]
    },
    {
     "name": "stderr",
     "output_type": "stream",
     "text": [
      "INFO:/home/fidgetsinner/myworkspace/metadrive/metadrive/envs/base_env.py:Episode ended! Index: 0 Reason: out_of_road.\n"
     ]
    },
    {
     "name": "stdout",
     "output_type": "stream",
     "text": [
      "(-0.007615434005856514, 0.01852429285645485)\n",
      "[0.66991818 7.56424093] 1.4850852002060568 [0.6970284 7.464101 ] 1.481090784072876\n"
     ]
    },
    {
     "name": "stderr",
     "output_type": "stream",
     "text": [
      "INFO:/home/fidgetsinner/myworkspace/metadrive/metadrive/envs/base_env.py:Episode ended! Index: 0 Reason: out_of_road.\n"
     ]
    },
    {
     "name": "stdout",
     "output_type": "stream",
     "text": [
      "(-0.006338285282254219, 0.021079156547784805)\n",
      "[0.67943877 7.56923437] 1.483700065155971 [0.7092838 7.469378 ] 1.4796779155731201\n"
     ]
    },
    {
     "name": "stderr",
     "output_type": "stream",
     "text": [
      "INFO:/home/fidgetsinner/myworkspace/metadrive/metadrive/envs/base_env.py:Episode ended! Index: 0 Reason: out_of_road.\n"
     ]
    },
    {
     "name": "stdout",
     "output_type": "stream",
     "text": [
      "(-0.006765903905034065, 0.022809911519289017)\n",
      "[0.69102818 7.57450342] 1.4823249336047306 [0.7214383 7.4752617] 1.4779852628707886\n"
     ]
    },
    {
     "name": "stderr",
     "output_type": "stream",
     "text": [
      "INFO:/home/fidgetsinner/myworkspace/metadrive/metadrive/envs/base_env.py:Episode ended! Index: 0 Reason: out_of_road.\n"
     ]
    },
    {
     "name": "stdout",
     "output_type": "stream",
     "text": [
      "(-0.011962564662098885, 0.017014775425195694)\n",
      "[0.71675593 7.57672882] 1.4806444872792692 [0.7491052 7.4764233] 1.475792407989502\n"
     ]
    },
    {
     "name": "stderr",
     "output_type": "stream",
     "text": [
      "INFO:/home/fidgetsinner/myworkspace/metadrive/metadrive/envs/base_env.py:Episode ended! Index: 0 Reason: out_of_road.\n"
     ]
    },
    {
     "name": "stdout",
     "output_type": "stream",
     "text": [
      "(-0.011471787467598915, 0.012234692461788654)\n",
      "[0.73509765 7.57834005] 1.4783732935673788 [0.77207625 7.4757066 ] 1.4735686779022217\n"
     ]
    },
    {
     "name": "stderr",
     "output_type": "stream",
     "text": [
      "INFO:/home/fidgetsinner/myworkspace/metadrive/metadrive/envs/base_env.py:Episode ended! Index: 0 Reason: out_of_road.\n"
     ]
    },
    {
     "name": "stdout",
     "output_type": "stream",
     "text": [
      "(-0.01114647276699543, 0.0203871913254261)\n",
      "[0.75276864 7.58224773] 1.4760025142754767 [0.79118854 7.4819965 ] 1.4708153009414673\n"
     ]
    },
    {
     "name": "stderr",
     "output_type": "stream",
     "text": [
      "INFO:/home/fidgetsinner/myworkspace/metadrive/metadrive/envs/base_env.py:Episode ended! Index: 0 Reason: out_of_road.\n"
     ]
    },
    {
     "name": "stdout",
     "output_type": "stream",
     "text": [
      "(-0.014647694304585457, 0.017636258155107498)\n",
      "[0.78067267 7.58422565] 1.473460743396835 [0.82020426 7.4831395 ] 1.4676357507705688\n"
     ]
    },
    {
     "name": "stderr",
     "output_type": "stream",
     "text": [
      "INFO:/home/fidgetsinner/myworkspace/metadrive/metadrive/envs/base_env.py:Episode ended! Index: 0 Reason: out_of_road.\n"
     ]
    },
    {
     "name": "stdout",
     "output_type": "stream",
     "text": [
      "(-0.014677407220005989, 0.0018559442833065987)\n",
      "[0.80453908 7.58219576] 1.4705123161421163 [0.84605974 7.474864  ] 1.464428186416626\n"
     ]
    },
    {
     "name": "stderr",
     "output_type": "stream",
     "text": [
      "INFO:/home/fidgetsinner/myworkspace/metadrive/metadrive/envs/base_env.py:Episode ended! Index: 0 Reason: out_of_road.\n"
     ]
    },
    {
     "name": "stdout",
     "output_type": "stream",
     "text": [
      "(-0.014045732095837593, -0.005143950693309307)\n",
      "[0.82524872 7.57152891] 1.4674802073725202 [0.8674576 7.4683237] 1.4610859155654907\n"
     ]
    },
    {
     "name": "stderr",
     "output_type": "stream",
     "text": [
      "INFO:/home/fidgetsinner/myworkspace/metadrive/metadrive/envs/base_env.py:Episode ended! Index: 0 Reason: out_of_road.\n"
     ]
    },
    {
     "name": "stdout",
     "output_type": "stream",
     "text": [
      "(-0.016444647684693336, 0.006522570736706257)\n",
      "[0.85430622 7.57003212] 1.4643707753851487 [0.89581454 7.464253  ] 1.4575517177581787\n"
     ]
    },
    {
     "name": "stderr",
     "output_type": "stream",
     "text": [
      "INFO:/home/fidgetsinner/myworkspace/metadrive/metadrive/envs/base_env.py:Episode ended! Index: 0 Reason: out_of_road.\n"
     ]
    },
    {
     "name": "stdout",
     "output_type": "stream",
     "text": [
      "(-0.022154325619339943, 0.628970205783844)\n",
      "[0.91739416 7.73733664] 1.4606830962237165 [0.97439575 7.8286557 ] 1.454150676727295\n"
     ]
    },
    {
     "name": "stderr",
     "output_type": "stream",
     "text": [
      "INFO:/home/fidgetsinner/myworkspace/metadrive/metadrive/envs/base_env.py:Episode ended! Index: 0 Reason: out_of_road.\n"
     ]
    },
    {
     "name": "stdout",
     "output_type": "stream",
     "text": [
      "(-0.014108540490269661, 0.33547237515449524)\n",
      "[0.94257724 7.82770348] 1.4566056301472372 [1.0007105 7.824476 ] 1.4501720666885376\n"
     ]
    },
    {
     "name": "stderr",
     "output_type": "stream",
     "text": [
      "INFO:/home/fidgetsinner/myworkspace/metadrive/metadrive/envs/base_env.py:Episode ended! Index: 0 Reason: out_of_road.\n"
     ]
    },
    {
     "name": "stdout",
     "output_type": "stream",
     "text": [
      "(-0.02182593382894993, -0.35993796586990356)\n",
      "[0.91403311 7.24107933] 1.4528957968144862 [0.9801815 7.4469185] 1.4465347528457642\n"
     ]
    },
    {
     "name": "stderr",
     "output_type": "stream",
     "text": [
      "INFO:/home/fidgetsinner/myworkspace/metadrive/metadrive/envs/base_env.py:Episode ended! Index: 0 Reason: out_of_road.\n"
     ]
    },
    {
     "name": "stdout",
     "output_type": "stream",
     "text": [
      "(-0.012861819937825203, 0.5156944394111633)\n",
      "[0.94173884 7.38119888] 1.4491317182192818 [1.0048403 7.4337683] 1.4430122375488281\n"
     ]
    },
    {
     "name": "stderr",
     "output_type": "stream",
     "text": [
      "INFO:/home/fidgetsinner/myworkspace/metadrive/metadrive/envs/base_env.py:Episode ended! Index: 0 Reason: out_of_road.\n"
     ]
    },
    {
     "name": "stdout",
     "output_type": "stream",
     "text": [
      "(-0.016697021201252937, 0.2509026527404785)\n",
      "[0.97974133 7.44605637] 1.4459678828442675 [1.0309957 7.418855 ] 1.4394099712371826\n"
     ]
    },
    {
     "name": "stderr",
     "output_type": "stream",
     "text": [
      "INFO:/home/fidgetsinner/myworkspace/metadrive/metadrive/envs/base_env.py:Episode ended! Index: 0 Reason: out_of_road.\n"
     ]
    },
    {
     "name": "stdout",
     "output_type": "stream",
     "text": [
      "(-0.01622726209461689, 0.11942438036203384)\n",
      "[1.00922263 7.47535896] 1.4425893550735012 [1.0548108 7.4065995] 1.4359744787216187\n"
     ]
    },
    {
     "name": "stderr",
     "output_type": "stream",
     "text": [
      "INFO:/home/fidgetsinner/myworkspace/metadrive/metadrive/envs/base_env.py:Episode ended! Index: 0 Reason: out_of_road.\n"
     ]
    },
    {
     "name": "stdout",
     "output_type": "stream",
     "text": [
      "(-0.0131749976426363, 0.04537852481007576)\n",
      "[1.0278033  7.48549557] 1.4393500107592043 [1.0686216 7.392741 ] 1.4328243732452393\n"
     ]
    },
    {
     "name": "stderr",
     "output_type": "stream",
     "text": [
      "INFO:/home/fidgetsinner/myworkspace/metadrive/metadrive/envs/base_env.py:Episode ended! Index: 0 Reason: out_of_road.\n"
     ]
    },
    {
     "name": "stdout",
     "output_type": "stream",
     "text": [
      "(-0.014148147776722908, 0.010139022953808308)\n",
      "[1.05153847 7.48499107] 1.4364112457858162 [1.0865757 7.3816743] 1.4297406673431396\n"
     ]
    },
    {
     "name": "stderr",
     "output_type": "stream",
     "text": [
      "INFO:/home/fidgetsinner/myworkspace/metadrive/metadrive/envs/base_env.py:Episode ended! Index: 0 Reason: out_of_road.\n"
     ]
    },
    {
     "name": "stdout",
     "output_type": "stream",
     "text": [
      "(-0.014013992622494698, -0.027852650731801987)\n",
      "[1.06712878 7.43699026] 1.4334679534385737 [1.1034591 7.3580446] 1.4271507263183594\n"
     ]
    },
    {
     "name": "stderr",
     "output_type": "stream",
     "text": [
      "INFO:/home/fidgetsinner/myworkspace/metadrive/metadrive/envs/base_env.py:Episode ended! Index: 0 Reason: out_of_road.\n"
     ]
    },
    {
     "name": "stdout",
     "output_type": "stream",
     "text": [
      "(-0.011306533589959145, -0.012522722594439983)\n",
      "[1.07854593 7.41477728] 1.4306811134829953 [1.1112282 7.321081 ] 1.4251453876495361\n"
     ]
    },
    {
     "name": "stderr",
     "output_type": "stream",
     "text": [
      "INFO:/home/fidgetsinner/myworkspace/metadrive/metadrive/envs/base_env.py:Episode ended! Index: 0 Reason: out_of_road.\n"
     ]
    },
    {
     "name": "stdout",
     "output_type": "stream",
     "text": [
      "(-0.010598288848996162, -0.018654193729162216)\n",
      "[1.08933282 7.38252974] 1.4282495308944556 [1.119783  7.2954016] 1.4231305122375488\n"
     ]
    },
    {
     "name": "stderr",
     "output_type": "stream",
     "text": [
      "INFO:/home/fidgetsinner/myworkspace/metadrive/metadrive/envs/base_env.py:Episode ended! Index: 0 Reason: out_of_road.\n"
     ]
    },
    {
     "name": "stdout",
     "output_type": "stream",
     "text": [
      "(-0.009651260450482368, -0.01916758343577385)\n",
      "[1.09848583 7.34965086] 1.4260420533116456 [1.1269426 7.2634296] 1.4212298393249512\n"
     ]
    },
    {
     "name": "stderr",
     "output_type": "stream",
     "text": [
      "INFO:/home/fidgetsinner/myworkspace/metadrive/metadrive/envs/base_env.py:Episode ended! Index: 0 Reason: out_of_road.\n"
     ]
    },
    {
     "name": "stdout",
     "output_type": "stream",
     "text": [
      "(-0.006007330492138863, -0.036061014980077744)\n",
      "[1.09459484 7.29094124] 1.4241790223263244 [1.1234672 7.2193995] 1.4198884963989258\n"
     ]
    },
    {
     "name": "stderr",
     "output_type": "stream",
     "text": [
      "INFO:/home/fidgetsinner/myworkspace/metadrive/metadrive/envs/base_env.py:Episode ended! Index: 0 Reason: out_of_road.\n"
     ]
    },
    {
     "name": "stdout",
     "output_type": "stream",
     "text": [
      "(-0.003335343673825264, 0.005239118821918964)\n",
      "[1.09655344 7.2921195 ] 1.4229129222545867 [1.1186031 7.18772  ] 1.4190253019332886\n"
     ]
    },
    {
     "name": "stderr",
     "output_type": "stream",
     "text": [
      "INFO:/home/fidgetsinner/myworkspace/metadrive/metadrive/envs/base_env.py:Episode ended! Index: 0 Reason: out_of_road.\n"
     ]
    },
    {
     "name": "stdout",
     "output_type": "stream",
     "text": [
      "(-0.005789974704384804, -0.02691999450325966)\n",
      "[1.10144389 7.24707699] 1.4219546836048629 [1.1238579 7.168662 ] 1.4184162616729736\n"
     ]
    },
    {
     "name": "stderr",
     "output_type": "stream",
     "text": [
      "INFO:/home/fidgetsinner/myworkspace/metadrive/metadrive/envs/base_env.py:Episode ended! Index: 0 Reason: out_of_road.\n"
     ]
    },
    {
     "name": "stdout",
     "output_type": "stream",
     "text": [
      "(-0.0006185044185258448, 0.002291549928486347)\n",
      "[1.09674001 7.24843216] 1.4210967795492069 [1.1168487 7.142894 ] 1.4180843830108643\n"
     ]
    },
    {
     "name": "stderr",
     "output_type": "stream",
     "text": [
      "INFO:/home/fidgetsinner/myworkspace/metadrive/metadrive/envs/base_env.py:Episode ended! Index: 0 Reason: out_of_road.\n"
     ]
    },
    {
     "name": "stdout",
     "output_type": "stream",
     "text": [
      "(0.0016843434423208237, -0.050180625170469284)\n",
      "[1.07909405 7.16854   ] 1.4208846920578964 [1.1016587 7.107734 ] 1.4178439378738403\n"
     ]
    },
    {
     "name": "stderr",
     "output_type": "stream",
     "text": [
      "INFO:/home/fidgetsinner/myworkspace/metadrive/metadrive/envs/base_env.py:Episode ended! Index: 0 Reason: out_of_road.\n"
     ]
    },
    {
     "name": "stdout",
     "output_type": "stream",
     "text": [
      "(0.00033759133657440543, 0.017428789287805557)\n",
      "[1.08079648 7.17315197] 1.421012790106329 [1.0971261 7.0731707] 1.417784571647644\n"
     ]
    },
    {
     "name": "stderr",
     "output_type": "stream",
     "text": [
      "INFO:/home/fidgetsinner/myworkspace/metadrive/metadrive/envs/base_env.py:Episode ended! Index: 0 Reason: out_of_road.\n"
     ]
    },
    {
     "name": "stdout",
     "output_type": "stream",
     "text": [
      "(-3.49624315276742e-06, -0.05529840663075447)\n",
      "[1.06835043 7.08406734] 1.421084046310245 [1.0891622 7.029178 ] 1.418238639831543\n"
     ]
    },
    {
     "name": "stderr",
     "output_type": "stream",
     "text": [
      "INFO:/home/fidgetsinner/myworkspace/metadrive/metadrive/envs/base_env.py:Episode ended! Index: 0 Reason: out_of_road.\n"
     ]
    },
    {
     "name": "stdout",
     "output_type": "stream",
     "text": [
      "(0.0058144088834524155, 0.004735802300274372)\n",
      "[1.05356514 7.08755732] 1.4213855161456426 [1.0682238 6.981581 ] 1.4189802408218384\n"
     ]
    },
    {
     "name": "stderr",
     "output_type": "stream",
     "text": [
      "INFO:/home/fidgetsinner/myworkspace/metadrive/metadrive/envs/base_env.py:Episode ended! Index: 0 Reason: out_of_road.\n"
     ]
    },
    {
     "name": "stdout",
     "output_type": "stream",
     "text": [
      "(0.0031838472932577133, -0.054985057562589645)\n",
      "[1.03842747 6.99938917] 1.4221814018374124 [1.0552435 6.9432235] 1.4196984767913818\n"
     ]
    },
    {
     "name": "stderr",
     "output_type": "stream",
     "text": [
      "INFO:/home/fidgetsinner/myworkspace/metadrive/metadrive/envs/base_env.py:Episode ended! Index: 0 Reason: out_of_road.\n"
     ]
    },
    {
     "name": "stdout",
     "output_type": "stream",
     "text": [
      "(0.004814354702830315, 0.010441412217915058)\n",
      "[1.03068352 7.00343704] 1.4229369239939107 [1.0425911 6.900482 ] 1.4208993911743164\n"
     ]
    },
    {
     "name": "stderr",
     "output_type": "stream",
     "text": [
      "INFO:/home/fidgetsinner/myworkspace/metadrive/metadrive/envs/base_env.py:Episode ended! Index: 0 Reason: out_of_road.\n"
     ]
    },
    {
     "name": "stdout",
     "output_type": "stream",
     "text": [
      "(0.009949436411261559, -0.053234536200761795)\n",
      "[0.99847859 6.92054605] 1.4240731450282365 [1.0130278 6.8584895] 1.4226435422897339\n"
     ]
    },
    {
     "name": "stderr",
     "output_type": "stream",
     "text": [
      "INFO:/home/fidgetsinner/myworkspace/metadrive/metadrive/envs/base_env.py:Episode ended! Index: 0 Reason: out_of_road.\n"
     ]
    },
    {
     "name": "stdout",
     "output_type": "stream",
     "text": [
      "(0.010316809639334679, 0.008271818049252033)\n",
      "[0.98398167 6.9248991 ] 1.4258077950042596 [0.9907559 6.8194323] 1.4243123531341553\n"
     ]
    },
    {
     "name": "stderr",
     "output_type": "stream",
     "text": [
      "INFO:/home/fidgetsinner/myworkspace/metadrive/metadrive/envs/base_env.py:Episode ended! Index: 0 Reason: out_of_road.\n"
     ]
    },
    {
     "name": "stdout",
     "output_type": "stream",
     "text": [
      "(0.005988983437418938, -0.06150451675057411)\n",
      "[0.96725821 6.82624626] 1.427537418263725 [0.9781727 6.775305 ] 1.4261763095855713\n"
     ]
    },
    {
     "name": "stderr",
     "output_type": "stream",
     "text": [
      "INFO:/home/fidgetsinner/myworkspace/metadrive/metadrive/envs/base_env.py:Episode ended! Index: 0 Reason: out_of_road.\n"
     ]
    },
    {
     "name": "stdout",
     "output_type": "stream",
     "text": [
      "(0.01332053355872631, 0.017669234424829483)\n",
      "[0.9425596  6.83450174] 1.4291876626779496 [0.94930357 6.7309766 ] 1.4286128282546997\n"
     ]
    },
    {
     "name": "stderr",
     "output_type": "stream",
     "text": [
      "INFO:/home/fidgetsinner/myworkspace/metadrive/metadrive/envs/base_env.py:Episode ended! Index: 0 Reason: out_of_road.\n"
     ]
    },
    {
     "name": "stdout",
     "output_type": "stream",
     "text": [
      "(0.01496150903403759, -0.04299246892333031)\n",
      "[0.91057664 6.76820612] 1.4315655492810109 [0.9159944 6.6952453] 1.430959939956665\n"
     ]
    },
    {
     "name": "stderr",
     "output_type": "stream",
     "text": [
      "INFO:/home/fidgetsinner/myworkspace/metadrive/metadrive/envs/base_env.py:Episode ended! Index: 0 Reason: out_of_road.\n"
     ]
    },
    {
     "name": "stdout",
     "output_type": "stream",
     "text": [
      "(0.013279033824801445, 0.0013860510662198067)\n",
      "[0.89548314 6.77060366] 1.4342070638648554 [0.8954789 6.661403 ] 1.4333573579788208\n"
     ]
    },
    {
     "name": "stderr",
     "output_type": "stream",
     "text": [
      "INFO:/home/fidgetsinner/myworkspace/metadrive/metadrive/envs/base_env.py:Episode ended! Index: 0 Reason: out_of_road.\n"
     ]
    },
    {
     "name": "stdout",
     "output_type": "stream",
     "text": [
      "(0.0136698167771101, -0.0584581159055233)\n",
      "[0.86575013 6.67857695] 1.4367764317502933 [0.87109745 6.6203575 ] 1.4364244937896729\n"
     ]
    },
    {
     "name": "stderr",
     "output_type": "stream",
     "text": [
      "INFO:/home/fidgetsinner/myworkspace/metadrive/metadrive/envs/base_env.py:Episode ended! Index: 0 Reason: out_of_road.\n"
     ]
    },
    {
     "name": "stdout",
     "output_type": "stream",
     "text": [
      "(0.015999479219317436, -0.00085399579256773)\n",
      "[0.84294391 6.68002605] 1.4394432630092497 [0.8422627 6.570067 ] 1.4395867586135864\n"
     ]
    },
    {
     "name": "stderr",
     "output_type": "stream",
     "text": [
      "INFO:/home/fidgetsinner/myworkspace/metadrive/metadrive/envs/base_env.py:Episode ended! Index: 0 Reason: out_of_road.\n"
     ]
    },
    {
     "name": "stdout",
     "output_type": "stream",
     "text": [
      "(0.01609758846461773, -0.08372697979211807)\n",
      "[0.80562079 6.54739666] 1.4423443192860788 [0.8108911 6.5105   ] 1.4424134492874146\n"
     ]
    },
    {
     "name": "stderr",
     "output_type": "stream",
     "text": [
      "INFO:/home/fidgetsinner/myworkspace/metadrive/metadrive/envs/base_env.py:Episode ended! Index: 0 Reason: out_of_road.\n"
     ]
    },
    {
     "name": "stdout",
     "output_type": "stream",
     "text": [
      "(0.01849949173629284, 0.004360769875347614)\n",
      "[0.78064805 6.55154705] 1.4453911004088056 [0.7777926 6.442143 ] 1.4453397989273071\n"
     ]
    },
    {
     "name": "stderr",
     "output_type": "stream",
     "text": [
      "INFO:/home/fidgetsinner/myworkspace/metadrive/metadrive/envs/base_env.py:Episode ended! Index: 0 Reason: out_of_road.\n"
     ]
    },
    {
     "name": "stdout",
     "output_type": "stream",
     "text": [
      "(0.01644757203757763, -0.10042987018823624)\n",
      "[0.74417043 6.39135695] 1.448589082502421 [0.748836  6.3705564] 1.4485033750534058\n"
     ]
    },
    {
     "name": "stderr",
     "output_type": "stream",
     "text": [
      "INFO:/home/fidgetsinner/myworkspace/metadrive/metadrive/envs/base_env.py:Episode ended! Index: 0 Reason: out_of_road.\n"
     ]
    },
    {
     "name": "stdout",
     "output_type": "stream",
     "text": [
      "(0.018280280753970146, 0.028325963765382767)\n",
      "[0.72226948 6.40168333] 1.4516840085842295 [0.72051793 6.303883  ] 1.4518581628799438\n"
     ]
    },
    {
     "name": "stderr",
     "output_type": "stream",
     "text": [
      "INFO:/home/fidgetsinner/myworkspace/metadrive/metadrive/envs/base_env.py:Episode ended! Index: 0 Reason: out_of_road.\n"
     ]
    },
    {
     "name": "stdout",
     "output_type": "stream",
     "text": [
      "(0.0158087145537138, -0.07075242698192596)\n",
      "[0.69426215 6.28901911] 1.4547957541927978 [0.69555324 6.2439604 ] 1.455466628074646\n"
     ]
    },
    {
     "name": "stderr",
     "output_type": "stream",
     "text": [
      "INFO:/home/fidgetsinner/myworkspace/metadrive/metadrive/envs/base_env.py:Episode ended! Index: 0 Reason: out_of_road.\n"
     ]
    },
    {
     "name": "stdout",
     "output_type": "stream",
     "text": [
      "(0.023643745109438896, 0.005681072361767292)\n",
      "[0.65905911 6.29415035] 1.458005595675643 [0.6583061 6.186466 ] 1.4592466354370117\n"
     ]
    },
    {
     "name": "stderr",
     "output_type": "stream",
     "text": [
      "INFO:/home/fidgetsinner/myworkspace/metadrive/metadrive/envs/base_env.py:Episode ended! Index: 0 Reason: out_of_road.\n"
     ]
    },
    {
     "name": "stdout",
     "output_type": "stream",
     "text": [
      "(0.02135859988629818, -0.47174492478370667)\n",
      "[0.55982846 5.53297472] 1.4617344872549447 [0.59079194 5.821496  ] 1.4625822305679321\n"
     ]
    },
    {
     "name": "stderr",
     "output_type": "stream",
     "text": [
      "INFO:/home/fidgetsinner/myworkspace/metadrive/metadrive/envs/base_env.py:Episode ended! Index: 0 Reason: out_of_road.\n"
     ]
    },
    {
     "name": "stdout",
     "output_type": "stream",
     "text": [
      "(0.01742076687514782, 0.5653784871101379)\n",
      "[0.5647431  5.68944693] 1.4650078451297883 [0.5715151 5.759868 ] 1.4657378196716309\n"
     ]
    },
    {
     "name": "stderr",
     "output_type": "stream",
     "text": [
      "INFO:/home/fidgetsinner/myworkspace/metadrive/metadrive/envs/base_env.py:Episode ended! Index: 0 Reason: out_of_road.\n"
     ]
    },
    {
     "name": "stdout",
     "output_type": "stream",
     "text": [
      "(0.023068590089678764, 0.7315334677696228)\n",
      "[0.55689764 5.89303017] 1.4681737610994041 [0.5745472 6.0089407] 1.4696050882339478\n"
     ]
    },
    {
     "name": "stderr",
     "output_type": "stream",
     "text": [
      "INFO:/home/fidgetsinner/myworkspace/metadrive/metadrive/envs/base_env.py:Episode ended! Index: 0 Reason: out_of_road.\n"
     ]
    },
    {
     "name": "stdout",
     "output_type": "stream",
     "text": [
      "(0.019762201234698296, 0.2416744828224182)\n",
      "[0.5468756  5.96100378] 1.471698979111963 [0.5464605 5.9409966] 1.4734573364257812\n"
     ]
    },
    {
     "name": "stderr",
     "output_type": "stream",
     "text": [
      "INFO:/home/fidgetsinner/myworkspace/metadrive/metadrive/envs/base_env.py:Episode ended! Index: 0 Reason: out_of_road.\n"
     ]
    },
    {
     "name": "stdout",
     "output_type": "stream",
     "text": [
      "(0.021636245772242546, -0.01358273159712553)\n",
      "[0.52179152 5.94101286] 1.4751336912593525 [0.5161228 5.8516   ] 1.4766303300857544\n"
     ]
    },
    {
     "name": "stderr",
     "output_type": "stream",
     "text": [
      "INFO:/home/fidgetsinner/myworkspace/metadrive/metadrive/envs/base_env.py:Episode ended! Index: 0 Reason: out_of_road.\n"
     ]
    },
    {
     "name": "stdout",
     "output_type": "stream",
     "text": [
      "(0.02000759355723858, -0.1063835471868515)\n",
      "[0.48920217 5.77013683] 1.478591206723575 [0.4891262 5.763084 ] 1.4797364473342896\n"
     ]
    },
    {
     "name": "stderr",
     "output_type": "stream",
     "text": [
      "INFO:/home/fidgetsinner/myworkspace/metadrive/metadrive/envs/base_env.py:Episode ended! Index: 0 Reason: out_of_road.\n"
     ]
    },
    {
     "name": "stdout",
     "output_type": "stream",
     "text": [
      "(0.018852291628718376, 0.002819967456161976)\n",
      "[0.47319889 5.77225018] 1.4818280709691054 [0.46350002 5.675158  ] 1.483239769935608\n"
     ]
    },
    {
     "name": "stderr",
     "output_type": "stream",
     "text": [
      "INFO:/home/fidgetsinner/myworkspace/metadrive/metadrive/envs/base_env.py:Episode ended! Index: 0 Reason: out_of_road.\n"
     ]
    },
    {
     "name": "stdout",
     "output_type": "stream",
     "text": [
      "(0.020535459741950035, -0.12405175715684891)\n",
      "[0.43640971 5.572721  ] 1.4849700767455598 [0.4375123 5.5824533] 1.4867311716079712\n"
     ]
    },
    {
     "name": "stderr",
     "output_type": "stream",
     "text": [
      "INFO:/home/fidgetsinner/myworkspace/metadrive/metadrive/envs/base_env.py:Episode ended! Index: 0 Reason: out_of_road.\n"
     ]
    },
    {
     "name": "stdout",
     "output_type": "stream",
     "text": [
      "(0.01833110861480236, 0.02915458008646965)\n",
      "[0.42323539 5.58182001] 1.4880697632278164 [0.4120396 5.497944 ] 1.4900721311569214\n"
     ]
    },
    {
     "name": "stderr",
     "output_type": "stream",
     "text": [
      "INFO:/home/fidgetsinner/myworkspace/metadrive/metadrive/envs/base_env.py:Episode ended! Index: 0 Reason: out_of_road.\n"
     ]
    },
    {
     "name": "stdout",
     "output_type": "stream",
     "text": [
      "(0.02065492980182171, -0.08478771895170212)\n",
      "[0.39288557 5.44571638] 1.4910758978544063 [0.3887844 5.4226403] 1.4933497905731201\n"
     ]
    },
    {
     "name": "stderr",
     "output_type": "stream",
     "text": [
      "INFO:/home/fidgetsinner/myworkspace/metadrive/metadrive/envs/base_env.py:Episode ended! Index: 0 Reason: out_of_road.\n"
     ]
    },
    {
     "name": "stdout",
     "output_type": "stream",
     "text": [
      "(0.01907402090728283, -0.01278222631663084)\n",
      "[0.37701732 5.42599344] 1.4941204152902063 [0.36530218 5.3411155 ] 1.4968369007110596\n"
     ]
    },
    {
     "name": "stderr",
     "output_type": "stream",
     "text": [
      "INFO:/home/fidgetsinner/myworkspace/metadrive/metadrive/envs/base_env.py:Episode ended! Index: 0 Reason: out_of_road.\n"
     ]
    },
    {
     "name": "stdout",
     "output_type": "stream",
     "text": [
      "(0.023803194984793663, -0.1102311834692955)\n",
      "[0.34066814 5.24861336] 1.4972109138667022 [0.33603942 5.247472  ] 1.5001779794692993\n"
     ]
    },
    {
     "name": "stderr",
     "output_type": "stream",
     "text": [
      "INFO:/home/fidgetsinner/myworkspace/metadrive/metadrive/envs/base_env.py:Episode ended! Index: 0 Reason: out_of_road.\n"
     ]
    },
    {
     "name": "stdout",
     "output_type": "stream",
     "text": [
      "(0.016013091430068016, -3.645848482847214e-05)\n",
      "[0.33595836 5.24892378] 1.5003104838356611 [0.31829196 5.1539836 ] 1.5032390356063843\n"
     ]
    },
    {
     "name": "stderr",
     "output_type": "stream",
     "text": [
      "INFO:/home/fidgetsinner/myworkspace/metadrive/metadrive/envs/base_env.py:Episode ended! Index: 0 Reason: out_of_road.\n"
     ]
    },
    {
     "name": "stdout",
     "output_type": "stream",
     "text": [
      "(0.018529249355196953, -0.10944399237632751)\n",
      "[0.30956358 5.07217932] 1.5029443127030468 [0.30060983 5.073081  ] 1.5064431428909302\n"
     ]
    },
    {
     "name": "stderr",
     "output_type": "stream",
     "text": [
      "INFO:/home/fidgetsinner/myworkspace/metadrive/metadrive/envs/base_env.py:Episode ended! Index: 0 Reason: out_of_road.\n"
     ]
    },
    {
     "name": "stdout",
     "output_type": "stream",
     "text": [
      "(0.0128611009567976, 0.08976415544748306)\n",
      "[0.307614   5.09717178] 1.5053743722963384 [0.28924456 5.0363884 ] 1.5096673965454102\n"
     ]
    }
   ],
   "source": [
    "scenario = trajectories[0]\n",
    "with torch.no_grad():\n",
    "    # reset\n",
    "    env.reset()\n",
    "\n",
    "    # allow car to settle\n",
    "    for _ in range(10):\n",
    "        env.step([0,0])\n",
    "\n",
    "    st = scenario[0]\n",
    "\n",
    "    # set the initial state\n",
    "    env.vehicle.set_velocity(st.velocity)\n",
    "    env.vehicle.set_heading_theta(st.heading)\n",
    "\n",
    "\n",
    "    for i in range(len(scenario)-1):\n",
    "        st0 = scenario[i]\n",
    "        st1 = scenario[i+1]\n",
    "        st0_pred = get_metadrive_state(env)\n",
    "        action = IDMPolicy(idm)((st0_pred, st1))\n",
    "        env.step(action)\n",
    "        st1_pred = get_metadrive_state(env)\n",
    "        print(action)\n",
    "        print(st1_pred.velocity, st1_pred.heading, st1.velocity, st1.heading)\n",
    "        "
   ]
  },
  {
   "cell_type": "code",
   "execution_count": 34,
   "metadata": {},
   "outputs": [],
   "source": [
    "env.close()"
   ]
  },
  {
   "cell_type": "code",
   "execution_count": 35,
   "metadata": {},
   "outputs": [],
   "source": [
    "env = MetaDriveEnv(config={\"on_continuous_line_done\": False, \"use_render\": False})"
   ]
  },
  {
   "cell_type": "code",
   "execution_count": 36,
   "metadata": {},
   "outputs": [],
   "source": [
    "def compute_loss(s_pred: State, s_true:State) -> float:\n",
    "    \"\"\"\n",
    "    Computes the loss between the predicted state and the true state\n",
    "    \"\"\"\n",
    "    vel_error = np.linalg.norm(s_pred.velocity - s_true.velocity) ** 2\n",
    "    heading_error = normalize_angle(s_pred.heading - s_true.heading) ** 2\n",
    "    return float(vel_error + heading_error)\n",
    "\n",
    "\n",
    "def run_game(env: MetaDriveEnv, policy:typing.Callable[[Observation], Action], o: Observation) -> tuple[Action, float, State]:\n",
    "    s0, s1 = o\n",
    "    a = policy(o)\n",
    "    s1_pred = next_state(env, s0, a)\n",
    "    r = -compute_loss(s1, s1_pred)\n",
    "    return a, r, s1_pred\n",
    "\n",
    "def run_game_est(mm:MetadriveModel, policy:typing.Callable[[Observation], Action], o: Observation) -> tuple[Action, float, State]:\n",
    "    device = deviceof(mm)\n",
    "    s0, s1 = o\n",
    "    a = policy(o)\n",
    "    with torch.no_grad():\n",
    "        s1_pred_tensor = mm(state_batch_to_tensor([s0],device), action_batch_to_tensor([a],device)).detach().cpu().numpy()[0]\n",
    "    s1_pred = State(velocity=s1_pred_tensor[:2], heading=np.arctan2(s1_pred_tensor[3], s1_pred_tensor[2]))\n",
    "    r = -compute_loss(s1, s1_pred)\n",
    "    return a, r, s1_pred\n"
   ]
  },
  {
   "cell_type": "code",
   "execution_count": 37,
   "metadata": {},
   "outputs": [],
   "source": [
    "import random\n",
    "random.seed(42)\n",
    "idm_test_set = random.sample(idm_train_data, 500)"
   ]
  },
  {
   "cell_type": "code",
   "execution_count": 38,
   "metadata": {},
   "outputs": [
    {
     "name": "stderr",
     "output_type": "stream",
     "text": [
      ":task(warning): Creating implicit AsyncTaskChain default for AsyncTaskManager TaskManager\n"
     ]
    },
    {
     "data": {
      "image/png": "[encoded data removed]",
      "text/plain": [
       "<Figure size 640x480 with 1 Axes>"
      ]
     },
     "metadata": {},
     "output_type": "display_data"
    },
    {
     "name": "stdout",
     "output_type": "stream",
     "text": [
      "mean -0.017627463025231365\n",
      "median -0.001938828260729241\n"
     ]
    }
   ],
   "source": [
    "def null_policy(_:Observation) -> tuple[float, float]:\n",
    "    return 0, 0\n",
    "\n",
    "# test loss function\n",
    "do_nothing_loss = []\n",
    "for s0, s1 in idm_test_set:\n",
    "    _, rew, _ = run_game(env, null_policy, (s0, s1))\n",
    "    do_nothing_loss.append(rew)\n",
    "\n",
    "plt.title(\"Loss for doing nothing (simulated)\")\n",
    "plt.hist(do_nothing_loss, bins=200)\n",
    "plt.show()\n",
    "print(\"mean\", np.mean(do_nothing_loss))\n",
    "print(\"median\", np.median(do_nothing_loss))"
   ]
  },
  {
   "cell_type": "code",
   "execution_count": 40,
   "metadata": {},
   "outputs": [
    {
     "data": {
      "image/png": "[encoded data removed]",
      "text/plain": [
       "<Figure size 640x480 with 1 Axes>"
      ]
     },
     "metadata": {},
     "output_type": "display_data"
    },
    {
     "name": "stdout",
     "output_type": "stream",
     "text": [
      "mean -0.015582012210021642\n",
      "median -0.0022155420079017635\n"
     ]
    }
   ],
   "source": [
    "# test loss function\n",
    "do_nothing_loss_est = []\n",
    "for s0, s1 in idm_test_set:\n",
    "    _, rew, pred_s1 = run_game_est(mm, null_policy, (s0, s1))\n",
    "    do_nothing_loss_est.append(rew)\n",
    "\n",
    "plt.title(\"Loss for doing nothing (estimated with MM)\")\n",
    "plt.hist(do_nothing_loss_est, bins=200)\n",
    "plt.show()\n",
    "print(\"mean\", np.mean(do_nothing_loss_est))\n",
    "print(\"median\", np.median(do_nothing_loss_est))"
   ]
  },
  {
   "cell_type": "code",
   "execution_count": 41,
   "metadata": {},
   "outputs": [
    {
     "data": {
      "image/png": "[encoded data removed]",
      "text/plain": [
       "<Figure size 640x480 with 1 Axes>"
      ]
     },
     "metadata": {},
     "output_type": "display_data"
    },
    {
     "name": "stdout",
     "output_type": "stream",
     "text": [
      "mean -0.005120855363588924\n",
      "median -0.0012659258577911057\n"
     ]
    }
   ],
   "source": [
    "# test loss function\n",
    "idm_loss = []\n",
    "for s0, s1 in idm_test_set:\n",
    "    _, rew, _ = run_game(env, IDMPolicy(idm), (s0, s1))\n",
    "    idm_loss.append(rew)\n",
    "\n",
    "plt.title(\"Loss for IDM policy (simulated)\")\n",
    "plt.hist(idm_loss, bins=200)\n",
    "plt.show()\n",
    "print(\"mean\", np.mean(idm_loss))\n",
    "print(\"median\", np.median(idm_loss))"
   ]
  },
  {
   "cell_type": "code",
   "execution_count": 42,
   "metadata": {},
   "outputs": [
    {
     "data": {
      "image/png": "[encoded data removed]",
      "text/plain": [
       "<Figure size 640x480 with 1 Axes>"
      ]
     },
     "metadata": {},
     "output_type": "display_data"
    },
    {
     "name": "stdout",
     "output_type": "stream",
     "text": [
      "mean -0.002699028017411931\n",
      "median -0.0005439686094454339\n"
     ]
    }
   ],
   "source": [
    "# test loss function\n",
    "idm_loss_est = []\n",
    "for s0, s1 in idm_test_set:\n",
    "    _, rew, _ = run_game_est(mm, IDMPolicy(idm), (s0, s1))\n",
    "    idm_loss_est.append(rew)\n",
    "\n",
    "plt.title(\"Loss for IDM policy (estimated with MM)\")\n",
    "plt.hist(idm_loss_est, bins=200)\n",
    "plt.show()\n",
    "print(\"mean\", np.mean(idm_loss_est))\n",
    "print(\"median\", np.median(idm_loss_est))"
   ]
  },
  {
   "cell_type": "code",
   "execution_count": 39,
   "metadata": {},
   "outputs": [
    {
     "data": {
      "image/png": "[encoded data removed]",
      "text/plain": [
       "<Figure size 640x480 with 1 Axes>"
      ]
     },
     "metadata": {},
     "output_type": "display_data"
    },
    {
     "data": {
      "image/png": "[encoded data removed]",
      "text/plain": [
       "<Figure size 640x480 with 1 Axes>"
      ]
     },
     "metadata": {},
     "output_type": "display_data"
    }
   ],
   "source": [
    "plt.title(\"Distribution of steering in the training set\")\n",
    "plt.hist(action_pred[:, 0].cpu().detach().numpy(), bins=200)\n",
    "plt.show()\n",
    "\n",
    "plt.title(\"Distribution of throttle in the training set\")\n",
    "plt.hist(action_pred[:, 1].cpu().detach().numpy(), bins=200)\n",
    "plt.show()"
   ]
  }
 ],
 "metadata": {
  "kernelspec": {
   "display_name": "metadrive",
   "language": "python",
   "name": "python3"
  },
  "language_info": {
   "codemirror_mode": {
    "name": "ipython",
    "version": 3
   },
   "file_extension": ".py",
   "mimetype": "text/x-python",
   "name": "python",
   "nbconvert_exporter": "python",
   "pygments_lexer": "ipython3",
   "version": "3.11.3"
  },
  "orig_nbformat": 4
 },
 "nbformat": 4,
 "nbformat_minor": 2
}
