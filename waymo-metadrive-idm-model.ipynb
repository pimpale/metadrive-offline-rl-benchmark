{
 "cells": [
  {
   "cell_type": "markdown",
   "metadata": {},
   "source": [
    "# Strategy\n",
    "\n",
    "In this notebook, we attempt to train an inverse dynamics model (IDM). In Reinforcement Learning parlance, an IDM learns to predict $a_t$ given $s_t$ and $s_{t+1}$. In our case, we have access to the MetaDrive simulator and the Waymo dataset. We want to predict the action the car should take in MetaDrive so that the successor state in the simulator is as close as possible to the successor state in the Waymo dataset."
   ]
  },
  {
   "cell_type": "markdown",
   "metadata": {},
   "source": []
  },
  {
   "cell_type": "code",
   "execution_count": 1,
   "metadata": {},
   "outputs": [],
   "source": [
    "import typing\n",
    "from dataclasses import dataclass\n",
    "import numpy as np\n",
    "import numpy.typing as npt\n",
    "\n",
    "@dataclass\n",
    "class State:\n",
    "    heading: float\n",
    "    velocity: npt.NDArray[np.float64]\n",
    "\n",
    "\n",
    "Observation: typing.TypeAlias = tuple[State, State]\n",
    "Action: typing.TypeAlias = tuple[float, float]"
   ]
  },
  {
   "cell_type": "code",
   "execution_count": 2,
   "metadata": {},
   "outputs": [
    {
     "name": "stdout",
     "output_type": "stream",
     "text": [
      "Successfully registered the following environments: ['MetaDrive-validation-v0', 'MetaDrive-10env-v0', 'MetaDrive-100envs-v0', 'MetaDrive-1000envs-v0', 'SafeMetaDrive-validation-v0', 'SafeMetaDrive-10env-v0', 'SafeMetaDrive-100envs-v0', 'SafeMetaDrive-1000envs-v0', 'MARLTollgate-v0', 'MARLBottleneck-v0', 'MARLRoundabout-v0', 'MARLIntersection-v0', 'MARLParkingLot-v0', 'MARLMetaDrive-v0'].\n"
     ]
    }
   ],
   "source": [
    "import metadrive\n",
    "from metadrive import MetaDriveEnv\n",
    "import gymnasium as gym\n",
    "import typing\n",
    "\n",
    "import torch\n",
    "import torch.nn as nn\n",
    "import torch.nn.functional as F\n",
    "\n",
    "def deviceof(m: nn.Module) -> torch.device:\n",
    "    \"\"\"\n",
    "    Get the device of the given module\n",
    "    \"\"\"\n",
    "    return next(m.parameters()).device\n",
    "\n",
    "def normalize_angle(angle: float) -> float:\n",
    "    \"\"\"\n",
    "    Normalize the angle to [-pi, pi)\n",
    "    \"\"\"\n",
    "    return (angle + np.pi) % (2 * np.pi) - np.pi\n",
    "\n",
    "def get_metadrive_state(env: MetaDriveEnv) -> State:\n",
    "    return State(heading=env.vehicle.heading_theta, velocity=env.vehicle.velocity[:2])\n",
    "\n",
    "def next_state(env: MetaDriveEnv, s: State, a: Action) -> State:\n",
    "    \"\"\"\n",
    "    runs the policy and returns the total reward\n",
    "    \"\"\"\n",
    "    # reset\n",
    "    env.reset()\n",
    "    env.vehicle.set_position(env.vehicle.position, height=0.49)\n",
    "\n",
    "    # allow car to settle\n",
    "    for _ in range(5):\n",
    "        env.step([0,0])\n",
    "\n",
    "    # set the initial state\n",
    "    env.vehicle.set_velocity(s.velocity)\n",
    "    env.vehicle.set_heading_theta(s.heading)\n",
    "    \n",
    "    # run the simulator\n",
    "    env.step(a)\n",
    "\n",
    "    # get the new state\n",
    "    s_prime = get_metadrive_state(env)\n",
    "\n",
    "    # allow car to settle (if rendering)\n",
    "    if env.config.use_render:\n",
    "        for _ in range(10):\n",
    "            env.step([0,0])\n",
    "\n",
    "    return s_prime\n",
    "\n",
    "def gen_scenario() -> tuple[State, Action]:\n",
    "    \"\"\"\n",
    "    Generates a random scenario\n",
    "    \"\"\"\n",
    "    # generate a random state\n",
    "    velocity = np.random.multivariate_normal([0, 0], np.eye(2) * 100)\n",
    "    heading = normalize_angle(np.arctan2(velocity[1], velocity[0]) + np.random.normal(0, np.pi/4))\n",
    "\n",
    "    s = State(heading=heading, velocity=velocity)\n",
    "\n",
    "    # generate a random action\n",
    "    steer = np.random.uniform(-1, 1)\n",
    "    throttle = np.random.uniform(-1, 1)\n",
    "    a = (steer, throttle)\n",
    "\n",
    "    return s, a\n",
    "\n",
    "def state_batch_to_tensor(states: list[State], device: torch.device) -> torch.Tensor:\n",
    "    \"\"\"\n",
    "    Reshape the state from State to a tensor of shape (batch_size, 3)\n",
    "    \"\"\"\n",
    "\n",
    "    return torch.tensor(np.stack([\n",
    "        [st.velocity[0], st.velocity[1], st.heading] for st in states\n",
    "    ]), dtype=torch.float32, device=device)\n",
    "\n",
    "def action_batch_to_tensor(actions: list[Action], device: torch.device) -> torch.Tensor:\n",
    "    \"\"\"\n",
    "    Reshape the action from Action to a tensor of shape (batch_size, 2)\n",
    "    \"\"\"\n",
    "    return torch.tensor(np.stack(actions), dtype=torch.float32, device=device)\n",
    "\n",
    "def obs_batch_to_tensor(obs: list[Observation], device: torch.device) -> torch.Tensor:\n",
    "    \"\"\"\n",
    "    Reshape the observation from tuple[State, State] to a tensor of shape (batch_size, 3, 2)\n",
    "    \"\"\"\n",
    "\n",
    "    observations = []\n",
    "\n",
    "    for st0, st1 in obs:\n",
    "        observations.append(np.array([\n",
    "            [st0.velocity[0], st1.velocity[0]], \n",
    "            [st0.velocity[1], st1.velocity[1]],\n",
    "            [st0.heading, st1.heading]\n",
    "        ]))\n",
    "\n",
    "    return torch.tensor(np.stack(observations), dtype=torch.float32, device=device)"
   ]
  },
  {
   "cell_type": "markdown",
   "metadata": {},
   "source": [
    "This task may take a few minutes to run the first time."
   ]
  },
  {
   "cell_type": "code",
   "execution_count": 3,
   "metadata": {},
   "outputs": [],
   "source": [
    "def generate_data(n_scenarios: int) -> list[tuple[State, Action, State]]:\n",
    "    env = MetaDriveEnv(config={\"on_continuous_line_done\": False, \"use_render\": False})\n",
    "    dataset: list[tuple[State, Action, State]] = []\n",
    "    for _ in range(n_scenarios):\n",
    "        s0, a = gen_scenario()\n",
    "        s1 = next_state(env, s0, a)\n",
    "        dataset.append((s0, a, s1))\n",
    "    env.close()\n",
    "    return dataset"
   ]
  },
  {
   "cell_type": "code",
   "execution_count": 7,
   "metadata": {},
   "outputs": [
    {
     "name": "stderr",
     "output_type": "stream",
     "text": [
      ":device:device(warning): /dev/input/event6 is not readable, some features will be unavailable.\n",
      ":device(warning): /dev/input/event6 is not readable, some features will be unavailable.\n",
      ":device(warning): /dev/input/event7 is not readable, some features will be unavailable.\n",
      ":device(warning): /dev/input/event6 is not readable, some features will be unavailable.\n",
      ":device(warning): /dev/input/event7 is not readable, some features will be unavailable.\n",
      ":device(warning): /dev/input/event7 is not readable, some features will be unavailable.\n",
      ":device(warning): /dev/input/event23 is not readable, some features will be unavailable.\n",
      ":device(warning): /dev/input/event6 is not readable, some features will be unavailable.\n",
      "(warning): /dev/input/event6 is not readable, some features will be unavailable.\n",
      ":device(warning): /dev/input/event23 is not readable, some features will be unavailable.\n",
      ":device(warning): /dev/input/event7 is not readable, some features will be unavailable.\n",
      ":device(warning): /dev/input/event7 is not readable, some features will be unavailable.\n",
      ":device(warning): /dev/input/event23 is not readable, some features will be unavailable.\n",
      ":device(warning): /dev/input/event23 is not readable, some features will be unavailable.\n",
      ":device(warning): /dev/input/event23 is not readable, some features will be unavailable.\n",
      ":device(warning): /dev/input/event6 is not readable, some features will be unavailable.\n",
      ":device(warning): /dev/input/event7 is not readable, some features will be unavailable.\n",
      ":device(warning): /dev/input/event23 is not readable, some features will be unavailable.\n",
      ":device(warning): /dev/input/event6 is not readable, some features will be unavailable.\n",
      ":device(warning): /dev/input/event7 is not readable, some features will be unavailable.\n",
      ":device(warning): /dev/input/event6 is not readable, some features will be unavailable.\n",
      ":device(warning): /dev/input/event23 is not readable, some features will be unavailable.\n",
      ":device(warning): /dev/input/event7 is not readable, some features will be unavailable.\n",
      ":device(warning): /dev/input/event23 is not readable, some features will be unavailable.\n",
      ":device:device(warning): /dev/input/event6 is not readable, some features will be unavailable.\n",
      "(warning): /dev/input/event6 is not readable, some features will be unavailable.\n",
      ":device(warning): /dev/input/event7 is not readable, some features will be unavailable.\n",
      ":device:device((warning): warning/dev/input/event): /dev/input/event76 is not readable, some features will be unavailable.\n",
      " is not readable, some features will be unavailable.\n",
      ":device:device(warning): /dev/input/event7 is not readable, some features will be unavailable.\n",
      "(warning): /dev/input/event23 is not readable, some features will be unavailable.\n",
      ":device:device(warning): /dev/input/event23 is not readable, some features will be unavailable.\n",
      "(warning): /dev/input/event6 is not readable, some features will be unavailable.\n",
      ":device(warning): /dev/input/event7 is not readable, some features will be unavailable.\n",
      ":device(warning): /dev/input/event23 is not readable, some features will be unavailable.\n",
      ":device(warning): /dev/input/event23 is not readable, some features will be unavailable.\n",
      ":device(warning): /dev/input/event:device6 is not readable, some features will be unavailable.\n",
      "(warning): /dev/input/event6 is not readable, some features will be unavailable.\n",
      ":device:device(warning): /dev/input/event7 is not readable, some features will be unavailable.\n",
      "(warning): /dev/input/event7 is not readable, some features will be unavailable.\n",
      ":device(warning): /dev/input/event23 is not readable, some features will be unavailable.\n",
      ":device(warning): /dev/input/event23 is not readable, some features will be unavailable.\n",
      ":device(warning): /dev/input/event6 is not readable, some features will be unavailable.\n",
      ":device(warning): /dev/input/event7 is not readable, some features will be unavailable.\n",
      ":device(warning): /dev/input/event23 is not readable, some features will be unavailable.\n",
      ":device(warning): /dev/input/event6 is not readable, some features will be unavailable.\n",
      ":device(warning): /dev/input/event7 is not readable, some features will be unavailable.\n",
      ":device(warning): /dev/input/event23 is not readable, some features will be unavailable.\n"
     ]
    }
   ],
   "source": [
    "from concurrent.futures import ProcessPoolExecutor\n",
    "from metadrive import MetaDriveEnv\n",
    "\n",
    "MAX_WORKERS = 16\n",
    "DATASET_SIZE = 80000\n",
    "\n",
    "\n",
    "mm_train_data: list[tuple[State, Action, State]] = []\n",
    "\n",
    "with ProcessPoolExecutor(max_workers=MAX_WORKERS) as executor:\n",
    "    batch_size, leftover_size = divmod(DATASET_SIZE, MAX_WORKERS)\n",
    "    for batch in executor.map(generate_data, [*[batch_size]*MAX_WORKERS, leftover_size]):\n",
    "        mm_train_data.extend(batch)"
   ]
  },
  {
   "cell_type": "code",
   "execution_count": 7,
   "metadata": {},
   "outputs": [
    {
     "name": "stderr",
     "output_type": "stream",
     "text": [
      ":device(warning): /dev/input/event6 is not readable, some features will be unavailable.\n",
      ":device(warning): /dev/input/event7 is not readable, some features will be unavailable.\n",
      ":device(warning): /dev/input/event23 is not readable, some features will be unavailable.\n"
     ]
    }
   ],
   "source": [
    "mm_validation_data = generate_data(1000)"
   ]
  },
  {
   "cell_type": "code",
   "execution_count": 8,
   "metadata": {},
   "outputs": [],
   "source": [
    "import pickle\n",
    "import os\n",
    "\n",
    "# pickle the data\n",
    "if not os.path.exists('data/mm_train_data.pkl'):\n",
    "    with open('data/mm_train_data.pkl', 'wb') as f:\n",
    "        pickle.dump(mm_train_data, f)\n",
    "\n",
    "if not os.path.exists('data/mm_validation_data.pkl'):\n",
    "    with open('data/mm_validation_data.pkl', 'wb') as f:\n",
    "        pickle.dump(mm_validation_data, f)\n",
    "\n"
   ]
  },
  {
   "cell_type": "code",
   "execution_count": 4,
   "metadata": {},
   "outputs": [],
   "source": [
    "import pickle\n",
    "import os\n",
    "\n",
    "if 'mm_train_data' not in locals():\n",
    "    # load data (if exists)   \n",
    "    with open('data/mm_train_data.pkl', 'rb') as f:\n",
    "        mm_train_data = pickle.load(f)\n",
    "\n",
    "if 'mm_validation_data' not in locals():\n",
    "    with open('data/mm_validation_data.pkl', 'rb') as f:\n",
    "        mm_validation_data = pickle.load(f)"
   ]
  },
  {
   "cell_type": "code",
   "execution_count": 5,
   "metadata": {},
   "outputs": [
    {
     "name": "stdout",
     "output_type": "stream",
     "text": [
      "training data: 40000\n",
      "validation data: 1000\n"
     ]
    }
   ],
   "source": [
    "print(\"training data:\", len(mm_train_data))\n",
    "print(\"validation data:\", len(mm_validation_data))"
   ]
  },
  {
   "cell_type": "code",
   "execution_count": 6,
   "metadata": {},
   "outputs": [],
   "source": [
    "import torch\n",
    "import torch.nn as nn\n",
    "import torch.nn.functional as F\n",
    "\n",
    "# create a model that attempts to predict the next state given the current state and the action: (throttle and steering)\n",
    "# each state contains: velocity_x, velocity_y, and heading\n",
    "class MetadriveModel(nn.Module):\n",
    "    def __init__(self):\n",
    "        super().__init__()\n",
    "        # input shape: (batch_size, 3) + (batch_size, 2) = (batch_size, 5)\n",
    "        # output shape: (batch_size, 3)\n",
    "        self.fc1 = nn.Linear(5, 512) # Bx5 -> Bx512\n",
    "        self.fc2 = nn.Linear(512, 512) # Bx512 -> Bx256\n",
    "        self.fc3 = nn.Linear(512, 3) # Bx256 -> Bx3\n",
    "    \n",
    "    def forward(self, states: torch.Tensor, actions: torch.Tensor):\n",
    "        x = torch.cat([states, actions], dim=1) # Bx5\n",
    "        x = F.relu(self.fc1(x)) # Bx512\n",
    "        x = F.relu(self.fc2(x)) # Bx512\n",
    "        x = self.fc3(x) # Bx3\n",
    "        return x\n",
    "\n",
    "def metadrive_model_train_batch(\n",
    "    mm: MetadriveModel,\n",
    "    mm_optimizer: torch.optim.Optimizer,\n",
    "    s0_batch: list[State],\n",
    "    a_batch: list[Action],\n",
    "    s1_batch: list[State],\n",
    ") -> float: \n",
    "    device = deviceof(mm)\n",
    "\n",
    "    s0_tensor = state_batch_to_tensor(s0_batch, device) \n",
    "    a_tensor = action_batch_to_tensor(a_batch, device)\n",
    "    s1_tensor = state_batch_to_tensor(s1_batch, device)\n",
    "\n",
    "    mm_optimizer.zero_grad()\n",
    "    s1_pred_tensor = mm(s0_tensor, a_tensor)\n",
    "    loss = F.mse_loss(s1_pred_tensor, s1_tensor)\n",
    "    loss.backward()\n",
    "    mm_optimizer.step()\n",
    "    return float(loss.item())\n",
    "\n"
   ]
  },
  {
   "cell_type": "code",
   "execution_count": 7,
   "metadata": {},
   "outputs": [],
   "source": [
    "def set_lr(optimizer: torch.optim.Optimizer, lr: float) -> None:\n",
    "    for param_group in optimizer.param_groups:\n",
    "        param_group['lr'] = lr\n",
    "\n",
    "device = torch.device(\"cuda\" if torch.cuda.is_available() else \"cpu\")"
   ]
  },
  {
   "cell_type": "code",
   "execution_count": 8,
   "metadata": {},
   "outputs": [],
   "source": [
    "import itertools\n",
    "# make sure we don't run out of data\n",
    "mm_train_iter = itertools.cycle(mm_train_data)\n",
    "\n",
    "mm = MetadriveModel().to(device)\n",
    "\n",
    "mm_optimizer = torch.optim.Adam(mm.parameters())\n",
    "\n",
    "mm_step = 0\n",
    "mm_losses = []"
   ]
  },
  {
   "cell_type": "code",
   "execution_count": 36,
   "metadata": {},
   "outputs": [
    {
     "name": "stdout",
     "output_type": "stream",
     "text": [
      "Step: 100, Loss: 0.217\n",
      "Step: 200, Loss: 0.120\n",
      "Step: 300, Loss: 0.106\n",
      "Step: 400, Loss: 0.101\n",
      "Step: 500, Loss: 0.095\n",
      "Step: 600, Loss: 0.090\n",
      "Step: 700, Loss: 0.086\n",
      "Step: 800, Loss: 0.080\n",
      "Step: 900, Loss: 0.077\n",
      "Step: 1000, Loss: 0.073\n",
      "Step: 1100, Loss: 0.073\n",
      "Step: 1200, Loss: 0.069\n",
      "Step: 1300, Loss: 0.066\n",
      "Step: 1400, Loss: 0.063\n",
      "Step: 1500, Loss: 0.059\n",
      "Step: 1600, Loss: 0.056\n",
      "Step: 1700, Loss: 0.057\n",
      "Step: 1800, Loss: 0.054\n",
      "Step: 1900, Loss: 0.052\n",
      "Step: 2000, Loss: 0.051\n",
      "Step: 2100, Loss: 0.047\n",
      "Step: 2200, Loss: 0.045\n",
      "Step: 2300, Loss: 0.045\n",
      "Step: 2400, Loss: 0.044\n",
      "Step: 2500, Loss: 0.042\n",
      "Step: 2600, Loss: 0.041\n",
      "Step: 2700, Loss: 0.038\n",
      "Step: 2800, Loss: 0.036\n",
      "Step: 2900, Loss: 0.038\n",
      "Step: 3000, Loss: 0.036\n",
      "Step: 3100, Loss: 0.035\n",
      "Step: 3200, Loss: 0.034\n",
      "Step: 3300, Loss: 0.031\n",
      "Step: 3400, Loss: 0.030\n",
      "Step: 3500, Loss: 0.029\n",
      "Step: 3600, Loss: 0.031\n",
      "Step: 3700, Loss: 0.030\n",
      "Step: 3800, Loss: 0.029\n",
      "Step: 3900, Loss: 0.029\n",
      "Step: 4000, Loss: 0.026\n",
      "Step: 4100, Loss: 0.025\n",
      "Step: 4200, Loss: 0.027\n",
      "Step: 4300, Loss: 0.025\n",
      "Step: 4400, Loss: 0.025\n",
      "Step: 4500, Loss: 0.025\n",
      "Step: 4600, Loss: 0.022\n",
      "Step: 4700, Loss: 0.022\n",
      "Step: 4800, Loss: 0.023\n",
      "Step: 4900, Loss: 0.023\n",
      "Step: 5000, Loss: 0.022\n",
      "Step: 5100, Loss: 0.022\n",
      "Step: 5200, Loss: 0.019\n",
      "Step: 5300, Loss: 0.019\n",
      "Step: 5400, Loss: 0.021\n",
      "Step: 5500, Loss: 0.020\n",
      "Step: 5600, Loss: 0.020\n",
      "Step: 5700, Loss: 0.019\n",
      "Step: 5800, Loss: 0.017\n",
      "Step: 5900, Loss: 0.017\n",
      "Step: 6000, Loss: 0.016\n",
      "Step: 6100, Loss: 0.019\n",
      "Step: 6200, Loss: 0.018\n",
      "Step: 6300, Loss: 0.017\n",
      "Step: 6400, Loss: 0.017\n",
      "Step: 6500, Loss: 0.015\n",
      "Step: 6600, Loss: 0.015\n",
      "Step: 6700, Loss: 0.017\n",
      "Step: 6800, Loss: 0.016\n",
      "Step: 6900, Loss: 0.016\n",
      "Step: 7000, Loss: 0.016\n",
      "Step: 7100, Loss: 0.014\n",
      "Step: 7200, Loss: 0.014\n",
      "Step: 7300, Loss: 0.015\n",
      "Step: 7400, Loss: 0.015\n",
      "Step: 7500, Loss: 0.015\n",
      "Step: 7600, Loss: 0.015\n",
      "Step: 7700, Loss: 0.013\n",
      "Step: 7800, Loss: 0.013\n",
      "Step: 7900, Loss: 0.014\n",
      "Step: 8000, Loss: 0.014\n",
      "Step: 8100, Loss: 0.014\n",
      "Step: 8200, Loss: 0.014\n",
      "Step: 8300, Loss: 0.012\n",
      "Step: 8400, Loss: 0.012\n",
      "Step: 8500, Loss: 0.011\n",
      "Step: 8600, Loss: 0.013\n",
      "Step: 8700, Loss: 0.013\n",
      "Step: 8800, Loss: 0.014\n",
      "Step: 8900, Loss: 0.013\n",
      "Step: 9000, Loss: 0.011\n",
      "Step: 9100, Loss: 0.011\n",
      "Step: 9200, Loss: 0.013\n",
      "Step: 9300, Loss: 0.012\n",
      "Step: 9400, Loss: 0.012\n",
      "Step: 9500, Loss: 0.012\n",
      "Step: 9600, Loss: 0.010\n",
      "Step: 9700, Loss: 0.010\n",
      "Step: 9800, Loss: 0.012\n",
      "Step: 9900, Loss: 0.011\n",
      "Step: 10000, Loss: 0.012\n",
      "Step: 10100, Loss: 0.011\n",
      "Step: 10200, Loss: 0.010\n",
      "Step: 10300, Loss: 0.010\n",
      "Step: 10400, Loss: 0.012\n",
      "Step: 10500, Loss: 0.011\n",
      "Step: 10600, Loss: 0.011\n",
      "Step: 10700, Loss: 0.011\n",
      "Step: 10800, Loss: 0.010\n",
      "Step: 10900, Loss: 0.010\n",
      "Step: 11000, Loss: 0.009\n",
      "Step: 11100, Loss: 0.011\n",
      "Step: 11200, Loss: 0.011\n",
      "Step: 11300, Loss: 0.010\n",
      "Step: 11400, Loss: 0.010\n",
      "Step: 11500, Loss: 0.009\n",
      "Step: 11600, Loss: 0.009\n",
      "Step: 11700, Loss: 0.010\n",
      "Step: 11800, Loss: 0.010\n",
      "Step: 11900, Loss: 0.010\n",
      "Step: 12000, Loss: 0.010\n",
      "Step: 12100, Loss: 0.008\n",
      "Step: 12200, Loss: 0.008\n",
      "Step: 12300, Loss: 0.009\n",
      "Step: 12400, Loss: 0.009\n",
      "Step: 12500, Loss: 0.009\n",
      "Step: 12600, Loss: 0.009\n",
      "Step: 12700, Loss: 0.008\n",
      "Step: 12800, Loss: 0.008\n",
      "Step: 12900, Loss: 0.009\n",
      "Step: 13000, Loss: 0.009\n",
      "Step: 13100, Loss: 0.009\n",
      "Step: 13200, Loss: 0.009\n",
      "Step: 13300, Loss: 0.007\n",
      "Step: 13400, Loss: 0.007\n",
      "Step: 13500, Loss: 0.007\n",
      "Step: 13600, Loss: 0.008\n",
      "Step: 13700, Loss: 0.008\n",
      "Step: 13800, Loss: 0.008\n",
      "Step: 13900, Loss: 0.007\n",
      "Step: 14000, Loss: 0.007\n",
      "Step: 14100, Loss: 0.007\n",
      "Step: 14200, Loss: 0.008\n",
      "Step: 14300, Loss: 0.008\n",
      "Step: 14400, Loss: 0.008\n",
      "Step: 14500, Loss: 0.008\n",
      "Step: 14600, Loss: 0.007\n",
      "Step: 14700, Loss: 0.006\n",
      "Step: 14800, Loss: 0.007\n",
      "Step: 14900, Loss: 0.007\n",
      "Step: 15000, Loss: 0.007\n"
     ]
    }
   ],
   "source": [
    "set_lr(mm_optimizer, 1e-4)\n",
    "METADRIVE_MODEL_TRAIN_EPOCHS = 15000\n",
    "METADRIVE_MODEL_TRAIN_BATCH_SIZE = 4096\n",
    "\n",
    "while mm_step < METADRIVE_MODEL_TRAIN_EPOCHS:\n",
    "    # take up to n from the data buffer\n",
    "    data_batch = [next(mm_train_iter) for _ in range(METADRIVE_MODEL_TRAIN_BATCH_SIZE)]\n",
    "    # unpack the batch\n",
    "    s0_batch = [s0 for s0, _, _ in data_batch]\n",
    "    a_batch = [a for _, a, _ in data_batch]\n",
    "    s1_batch = [s1 for _, _, s1 in data_batch]\n",
    "    loss = metadrive_model_train_batch(mm, mm_optimizer, s0_batch, a_batch, s1_batch)\n",
    "    mm_losses.append(loss)\n",
    "    mm_step += 1\n",
    "    if mm_step % 100 == 0:\n",
    "        print(f\"Step: {mm_step}, Loss: {loss:.4f}\")"
   ]
  },
  {
   "cell_type": "code",
   "execution_count": 9,
   "metadata": {},
   "outputs": [
    {
     "data": {
      "text/plain": [
       "<All keys matched successfully>"
      ]
     },
     "execution_count": 9,
     "metadata": {},
     "output_type": "execute_result"
    }
   ],
   "source": [
    "# load mm\n",
    "if 'mm' not in locals():\n",
    "    mm = MetadriveModel().to(device)\n",
    "    mm.load_state_dict(torch.load('data/mm.pth'))"
   ]
  },
  {
   "cell_type": "code",
   "execution_count": 37,
   "metadata": {},
   "outputs": [],
   "source": [
    "# save mm\n",
    "if not os.path.exists('data/mm.pth'):\n",
    "    torch.save(mm.state_dict(), 'data/mm.pth')"
   ]
  },
  {
   "cell_type": "code",
   "execution_count": 10,
   "metadata": {},
   "outputs": [
    {
     "data": {
      "image/png": "[encoded data removed]",
      "text/plain": [
       "<Figure size 640x480 with 1 Axes>"
      ]
     },
     "metadata": {},
     "output_type": "display_data"
    },
    {
     "data": {
      "image/png": "[encoded data removed]",
      "text/plain": [
       "<Figure size 640x480 with 1 Axes>"
      ]
     },
     "metadata": {},
     "output_type": "display_data"
    }
   ],
   "source": [
    "import matplotlib.pyplot as plt\n",
    "\n",
    "# Plot the losses over training\n",
    "plt.plot(list(range(len(mm_losses))), mm_losses, label='MM')\n",
    "plt.show()\n",
    "\n",
    "latter_training = mm_losses[500:]\n",
    "plt.plot(list(range(len(latter_training))), latter_training, label='MM')\n",
    "plt.show()"
   ]
  },
  {
   "cell_type": "code",
   "execution_count": 39,
   "metadata": {},
   "outputs": [
    {
     "name": "stdout",
     "output_type": "stream",
     "text": [
      "validation loss 0.02123415097594261\n"
     ]
    }
   ],
   "source": [
    "s0_batch = [s0 for s0, _, _ in mm_validation_data]\n",
    "s1_batch = [s1 for _, _, s1 in mm_validation_data]\n",
    "a_batch = [a for _, a, _ in mm_validation_data]\n",
    "\n",
    "s0_tensor = state_batch_to_tensor(s0_batch, device)\n",
    "s1_tensor = state_batch_to_tensor(s1_batch, device)\n",
    "a_tensor = action_batch_to_tensor(a_batch, device)\n",
    "\n",
    "s1_pred = mm(s0_tensor, a_tensor)\n",
    "\n",
    "loss = (s1_pred - s1_tensor)**2\n",
    "loss_x = loss[:, 0]\n",
    "loss_y = loss[:, 1]\n",
    "loss_theta = loss[:, 2]\n",
    "\n",
    "print(\"validation loss\", loss.mean().item())"
   ]
  },
  {
   "cell_type": "code",
   "execution_count": 40,
   "metadata": {},
   "outputs": [
    {
     "name": "stdout",
     "output_type": "stream",
     "text": [
      "training loss 0.006551372818648815\n"
     ]
    }
   ],
   "source": [
    "s0_batch = [s0 for s0, _, _ in mm_train_data]\n",
    "s1_batch = [s1 for _, _, s1 in mm_train_data]\n",
    "a_batch = [a for _, a, _ in mm_train_data]\n",
    "\n",
    "s0_tensor = state_batch_to_tensor(s0_batch, device)\n",
    "s1_tensor = state_batch_to_tensor(s1_batch, device)\n",
    "a_tensor = action_batch_to_tensor(a_batch, device)\n",
    "\n",
    "s1_pred = mm(s0_tensor, a_tensor)\n",
    "\n",
    "loss = (s1_pred - s1_tensor)**2\n",
    "loss_x = loss[:, 0]\n",
    "loss_y = loss[:, 1]\n",
    "loss_theta = loss[:, 2]\n",
    "\n",
    "print(\"training loss\", loss.mean().item())\n",
    "\n"
   ]
  },
  {
   "cell_type": "code",
   "execution_count": 41,
   "metadata": {},
   "outputs": [
    {
     "data": {
      "image/png": "[encoded data removed]",
      "text/plain": [
       "<Figure size 640x480 with 1 Axes>"
      ]
     },
     "metadata": {},
     "output_type": "display_data"
    },
    {
     "data": {
      "image/png": "[encoded data removed]",
      "text/plain": [
       "<Figure size 640x480 with 1 Axes>"
      ]
     },
     "metadata": {},
     "output_type": "display_data"
    },
    {
     "data": {
      "image/png": "[encoded data removed]",
      "text/plain": [
       "<Figure size 640x480 with 1 Axes>"
      ]
     },
     "metadata": {},
     "output_type": "display_data"
    }
   ],
   "source": [
    "plt.hist(loss_x.cpu().detach().numpy(), bins=100)\n",
    "plt.title('Loss in x')\n",
    "plt.show()\n",
    "plt.hist(loss_y.cpu().detach().numpy(), bins=100)\n",
    "plt.title('Loss in y')\n",
    "plt.show()\n",
    "plt.hist(loss_theta.cpu().detach().numpy(), bins=100)\n",
    "plt.title('Loss in theta')\n",
    "plt.show()\n"
   ]
  },
  {
   "cell_type": "markdown",
   "metadata": {},
   "source": [
    "Now that we have trained a neural network model of Metadrive through which we can backprop, training the IDM is easy."
   ]
  },
  {
   "cell_type": "code",
   "execution_count": 11,
   "metadata": {},
   "outputs": [
    {
     "name": "stderr",
     "output_type": "stream",
     "text": [
      "2023-08-11 22:47:16.225994: I tensorflow/core/platform/cpu_feature_guard.cc:182] This TensorFlow binary is optimized to use available CPU instructions in performance-critical operations.\n",
      "To enable the following instructions: AVX2 FMA, in other operations, rebuild TensorFlow with the appropriate compiler flags.\n",
      "2023-08-11 22:47:17.379143: W tensorflow/compiler/tf2tensorrt/utils/py_utils.cc:38] TF-TRT Warning: Could not find TensorRT\n",
      "  0%|          | 0/100 [00:00<?, ?it/s]2023-08-11 22:47:18.204849: I tensorflow/compiler/xla/stream_executor/cuda/cuda_gpu_executor.cc:995] successful NUMA node read from SysFS had negative value (-1), but there must be at least one NUMA node, so returning NUMA node zero. See more at https://github.com/torvalds/linux/blob/v6.0/Documentation/ABI/testing/sysfs-bus-pci#L344-L355\n",
      "2023-08-11 22:47:18.224628: I tensorflow/compiler/xla/stream_executor/cuda/cuda_gpu_executor.cc:995] successful NUMA node read from SysFS had negative value (-1), but there must be at least one NUMA node, so returning NUMA node zero. See more at https://github.com/torvalds/linux/blob/v6.0/Documentation/ABI/testing/sysfs-bus-pci#L344-L355\n",
      "2023-08-11 22:47:18.224860: I tensorflow/compiler/xla/stream_executor/cuda/cuda_gpu_executor.cc:995] successful NUMA node read from SysFS had negative value (-1), but there must be at least one NUMA node, so returning NUMA node zero. See more at https://github.com/torvalds/linux/blob/v6.0/Documentation/ABI/testing/sysfs-bus-pci#L344-L355\n",
      "2023-08-11 22:47:18.227330: I tensorflow/compiler/xla/stream_executor/cuda/cuda_gpu_executor.cc:995] successful NUMA node read from SysFS had negative value (-1), but there must be at least one NUMA node, so returning NUMA node zero. See more at https://github.com/torvalds/linux/blob/v6.0/Documentation/ABI/testing/sysfs-bus-pci#L344-L355\n",
      "2023-08-11 22:47:18.227553: I tensorflow/compiler/xla/stream_executor/cuda/cuda_gpu_executor.cc:995] successful NUMA node read from SysFS had negative value (-1), but there must be at least one NUMA node, so returning NUMA node zero. See more at https://github.com/torvalds/linux/blob/v6.0/Documentation/ABI/testing/sysfs-bus-pci#L344-L355\n",
      "2023-08-11 22:47:18.227719: I tensorflow/compiler/xla/stream_executor/cuda/cuda_gpu_executor.cc:995] successful NUMA node read from SysFS had negative value (-1), but there must be at least one NUMA node, so returning NUMA node zero. See more at https://github.com/torvalds/linux/blob/v6.0/Documentation/ABI/testing/sysfs-bus-pci#L344-L355\n",
      "2023-08-11 22:47:18.549061: I tensorflow/compiler/xla/stream_executor/cuda/cuda_gpu_executor.cc:995] successful NUMA node read from SysFS had negative value (-1), but there must be at least one NUMA node, so returning NUMA node zero. See more at https://github.com/torvalds/linux/blob/v6.0/Documentation/ABI/testing/sysfs-bus-pci#L344-L355\n",
      "2023-08-11 22:47:18.549282: I tensorflow/compiler/xla/stream_executor/cuda/cuda_gpu_executor.cc:995] successful NUMA node read from SysFS had negative value (-1), but there must be at least one NUMA node, so returning NUMA node zero. See more at https://github.com/torvalds/linux/blob/v6.0/Documentation/ABI/testing/sysfs-bus-pci#L344-L355\n",
      "2023-08-11 22:47:18.549468: I tensorflow/compiler/xla/stream_executor/cuda/cuda_gpu_executor.cc:995] successful NUMA node read from SysFS had negative value (-1), but there must be at least one NUMA node, so returning NUMA node zero. See more at https://github.com/torvalds/linux/blob/v6.0/Documentation/ABI/testing/sysfs-bus-pci#L344-L355\n",
      "2023-08-11 22:47:18.549592: W tensorflow/core/common_runtime/gpu/gpu_bfc_allocator.cc:47] Overriding orig_value setting because the TF_FORCE_GPU_ALLOW_GROWTH environment variable is set. Original config value was 0.\n",
      "2023-08-11 22:47:18.549615: I tensorflow/core/common_runtime/gpu/gpu_device.cc:1639] Created device /job:localhost/replica:0/task:0/device:GPU:0 with 21344 MB memory:  -> device: 0, name: NVIDIA GeForce RTX 3090, pci bus id: 0000:1d:00.0, compute capability: 8.6\n",
      " 10%|█         | 10/100 [06:58<1:02:49, 41.88s/it]\n"
     ]
    },
    {
     "ename": "KeyboardInterrupt",
     "evalue": "",
     "output_type": "error",
     "traceback": [
      "\u001b[0;31m---------------------------------------------------------------------------\u001b[0m",
      "\u001b[0;31mKeyboardInterrupt\u001b[0m                         Traceback (most recent call last)",
      "Cell \u001b[0;32mIn[11], line 29\u001b[0m\n\u001b[1;32m     27\u001b[0m \u001b[39mfor\u001b[39;00m data \u001b[39min\u001b[39;00m tf\u001b[39m.\u001b[39mdata\u001b[39m.\u001b[39mTFRecordDataset(file_path, compression_type\u001b[39m=\u001b[39m\u001b[39m\"\u001b[39m\u001b[39m\"\u001b[39m)\u001b[39m.\u001b[39mas_numpy_iterator():\n\u001b[1;32m     28\u001b[0m     scenario \u001b[39m=\u001b[39m scenario_pb2\u001b[39m.\u001b[39mScenario()\n\u001b[0;32m---> 29\u001b[0m     scenario\u001b[39m.\u001b[39;49mParseFromString(data)\n\u001b[1;32m     30\u001b[0m     h\u001b[39m.\u001b[39mappend(parse_scenario(scenario))\n",
      "File \u001b[0;32m~/venvs/metadrive/lib/python3.11/site-packages/google/protobuf/message.py:202\u001b[0m, in \u001b[0;36mMessage.ParseFromString\u001b[0;34m(self, serialized)\u001b[0m\n\u001b[1;32m    194\u001b[0m \u001b[39m\u001b[39m\u001b[39m\"\"\"Parse serialized protocol buffer data into this message.\u001b[39;00m\n\u001b[1;32m    195\u001b[0m \n\u001b[1;32m    196\u001b[0m \u001b[39mLike :func:`MergeFromString()`, except we clear the object first.\u001b[39;00m\n\u001b[0;32m   (...)\u001b[0m\n\u001b[1;32m    199\u001b[0m \u001b[39m  message.DecodeError if the input cannot be parsed.\u001b[39;00m\n\u001b[1;32m    200\u001b[0m \u001b[39m\"\"\"\u001b[39;00m\n\u001b[1;32m    201\u001b[0m \u001b[39mself\u001b[39m\u001b[39m.\u001b[39mClear()\n\u001b[0;32m--> 202\u001b[0m \u001b[39mreturn\u001b[39;00m \u001b[39mself\u001b[39;49m\u001b[39m.\u001b[39;49mMergeFromString(serialized)\n",
      "File \u001b[0;32m~/venvs/metadrive/lib/python3.11/site-packages/google/protobuf/internal/python_message.py:1128\u001b[0m, in \u001b[0;36m_AddMergeFromStringMethod.<locals>.MergeFromString\u001b[0;34m(self, serialized)\u001b[0m\n\u001b[1;32m   1126\u001b[0m length \u001b[39m=\u001b[39m \u001b[39mlen\u001b[39m(serialized)\n\u001b[1;32m   1127\u001b[0m \u001b[39mtry\u001b[39;00m:\n\u001b[0;32m-> 1128\u001b[0m   \u001b[39mif\u001b[39;00m \u001b[39mself\u001b[39;49m\u001b[39m.\u001b[39;49m_InternalParse(serialized, \u001b[39m0\u001b[39;49m, length) \u001b[39m!=\u001b[39m length:\n\u001b[1;32m   1129\u001b[0m     \u001b[39m# The only reason _InternalParse would return early is if it\u001b[39;00m\n\u001b[1;32m   1130\u001b[0m     \u001b[39m# encountered an end-group tag.\u001b[39;00m\n\u001b[1;32m   1131\u001b[0m     \u001b[39mraise\u001b[39;00m message_mod\u001b[39m.\u001b[39mDecodeError(\u001b[39m'\u001b[39m\u001b[39mUnexpected end-group tag.\u001b[39m\u001b[39m'\u001b[39m)\n\u001b[1;32m   1132\u001b[0m \u001b[39mexcept\u001b[39;00m (\u001b[39mIndexError\u001b[39;00m, \u001b[39mTypeError\u001b[39;00m):\n\u001b[1;32m   1133\u001b[0m   \u001b[39m# Now ord(buf[p:p+1]) == ord('') gets TypeError.\u001b[39;00m\n",
      "File \u001b[0;32m~/venvs/metadrive/lib/python3.11/site-packages/google/protobuf/internal/python_message.py:1195\u001b[0m, in \u001b[0;36m_AddMergeFromStringMethod.<locals>.InternalParse\u001b[0;34m(self, buffer, pos, end)\u001b[0m\n\u001b[1;32m   1193\u001b[0m   pos \u001b[39m=\u001b[39m new_pos\n\u001b[1;32m   1194\u001b[0m \u001b[39melse\u001b[39;00m:\n\u001b[0;32m-> 1195\u001b[0m   pos \u001b[39m=\u001b[39m field_decoder(buffer, new_pos, end, \u001b[39mself\u001b[39;49m, field_dict)\n\u001b[1;32m   1196\u001b[0m   \u001b[39mif\u001b[39;00m field_desc:\n\u001b[1;32m   1197\u001b[0m     \u001b[39mself\u001b[39m\u001b[39m.\u001b[39m_UpdateOneofState(field_desc)\n",
      "File \u001b[0;32m~/venvs/metadrive/lib/python3.11/site-packages/google/protobuf/internal/decoder.py:705\u001b[0m, in \u001b[0;36mMessageDecoder.<locals>.DecodeRepeatedField\u001b[0;34m(buffer, pos, end, message, field_dict)\u001b[0m\n\u001b[1;32m    703\u001b[0m   \u001b[39mraise\u001b[39;00m _DecodeError(\u001b[39m'\u001b[39m\u001b[39mTruncated message.\u001b[39m\u001b[39m'\u001b[39m)\n\u001b[1;32m    704\u001b[0m \u001b[39m# Read sub-message.\u001b[39;00m\n\u001b[0;32m--> 705\u001b[0m \u001b[39mif\u001b[39;00m value\u001b[39m.\u001b[39;49madd()\u001b[39m.\u001b[39;49m_InternalParse(buffer, pos, new_pos) \u001b[39m!=\u001b[39m new_pos:\n\u001b[1;32m    706\u001b[0m   \u001b[39m# The only reason _InternalParse would return early is if it\u001b[39;00m\n\u001b[1;32m    707\u001b[0m   \u001b[39m# encountered an end-group tag.\u001b[39;00m\n\u001b[1;32m    708\u001b[0m   \u001b[39mraise\u001b[39;00m _DecodeError(\u001b[39m'\u001b[39m\u001b[39mUnexpected end-group tag.\u001b[39m\u001b[39m'\u001b[39m)\n\u001b[1;32m    709\u001b[0m \u001b[39m# Predict that the next tag is another copy of the same repeated field.\u001b[39;00m\n",
      "File \u001b[0;32m~/venvs/metadrive/lib/python3.11/site-packages/google/protobuf/internal/python_message.py:1195\u001b[0m, in \u001b[0;36m_AddMergeFromStringMethod.<locals>.InternalParse\u001b[0;34m(self, buffer, pos, end)\u001b[0m\n\u001b[1;32m   1193\u001b[0m   pos \u001b[39m=\u001b[39m new_pos\n\u001b[1;32m   1194\u001b[0m \u001b[39melse\u001b[39;00m:\n\u001b[0;32m-> 1195\u001b[0m   pos \u001b[39m=\u001b[39m field_decoder(buffer, new_pos, end, \u001b[39mself\u001b[39;49m, field_dict)\n\u001b[1;32m   1196\u001b[0m   \u001b[39mif\u001b[39;00m field_desc:\n\u001b[1;32m   1197\u001b[0m     \u001b[39mself\u001b[39m\u001b[39m.\u001b[39m_UpdateOneofState(field_desc)\n",
      "File \u001b[0;32m~/venvs/metadrive/lib/python3.11/site-packages/google/protobuf/internal/decoder.py:726\u001b[0m, in \u001b[0;36mMessageDecoder.<locals>.DecodeField\u001b[0;34m(buffer, pos, end, message, field_dict)\u001b[0m\n\u001b[1;32m    724\u001b[0m   \u001b[39mraise\u001b[39;00m _DecodeError(\u001b[39m'\u001b[39m\u001b[39mTruncated message.\u001b[39m\u001b[39m'\u001b[39m)\n\u001b[1;32m    725\u001b[0m \u001b[39m# Read sub-message.\u001b[39;00m\n\u001b[0;32m--> 726\u001b[0m \u001b[39mif\u001b[39;00m value\u001b[39m.\u001b[39;49m_InternalParse(buffer, pos, new_pos) \u001b[39m!=\u001b[39m new_pos:\n\u001b[1;32m    727\u001b[0m   \u001b[39m# The only reason _InternalParse would return early is if it encountered\u001b[39;00m\n\u001b[1;32m    728\u001b[0m   \u001b[39m# an end-group tag.\u001b[39;00m\n\u001b[1;32m    729\u001b[0m   \u001b[39mraise\u001b[39;00m _DecodeError(\u001b[39m'\u001b[39m\u001b[39mUnexpected end-group tag.\u001b[39m\u001b[39m'\u001b[39m)\n\u001b[1;32m    730\u001b[0m \u001b[39mreturn\u001b[39;00m new_pos\n",
      "File \u001b[0;32m~/venvs/metadrive/lib/python3.11/site-packages/google/protobuf/internal/python_message.py:1195\u001b[0m, in \u001b[0;36m_AddMergeFromStringMethod.<locals>.InternalParse\u001b[0;34m(self, buffer, pos, end)\u001b[0m\n\u001b[1;32m   1193\u001b[0m   pos \u001b[39m=\u001b[39m new_pos\n\u001b[1;32m   1194\u001b[0m \u001b[39melse\u001b[39;00m:\n\u001b[0;32m-> 1195\u001b[0m   pos \u001b[39m=\u001b[39m field_decoder(buffer, new_pos, end, \u001b[39mself\u001b[39;49m, field_dict)\n\u001b[1;32m   1196\u001b[0m   \u001b[39mif\u001b[39;00m field_desc:\n\u001b[1;32m   1197\u001b[0m     \u001b[39mself\u001b[39m\u001b[39m.\u001b[39m_UpdateOneofState(field_desc)\n",
      "File \u001b[0;32m~/venvs/metadrive/lib/python3.11/site-packages/google/protobuf/internal/decoder.py:705\u001b[0m, in \u001b[0;36mMessageDecoder.<locals>.DecodeRepeatedField\u001b[0;34m(buffer, pos, end, message, field_dict)\u001b[0m\n\u001b[1;32m    703\u001b[0m   \u001b[39mraise\u001b[39;00m _DecodeError(\u001b[39m'\u001b[39m\u001b[39mTruncated message.\u001b[39m\u001b[39m'\u001b[39m)\n\u001b[1;32m    704\u001b[0m \u001b[39m# Read sub-message.\u001b[39;00m\n\u001b[0;32m--> 705\u001b[0m \u001b[39mif\u001b[39;00m value\u001b[39m.\u001b[39;49madd()\u001b[39m.\u001b[39m_InternalParse(buffer, pos, new_pos) \u001b[39m!=\u001b[39m new_pos:\n\u001b[1;32m    706\u001b[0m   \u001b[39m# The only reason _InternalParse would return early is if it\u001b[39;00m\n\u001b[1;32m    707\u001b[0m   \u001b[39m# encountered an end-group tag.\u001b[39;00m\n\u001b[1;32m    708\u001b[0m   \u001b[39mraise\u001b[39;00m _DecodeError(\u001b[39m'\u001b[39m\u001b[39mUnexpected end-group tag.\u001b[39m\u001b[39m'\u001b[39m)\n\u001b[1;32m    709\u001b[0m \u001b[39m# Predict that the next tag is another copy of the same repeated field.\u001b[39;00m\n",
      "File \u001b[0;32m~/venvs/metadrive/lib/python3.11/site-packages/google/protobuf/internal/containers.py:276\u001b[0m, in \u001b[0;36mRepeatedCompositeFieldContainer.add\u001b[0;34m(self, **kwargs)\u001b[0m\n\u001b[1;32m    272\u001b[0m \u001b[39mdef\u001b[39;00m \u001b[39madd\u001b[39m(\u001b[39mself\u001b[39m, \u001b[39m*\u001b[39m\u001b[39m*\u001b[39mkwargs: Any) \u001b[39m-\u001b[39m\u001b[39m>\u001b[39m _T:\n\u001b[1;32m    273\u001b[0m \u001b[39m  \u001b[39m\u001b[39m\"\"\"Adds a new element at the end of the list and returns it. Keyword\u001b[39;00m\n\u001b[1;32m    274\u001b[0m \u001b[39m  arguments may be used to initialize the element.\u001b[39;00m\n\u001b[1;32m    275\u001b[0m \u001b[39m  \"\"\"\u001b[39;00m\n\u001b[0;32m--> 276\u001b[0m   new_element \u001b[39m=\u001b[39m \u001b[39mself\u001b[39;49m\u001b[39m.\u001b[39;49m_message_descriptor\u001b[39m.\u001b[39;49m_concrete_class(\u001b[39m*\u001b[39;49m\u001b[39m*\u001b[39;49mkwargs)\n\u001b[1;32m    277\u001b[0m   new_element\u001b[39m.\u001b[39m_SetListener(\u001b[39mself\u001b[39m\u001b[39m.\u001b[39m_message_listener)\n\u001b[1;32m    278\u001b[0m   \u001b[39mself\u001b[39m\u001b[39m.\u001b[39m_values\u001b[39m.\u001b[39mappend(new_element)\n",
      "File \u001b[0;32m~/venvs/metadrive/lib/python3.11/site-packages/google/protobuf/internal/python_message.py:515\u001b[0m, in \u001b[0;36m_AddInitMethod.<locals>.init\u001b[0;34m(self, **kwargs)\u001b[0m\n\u001b[1;32m    513\u001b[0m \u001b[39mself\u001b[39m\u001b[39m.\u001b[39m_listener \u001b[39m=\u001b[39m message_listener_mod\u001b[39m.\u001b[39mNullMessageListener()\n\u001b[1;32m    514\u001b[0m \u001b[39mself\u001b[39m\u001b[39m.\u001b[39m_listener_for_children \u001b[39m=\u001b[39m _Listener(\u001b[39mself\u001b[39m)\n\u001b[0;32m--> 515\u001b[0m \u001b[39mfor\u001b[39;00m field_name, field_value \u001b[39min\u001b[39;00m kwargs\u001b[39m.\u001b[39mitems():\n\u001b[1;32m    516\u001b[0m   field \u001b[39m=\u001b[39m _GetFieldByName(message_descriptor, field_name)\n\u001b[1;32m    517\u001b[0m   \u001b[39mif\u001b[39;00m field \u001b[39mis\u001b[39;00m \u001b[39mNone\u001b[39;00m:\n",
      "\u001b[0;31mKeyboardInterrupt\u001b[0m: "
     ]
    }
   ],
   "source": [
    "from protos import scenario_pb2\n",
    "# tensorflow don't allocate all gpu memory right away\n",
    "import os\n",
    "os.environ['TF_FORCE_GPU_ALLOW_GROWTH'] = 'true'\n",
    "import tensorflow as tf\n",
    "import tqdm\n",
    "\n",
    "def getFiles(path: str) -> list[str]:\n",
    "    path = os.path.expanduser(path)\n",
    "    files = [os.path.join(path, f) for f in os.listdir(path)]\n",
    "    return [f for f in files if os.path.isfile(f)]\n",
    "\n",
    "\n",
    "files = getFiles('~/data/waymo/')\n",
    "\n",
    "def parse_scenario(scenario: scenario_pb2.Scenario) -> list[State]:\n",
    "    states = []\n",
    "    for s in scenario.tracks[scenario.sdc_track_index].states:\n",
    "        if s.valid:\n",
    "            states.append(State(s.heading, np.array([s.velocity_x, s.velocity_y], dtype=np.float32)))\n",
    "    return states\n",
    "\n",
    "\n",
    "h: list[list[State]] = []\n",
    "\n",
    "for file_path in tqdm.tqdm(files):\n",
    "    for data in tf.data.TFRecordDataset(file_path, compression_type=\"\").as_numpy_iterator():\n",
    "        scenario = scenario_pb2.Scenario()\n",
    "        scenario.ParseFromString(data)\n",
    "        h.append(parse_scenario(scenario))\n"
   ]
  },
  {
   "cell_type": "code",
   "execution_count": 86,
   "metadata": {},
   "outputs": [
    {
     "name": "stdout",
     "output_type": "stream",
     "text": [
      "train data: 145374\n"
     ]
    }
   ],
   "source": [
    "idm_train_data: list[Observation] = []\n",
    "for states in h:\n",
    "    for i in range(len(states)-1):\n",
    "        idm_train_data.append((states[i], states[i+1]))\n",
    "\n",
    "print(\"train data:\", len(idm_train_data))"
   ]
  },
  {
   "cell_type": "code",
   "execution_count": 87,
   "metadata": {},
   "outputs": [],
   "source": [
    "import pickle\n",
    "import os\n",
    "\n",
    "# pickle the data\n",
    "if not os.path.exists('data/idm_train_data.pkl'):\n",
    "    with open('data/idm_train_data.pkl', 'wb') as f:\n",
    "        pickle.dump(idm_train_data, f)"
   ]
  },
  {
   "cell_type": "code",
   "execution_count": null,
   "metadata": {},
   "outputs": [],
   "source": [
    "import pickle\n",
    "import os\n",
    "\n",
    "if 'idm_train_data' not in locals():\n",
    "    # load data (if exists)   \n",
    "    with open('data/idm_train_data.pkl', 'rb') as f:\n",
    "        idm_train_data = pickle.load(f)"
   ]
  },
  {
   "cell_type": "code",
   "execution_count": 123,
   "metadata": {},
   "outputs": [],
   "source": [
    "# creates a model that attempts to predict the action given the current state and the next state\n",
    "class InverseDynamicsModel(nn.Module):\n",
    "    def __init__(self):\n",
    "        super().__init__()\n",
    "        # input shape: (batch_size, 3, 2)\n",
    "        # output shape: (batch_size, 2)\n",
    "\n",
    "        self.conv1 = nn.Conv1d(3, 768, 2) # Bx3x2 -> Bx768x1\n",
    "        self.fc1 = nn.Linear(768, 768) # Bx768 -> Bx768\n",
    "        self.fc2 = nn.Linear(768, 2) # Bx768 -> Bx2\n",
    "    \n",
    "    def forward(self, x: torch.Tensor):\n",
    "        x = F.relu(self.conv1(x)) # Bx3x2 -> Bx768x1\n",
    "        x = torch.flatten(x, 1) # Bx768x1 -> Bx768\n",
    "        x = F.relu(self.fc1(x)) # Bx768 -> Bx768\n",
    "        x = self.fc2(x) # Bx768 -> Bx2\n",
    "        return x\n",
    "\n",
    "def idm_train_batch(\n",
    "        mm: MetadriveModel,\n",
    "        idm: InverseDynamicsModel,\n",
    "        idm_optimizer: torch.optim.Optimizer,\n",
    "        obs_batch: list[Observation],\n",
    ") -> float:\n",
    "    device = deviceof(mm)\n",
    "\n",
    "    assert deviceof(idm) == device\n",
    "\n",
    "    obs_tensor = obs_batch_to_tensor(obs_batch, device)\n",
    "    s0_tensor = state_batch_to_tensor([s0 for s0, _ in obs_batch], device)\n",
    "    s1_tensor = state_batch_to_tensor([s1 for _, s1 in obs_batch], device)\n",
    "\n",
    "    idm_optimizer.zero_grad()\n",
    "\n",
    "    pred_action = idm(obs_tensor)\n",
    "    pred_s1 = mm(s0_tensor, pred_action)\n",
    "\n",
    "    loss = F.mse_loss(pred_s1, s1_tensor)\n",
    "    loss.backward()\n",
    "\n",
    "    idm_optimizer.step()\n",
    "\n",
    "    return float(loss.item())"
   ]
  },
  {
   "cell_type": "code",
   "execution_count": 136,
   "metadata": {},
   "outputs": [
    {
     "name": "stdout",
     "output_type": "stream",
     "text": [
      "145331\n"
     ]
    }
   ],
   "source": [
    "# eliminate outliers from the training data\n",
    "idm_train_data_filtered = [o for o in idm_train_data if np.linalg.norm(o[1].velocity - o[0].velocity) < 1 and abs(normalize_angle(o[1].heading - o[0].heading)) < 0.1] \n",
    "print(len(idm_train_data_filtered))"
   ]
  },
  {
   "cell_type": "code",
   "execution_count": 137,
   "metadata": {},
   "outputs": [],
   "source": [
    "idm_train_iter = itertools.cycle(idm_train_data_filtered)\n",
    "\n",
    "idm = InverseDynamicsModel().to(device)\n",
    "\n",
    "idm_optimizer = torch.optim.AdamW(idm.parameters())\n",
    "\n",
    "idm_step = 0\n",
    "idm_losses = []"
   ]
  },
  {
   "cell_type": "code",
   "execution_count": 1,
   "metadata": {},
   "outputs": [
    {
     "ename": "NameError",
     "evalue": "name 'set_lr' is not defined",
     "output_type": "error",
     "traceback": [
      "\u001b[0;31m---------------------------------------------------------------------------\u001b[0m",
      "\u001b[0;31mNameError\u001b[0m                                 Traceback (most recent call last)",
      "Cell \u001b[0;32mIn[1], line 1\u001b[0m\n\u001b[0;32m----> 1\u001b[0m set_lr(idm_optimizer, \u001b[39m5e-5\u001b[39m)\n\u001b[1;32m      2\u001b[0m INVERSE_DYNAMICS_MODEL_TRAIN_EPOCHS \u001b[39m=\u001b[39m \u001b[39m20000\u001b[39m\n\u001b[1;32m      3\u001b[0m INVERSE_DYNAMICS_MODEL_TRAIN_BATCH_SIZE \u001b[39m=\u001b[39m \u001b[39m4096\u001b[39m\n",
      "\u001b[0;31mNameError\u001b[0m: name 'set_lr' is not defined"
     ]
    }
   ],
   "source": [
    "set_lr(idm_optimizer, 5e-5)\n",
    "INVERSE_DYNAMICS_MODEL_TRAIN_EPOCHS = 20000\n",
    "INVERSE_DYNAMICS_MODEL_TRAIN_BATCH_SIZE = 4096\n",
    "\n",
    "while idm_step < INVERSE_DYNAMICS_MODEL_TRAIN_EPOCHS:\n",
    "    obs_batch = [next(idm_train_iter) for _ in range(INVERSE_DYNAMICS_MODEL_TRAIN_BATCH_SIZE)]\n",
    "    loss = idm_train_batch(\n",
    "        mm,\n",
    "        idm,\n",
    "        idm_optimizer,\n",
    "        obs_batch,\n",
    "    )\n",
    "    idm_losses.append(loss)\n",
    "    idm_step += 1\n",
    "    if idm_step % 100 == 0:\n",
    "        print(f\"Step: {idm_step}, Loss: {loss:.4f}\")"
   ]
  },
  {
   "cell_type": "code",
   "execution_count": 31,
   "metadata": {},
   "outputs": [],
   "source": [
    "# load idm\n",
    "if 'idm' not in locals():\n",
    "    idm = InverseDynamicsModel().to(device)\n",
    "    idm.load_state_dict(torch.load('data/idm.pth'))    "
   ]
  },
  {
   "cell_type": "code",
   "execution_count": 108,
   "metadata": {},
   "outputs": [],
   "source": [
    "# save idm\n",
    "if not os.path.exists('data/idm.pth'):\n",
    "    torch.save(mm.state_dict(), 'data/idm.pth')"
   ]
  },
  {
   "cell_type": "code",
   "execution_count": 139,
   "metadata": {},
   "outputs": [
    {
     "data": {
      "image/png": "[encoded data removed]",
      "text/plain": [
       "<Figure size 640x480 with 1 Axes>"
      ]
     },
     "metadata": {},
     "output_type": "display_data"
    }
   ],
   "source": [
    "import matplotlib.pyplot as plt\n",
    "\n",
    "# Plot the losses over training\n",
    "plt.plot(list(range(len(idm_losses))), idm_losses, label='IDM')\n",
    "plt.show()"
   ]
  },
  {
   "cell_type": "code",
   "execution_count": 140,
   "metadata": {},
   "outputs": [
    {
     "data": {
      "text/plain": [
       "[<matplotlib.lines.Line2D at 0x7f992bb9b2d0>]"
      ]
     },
     "execution_count": 140,
     "metadata": {},
     "output_type": "execute_result"
    },
    {
     "data": {
      "image/png": "[encoded data removed]",
      "text/plain": [
       "<Figure size 640x480 with 1 Axes>"
      ]
     },
     "metadata": {},
     "output_type": "display_data"
    }
   ],
   "source": [
    "# compute running average of the last 200 episodes\n",
    "# plot the average reward per episode\n",
    "idm_losses_averaged = np.convolve(idm_losses, np.ones((200,))/200, mode='valid')\n",
    "plt.plot(idm_losses_averaged)"
   ]
  },
  {
   "cell_type": "markdown",
   "metadata": {},
   "source": [
    "Let' compare our trained IDM against the null idm (predicts 0 for all values):"
   ]
  },
  {
   "cell_type": "code",
   "execution_count": 107,
   "metadata": {},
   "outputs": [
    {
     "name": "stdout",
     "output_type": "stream",
     "text": [
      "training loss 0.021111002191901207\n"
     ]
    }
   ],
   "source": [
    "obs_batch = idm_train_data\n",
    "\n",
    "obs_tensor = obs_batch_to_tensor(obs_batch, device)\n",
    "s0_tensor = state_batch_to_tensor([s0 for s0, _ in obs_batch], device)\n",
    "s1_tensor = state_batch_to_tensor([s1 for _, s1 in obs_batch], device)\n",
    "with torch.no_grad():\n",
    "    action_pred = idm(obs_tensor)\n",
    "    s1_pred = mm(s0_tensor, action_pred)\n",
    "\n",
    "loss = (s1_pred - s1_tensor)**2\n",
    "loss_x = loss[:, 0].cpu().detach().numpy()\n",
    "loss_y = loss[:, 1].cpu().detach().numpy()\n",
    "loss_theta = loss[:, 2].cpu().detach().numpy()\n",
    "\n",
    "print(\"training loss\", loss.mean().item())"
   ]
  },
  {
   "cell_type": "code",
   "execution_count": 109,
   "metadata": {},
   "outputs": [
    {
     "data": {
      "image/png": "[encoded data removed]",
      "text/plain": [
       "<Figure size 640x480 with 1 Axes>"
      ]
     },
     "metadata": {},
     "output_type": "display_data"
    },
    {
     "data": {
      "image/png": "[encoded data removed]",
      "text/plain": [
       "<Figure size 640x480 with 1 Axes>"
      ]
     },
     "metadata": {},
     "output_type": "display_data"
    },
    {
     "data": {
      "image/png": "[encoded data removed]",
      "text/plain": [
       "<Figure size 640x480 with 1 Axes>"
      ]
     },
     "metadata": {},
     "output_type": "display_data"
    }
   ],
   "source": [
    "plt.hist(loss_x, bins=100)\n",
    "plt.title('Loss in x')\n",
    "plt.show()\n",
    "plt.hist(loss_y, bins=100)\n",
    "plt.title('Loss in y')\n",
    "plt.show()\n",
    "plt.hist(loss_theta, bins=100)\n",
    "plt.title('Loss in theta')\n",
    "plt.show()\n"
   ]
  },
  {
   "cell_type": "code",
   "execution_count": 110,
   "metadata": {},
   "outputs": [
    {
     "data": {
      "image/png": "[encoded data removed]",
      "text/plain": [
       "<Figure size 640x480 with 1 Axes>"
      ]
     },
     "metadata": {},
     "output_type": "display_data"
    },
    {
     "data": {
      "image/png": "[encoded data removed]",
      "text/plain": [
       "<Figure size 640x480 with 1 Axes>"
      ]
     },
     "metadata": {},
     "output_type": "display_data"
    },
    {
     "data": {
      "image/png": "[encoded data removed]",
      "text/plain": [
       "<Figure size 640x480 with 1 Axes>"
      ]
     },
     "metadata": {},
     "output_type": "display_data"
    }
   ],
   "source": [
    "loss_x_no_outliers = np.array([x for x in loss_x if x < 0.1 ]) \n",
    "loss_y_no_outliers = np.array([x for x in loss_y if x < 0.1 ])\n",
    "loss_theta_no_outliers = np.array([x for x in loss_theta if x < 0.1 ])\n",
    "\n",
    "plt.hist(loss_x_no_outliers, bins=100)\n",
    "plt.title('Loss in x')\n",
    "plt.show()\n",
    "plt.hist(loss_y_no_outliers, bins=100)\n",
    "plt.title('Loss in y')\n",
    "plt.show()\n",
    "plt.hist(loss_theta_no_outliers, bins=100)\n",
    "plt.title('Loss in theta')\n",
    "plt.show()\n"
   ]
  },
  {
   "cell_type": "markdown",
   "metadata": {},
   "source": [
    "Let's try visualizing our IDM by having it follow a track from start to finish."
   ]
  },
  {
   "cell_type": "code",
   "execution_count": 30,
   "metadata": {},
   "outputs": [],
   "source": [
    "class IDMPolicy:\n",
    "    def __init__(self, net: InverseDynamicsModel):\n",
    "        self.net = net\n",
    "\n",
    "    def __call__(self, obs:Observation) -> Action:\n",
    "        # sample an action from the policy network\n",
    "        obs_tensor = obs_batch_to_tensor([obs], deviceof(self.net))\n",
    "        # sample an action from the policy network\n",
    "        with torch.no_grad():\n",
    "            steering, throttle = self.net(obs_tensor)[0]\n",
    "        return steering.item(), throttle.item()\n"
   ]
  },
  {
   "cell_type": "code",
   "execution_count": 63,
   "metadata": {},
   "outputs": [],
   "source": [
    "env = gym.make(\"MetaDrive-validation-v0\", config={\"on_continuous_line_done\": False, \"use_render\": True})"
   ]
  },
  {
   "cell_type": "code",
   "execution_count": 103,
   "metadata": {},
   "outputs": [
    {
     "name": "stdout",
     "output_type": "stream",
     "text": [
      "(-0.26485002040863037, 0.10388533025979996)\n",
      "[ 0.02841214 -0.00302272] -0.0067837370867041 [-0.00011083  0.00087215] -0.006744205020368099\n",
      "(-0.265168696641922, 0.10396337509155273)\n",
      "[ 0.05668601 -0.00654016] -0.007005045773290419 [-4.3405351e-05  4.2588715e-04] -0.006743049249053001\n",
      "(-0.26631584763526917, 0.10402288287878036)\n",
      "[ 0.08499093 -0.00989405] -0.007425958383576514 [-2.9378416e-05 -8.2612707e-04] -0.006743814796209335\n",
      "(-0.26619845628738403, 0.1039656475186348)\n",
      "[ 0.11327186 -0.01319355] -0.008048871762546206 [-0.00035727 -0.00052484] -0.006743430159986019\n",
      "(-0.2659027874469757, 0.10410494357347488)\n",
      "[ 0.14157072 -0.01657832] -0.008879778022651053 [-0.00022116 -0.00028629] -0.006743430159986019\n",
      "(-0.26654890179634094, 0.1041523814201355)\n",
      "[ 0.16985378 -0.02011361] -0.00992493559245311 [-1.9360607e-05 -1.0560933e-03] -0.006743430159986019\n",
      "(-0.26606789231300354, 0.10427597165107727)\n",
      "[ 0.19816478 -0.02371274] -0.01118727394915009 [ 0.00028915 -0.00047262] -0.0068396818824112415\n",
      "(-0.26503074169158936, 0.10393362492322922)\n",
      "[ 0.22638239 -0.02733926] -0.012662532034999785 [-4.3736913e-05  7.6031050e-04] -0.006839301437139511\n",
      "(-0.264604777097702, 0.10358956456184387)\n",
      "[ 0.25448489 -0.03109944] -0.01434711458252913 [-0.00082779  0.00124337] -0.006839301437139511\n",
      "(-0.2646811306476593, 0.10398731380701065)\n",
      "[ 0.28266382 -0.03506941] -0.016242353172284396 [-0.00043024  0.000927  ] -0.006743049249053001\n",
      "(-0.26553845405578613, 0.10422377288341522)\n",
      "[ 0.31085941 -0.0393122 ] -0.018351709913681624 [ 0.00027474 -0.00010039] -0.006743049249053001\n",
      "(-0.2663426399230957, 0.10407637804746628)\n",
      "[ 0.33897567 -0.04378192] -0.020680111654737487 [ 0.00024428 -0.00082169] -0.006743430159986019\n",
      "(-0.2654561698436737, 0.10425196588039398)\n",
      "[ 0.36715052 -0.04827652] -0.02322529470852608 [0.00053143 0.00018817] -0.006839301437139511\n",
      "(-0.2644588351249695, 0.10401926189661026)\n",
      "[ 0.3952468  -0.05290337] -0.025979136433722516 [0.00053234 0.00126659] -0.006743049249053001\n",
      "(-0.26525402069091797, 0.10375737398862839)\n",
      "[ 0.42318207 -0.05798103] -0.028940704723945387 [5.4254251e-05 3.6522772e-04] -0.006743049249053001\n",
      "(-0.2653070390224457, 0.10381059348583221)\n",
      "[ 0.45109755 -0.06328237] -0.032118521694682656 [-0.00035999  0.00039465] -0.006743049249053001\n",
      "(-0.2663068175315857, 0.10388124734163284)\n",
      "[ 0.47894791 -0.06901295] -0.035514318400642786 [-0.00059953 -0.00074756] -0.006742668338119984\n",
      "(-0.26653122901916504, 0.10432738065719604)\n",
      "[ 0.50688517 -0.07497478] -0.039130758002915655 [-2.9995419e-05 -1.0394772e-03] -0.006838920526206493\n",
      "(-0.2653246521949768, 0.10423677414655685)\n",
      "[ 0.53481048 -0.08096883] -0.04296198154710407 [0.00029991 0.00035905] -0.006743430159986019\n",
      "(-0.2658497989177704, 0.10419109463691711)\n",
      "[ 0.5626021  -0.08752882] -0.046999733233827 [ 0.00064389 -0.00037611] -0.006743049249053001\n",
      "(-0.2660961449146271, 0.10387209057807922)\n",
      "[ 0.59023356 -0.09444492] -0.05125426623328355 [ 1.0853284e-05 -4.1821474e-04] -0.006839686073362827\n",
      "(-0.26548030972480774, 0.10422547906637192)\n",
      "[ 0.61793101 -0.10158029] -0.055722384752163734 [0.00037105 0.00013105] -0.006838920526206493\n",
      "(-0.26553815603256226, 0.10406561195850372)\n",
      "[ 0.645482   -0.10917887] -0.06039929510050612 [3.817886e-04 6.686021e-05] -0.006839686073362827\n",
      "(-0.265991747379303, 0.10341858863830566)\n",
      "[ 0.67274022 -0.11725625] -0.06529045675854572 [-0.00108632 -0.00016603] -0.006744205020368099\n",
      "(-0.26521724462509155, 0.10429271310567856)\n",
      "[ 0.7002117  -0.12554024] -0.07039493761990112 [-0.000277    0.00037742] -0.006838920526206493\n",
      "(-0.2651768922805786, 0.10427040606737137)\n",
      "[ 0.72754794 -0.13436183] -0.07570474820130091 [0.00044428 0.00034694] -0.006743049249053001\n",
      "(-0.26625046133995056, 0.10410923510789871)\n",
      "[ 0.75464052 -0.14393061] -0.08123014167294329 [ 0.00053639 -0.00078756] -0.006743430159986019\n",
      "(-0.26602840423583984, 0.10431002080440521)\n",
      "[ 0.78173655 -0.15374562] -0.08698003962447842 [ 0.0008801  -0.00049543] -0.006744205020368099\n",
      "(-0.2661193907260895, 0.1038094311952591)\n",
      "[ 0.80856407 -0.16403857] -0.09294418888571077 [ 6.2010964e-05 -4.1969129e-04] -0.006744205020368099\n",
      "(-0.26632174849510193, 0.1040918231010437)\n",
      "[ 0.83532125 -0.17486979] -0.09912272261469468 [ 5.9145892e-05 -7.6486362e-04] -0.006744594778865576\n",
      "(-0.266051322221756, 0.10413042455911636)\n",
      "[ 0.86197871 -0.18610717] -0.10551657291781158 [ 0.00010547 -0.00043985] -0.006745378952473402\n",
      "(-0.2664492130279541, 0.10389301180839539)\n",
      "[ 0.88835949 -0.19803619] -0.1121217450534262 [-0.00040098 -0.0008059 ] -0.006840466056019068\n",
      "(-0.26628348231315613, 0.10424429923295975)\n",
      "[ 0.91470528 -0.21041183] -0.118944231133991 [-4.1245727e-05 -7.2080607e-04] -0.006840466056019068\n",
      "(-0.2648985981941223, 0.10415446013212204)\n",
      "[ 0.94099337 -0.22292505] -0.1259696500896199 [0.0001644  0.00084589] -0.006840466056019068\n",
      "(-0.2655137777328491, 0.10400498658418655)\n",
      "[ 0.96687657 -0.23651186] -0.1331913440175878 [2.4311543e-04 2.5870107e-05] -0.006744594778865576\n",
      "(-0.26680952310562134, 0.10406552255153656)\n",
      "[ 0.99243301 -0.25106782] -0.14063634400295832 [ 0.00014745 -0.00133767] -0.006840466056019068\n",
      "(-0.2656598389148712, 0.10416070371866226)\n",
      "[ 1.01804745 -0.26555094] -0.14830744636487747 [1.5460017e-04 6.4863838e-05] -0.006840855814516544\n",
      "(-0.26550930738449097, 0.10431011021137238)\n",
      "[ 1.04342353 -0.28079155] -0.15617788633438856 [ 7.872857e-04 -9.191506e-06] -0.006744984537363052\n",
      "(-0.26626184582710266, 0.10418405383825302)\n",
      "[ 1.06838667 -0.29699582] -0.1642601807686157 [ 0.00090825 -0.00079505] -0.006745778024196625\n",
      "(-0.26511573791503906, 0.10390553623437881)\n",
      "[ 1.09323692 -0.31326804] -0.17255779177697583 [0.0002983 0.0007054] -0.006842442322522402\n",
      "(-0.265054315328598, 0.10401173681020737)\n",
      "[ 1.11774969 -0.33044022] -0.18105047933518392 [0.00037515 0.00054973] -0.00674657104536891\n",
      "(-0.2654147446155548, 0.10395027697086334)\n",
      "[ 1.14186621 -0.34848532] -0.1897510266164728 [0.00019595 0.00020299] -0.006842442322522402\n",
      "(-0.26549533009529114, 0.10370566695928574)\n",
      "[ 1.16561937 -0.36716658] -0.19866848836854878 [-0.00051907  0.00025028] -0.006746162660419941\n",
      "(-0.26563760638237, 0.10416145622730255)\n",
      "[ 1.18915331 -0.38659778] -0.20780046774643068 [-9.367891e-05 -8.989675e-05] -0.006841250229626894\n",
      "(-0.2653907537460327, 0.10414811223745346)\n",
      "[ 1.21240389 -0.40658069] -0.21714629895984494 [0.00017908 0.00022768] -0.006842033937573433\n",
      "(-0.26515963673591614, 0.10380620509386063)\n",
      "[ 1.23521793 -0.42721412] -0.2266966609449783 [-0.00030512  0.00059171] -0.006842033937573433\n",
      "(-0.2653380036354065, 0.1039746105670929)\n",
      "[ 1.25761604 -0.4487496 ] -0.23645488265319248 [-0.00022085  0.00027058] -0.006745378952473402\n",
      "(-0.266519695520401, 0.10411158949136734)\n",
      "[ 1.27940106 -0.47152379] -0.24643641041880926 [-4.3117128e-05 -1.0571312e-03] -0.006841250229626894\n",
      "(-0.26661553978919983, 0.10432036966085434)\n",
      "[ 1.30094707 -0.49477628] -0.2566552258375525 [ 0.00033715 -0.0010986 ] -0.006841250229626894\n",
      "(-0.2651977241039276, 0.1041053980588913)\n",
      "[ 1.32237065 -0.51801008] -0.2670817678213222 [0.00025677 0.00057332] -0.006842442322522402\n",
      "(-0.2649397850036621, 0.10384117066860199)\n",
      "[ 1.34311128 -0.54227614] -0.27768927160116164 [-5.5649307e-05  7.6660007e-04] -0.00674657104536891\n",
      "(-0.26590830087661743, 0.10416696220636368)\n",
      "[ 1.36310744 -0.56796205] -0.28850370299770134 [ 0.00034726 -0.00045981] -0.006842033937573433\n",
      "(-0.26563677191734314, 0.10399321466684341)\n",
      "[ 1.38272119 -0.59407341] -0.29954410361273354 [8.7765911e-05 5.7799018e-05] -0.006842033937573433\n",
      "(-0.26556870341300964, 0.10391086339950562)\n",
      "[ 1.40177047 -0.62095463] -0.31079223079279217 [-0.00020357  0.000112  ] -0.006842033937573433\n",
      "(-0.26493364572525024, 0.10412002354860306)\n",
      "[ 1.42047679 -0.64834106] -0.3222423587415335 [0.00010334 0.00072677] -0.006842033937573433\n",
      "(-0.2651515007019043, 0.10374844074249268)\n",
      "[ 1.438308   -0.67679638] -0.3338898269270496 [-0.00037461  0.00055487] -0.006746162660419941\n",
      "(-0.26547160744667053, 0.10412643104791641)\n",
      "[ 1.45551038 -0.70625269] -0.345751945896426 [6.575686e-06 7.274230e-05] -0.006841250229626894\n",
      "(-0.26545217633247375, 0.1043781191110611)\n",
      "[ 1.47217739 -0.7364502 ] -0.35783231091713397 [7.9960196e-04 3.9855953e-05] -0.006841625552624464\n",
      "(-0.2662852704524994, 0.10383068770170212)\n",
      "[ 1.48777413 -0.76776254] -0.3701334519922099 [ 0.00010756 -0.00065866] -0.006842033937573433\n",
      "(-0.2662862539291382, 0.10380809754133224)\n",
      "[ 1.50283444 -0.79958451] -0.3826676196626684 [-0.00060425 -0.0005596 ] -0.006842033937573433\n",
      "(-0.26561465859413147, 0.10397929698228836)\n",
      "[ 1.51746273 -0.83184361] -0.3954095138981524 [-0.00069937  0.00011234] -0.006842033937573433\n",
      "(-0.26507577300071716, 0.10413020104169846)\n",
      "[ 1.5314033  -0.86487085] -0.40833902783243214 [-0.00027071  0.00057034] -0.006841250229626894\n",
      "(-0.26590102910995483, 0.10403314977884293)\n",
      "[ 1.54404175 -0.89934874] -0.4214702762192859 [-0.00011211 -0.00037968] -0.006745378952473402\n",
      "(-0.26603779196739197, 0.10420279949903488)\n",
      "[ 1.55596912 -0.93452722] -0.4348289585632328 [ 0.00017273 -0.00048511] -0.006841250229626894\n",
      "(-0.265516459941864, 0.10418528318405151)\n",
      "[ 1.56729507 -0.97014087] -0.44840069379438496 [0.00039062 0.00011434] -0.006842033937573433\n",
      "(-0.2654736638069153, 0.10385138541460037)\n",
      "[ 1.57756042 -1.00659895] -0.46216963610425843 [-8.4351523e-05  2.3293936e-04] -0.006842033937573433\n",
      "(-0.26560333371162415, 0.1038784608244896)\n",
      "[ 1.58680534 -1.0439539 ] -0.4761431091858501 [-3.8222718e-04  6.9063222e-05] -0.006841250229626894\n",
      "(-0.26588019728660583, 0.10411234200000763)\n",
      "[ 1.59501457 -1.08226252] -0.490333496738228 [-0.00013801 -0.00031699] -0.006841250229626894\n",
      "(-0.2660294771194458, 0.1040339395403862)\n",
      "[ 1.60220182 -1.12131977] -0.5047437282385925 [-0.0002047  -0.00040763] -0.006841250229626894\n",
      "(-0.26576271653175354, 0.10396958887577057)\n",
      "[ 1.60852671 -1.16089761] -0.5193662136778361 [-3.959288e-04 -7.135948e-05] -0.006841250229626894\n",
      "(-0.26580554246902466, 0.10415906459093094)\n",
      "[ 1.61374247 -1.2013309 ] -0.5341922977824165 [-6.167765e-05 -2.374756e-04] -0.006841250229626894\n",
      "(-0.26538994908332825, 0.1039462611079216)\n",
      "[ 1.61799085 -1.2422595 ] -0.5492217142362232 [-0.00027695  0.00033225] -0.006841648835688829\n",
      "(-0.26510706543922424, 0.10393518209457397)\n",
      "[ 1.62108433 -1.28391814] -0.5644428782885171 [-0.00031475  0.00057476] -0.006745778024196625\n",
      "(-0.2659319341182709, 0.10387705266475677)\n",
      "[ 1.62242174 -1.32682228] -0.5798708367994552 [-0.00054345 -0.00033589] -0.006840466056019068\n",
      "(-0.2656534016132355, 0.1039874255657196)\n",
      "[ 1.62294817 -1.37003911] -0.5955262292674863 [-5.9742649e-04  3.8649683e-05] -0.006840466056019068\n",
      "(-0.26588255167007446, 0.104087695479393)\n",
      "[ 1.62207294 -1.41408587] -0.6113902804069244 [-0.00036633 -0.00030288] -0.006840466056019068\n",
      "(-0.2660905420780182, 0.10396972298622131)\n",
      "[ 1.61984122 -1.45877039] -0.627472577597695 [-0.00052948 -0.0004469 ] -0.006840062793344259\n",
      "(-0.26562803983688354, 0.10419390350580215)\n",
      "[ 1.61666906 -1.50380588] -0.643765663988745 [-1.3801038e-04 -9.3778617e-06] -0.006840062793344259\n",
      "(-0.26527491211891174, 0.10421866923570633)\n",
      "[ 1.61217844 -1.54940784] -0.6602489000816272 [0.00032801 0.00031716] -0.006840062793344259\n",
      "(-0.26529109477996826, 0.1039915457367897)\n",
      "[ 1.60604823 -1.59569144] -0.6769249490374305 [0.00023394 0.00035289] -0.006840466056019068\n",
      "(-0.265306293964386, 0.10411611944437027)\n",
      "[ 1.5984391  -1.64258277] -0.6938040640263532 [0.00044682 0.00027939] -0.006840466056019068\n",
      "(-0.26492252945899963, 0.10427071899175644)\n",
      "[ 1.58961439 -1.68983257] -0.7108847803097937 [0.00097989 0.00064599] -0.006840466056019068\n",
      "(-0.26522672176361084, 0.1038801446557045)\n",
      "[ 1.57884192 -1.7377429 ] -0.7281639020944466 [0.00055246 0.00042578] -0.006841250229626894\n",
      "(-0.26619768142700195, 0.10366389900445938)\n",
      "[ 1.56590128 -1.78643954] -0.7456720557328449 [-0.00038593 -0.00053133] -0.006841250229626894\n",
      "(-0.26638615131378174, 0.10386253893375397)\n",
      "[ 1.55168855 -1.83536255] -0.7634276170365126 [-0.00085091 -0.00070297] -0.006840466056019068\n",
      "(-0.2660609781742096, 0.10400690883398056)\n",
      "[ 1.53628397 -1.88439965] -0.7814023564978934 [-0.00089054 -0.00037694] -0.006840466056019068\n",
      "(-0.2657870054244995, 0.10399936139583588)\n",
      "[ 1.51932442 -1.93368828] -0.7995723056671764 [-0.00085855 -0.00010606] -0.006840062793344259\n",
      "(-0.2655998468399048, 0.10380981862545013)\n",
      "[ 1.50060391 -1.98324192] -0.8179334698027283 [-0.00119845  0.00015189] -0.006840062793344259\n",
      "(-0.2656730115413666, 0.10422161966562271)\n",
      "[ 1.47999299 -2.03326249] -0.836491974175054 [-0.00049448 -0.00013273] -0.006839269772171974\n",
      "(-0.2657982110977173, 0.10439133644104004)\n",
      "[ 1.45751595 -2.08358002] -0.8552590040607342 [ 0.00037592 -0.00032108] -0.006839269772171974\n",
      "(-0.2658729553222656, 0.10390965640544891)\n",
      "[ 1.43315959 -2.1339252 ] -0.8742393531497292 [-7.2882103e-05 -1.8630439e-04] -0.006839269772171974\n",
      "(-0.26577797532081604, 0.10396675765514374)\n",
      "[ 1.40712023 -2.1842978 ] -0.8934284940681856 [-0.00026173 -0.00011498] -0.006839269772171974\n",
      "(-0.26584166288375854, 0.10405395925045013)\n",
      "[ 1.37913036 -2.2347734 ] -0.9128226983905785 [-0.00020459 -0.00022939] -0.006839269772171974\n",
      "(-0.2659829556941986, 0.10411307215690613)\n",
      "[ 1.34912634 -2.28530502] -0.932427026122979 [-5.8439302e-05 -3.9963727e-04] -0.006839269772171974\n",
      "(-0.26526007056236267, 0.10403276979923248)\n",
      "[ 1.31786704 -2.33545256] -0.9522305583049171 [-9.6609401e-05  4.5818198e-04] -0.0068396409042179585\n",
      "(-0.26486295461654663, 0.10395639389753342)\n",
      "[ 1.28462517 -2.38547564] -0.9722047991127294 [-0.00011546  0.00083372] -0.006839269772171974\n",
      "(-0.26572754979133606, 0.10401952266693115)\n",
      "[ 1.24832857 -2.4357481 ] -0.9923755812089894 [ 7.2218368e-06 -2.0013345e-04] -0.006838898174464703\n",
      "(-0.2657400071620941, 0.10405247658491135)\n",
      "[ 1.21038687 -2.48563075] -1.0127807214811764 [-5.36832977e-06 -1.09041015e-04] -0.006839269772171974\n",
      "(-0.26498040556907654, 0.10417492687702179)\n",
      "[ 1.17122877 -2.53495479] -1.0333855988351193 [0.00033927 0.00067385] -0.006839269772171974\n",
      "(-0.26543739438056946, 0.10397353023290634)\n",
      "[ 1.1291734  -2.58411336] -1.0541747669364963 [0.00025301 0.00015569] -0.006838898174464703\n",
      "(-0.26543229818344116, 0.10381931066513062)\n",
      "[ 1.15406144 -2.60240841] -1.0754829851343288 [-0.00025265  0.00028939] -0.006838898174464703\n",
      "(-0.2652055323123932, 0.10407793521881104)\n",
      "[ 1.11277187 -2.64846134] -1.0979163888927204 [-2.0393156e-05  4.2146986e-04] -0.006838898174464703\n",
      "(-0.26573190093040466, 0.10435517132282257)\n",
      "[ 1.02249074 -2.70992637] -1.1205655086994089 [ 0.00076565 -0.00030261] -0.006838898174464703\n",
      "(-0.26675012707710266, 0.10404854267835617)\n",
      "[ 0.8572697  -2.79222274] -1.1431834695213432 [ 0.00050628 -0.00124375] -0.006744191516190767\n",
      "(-0.26637786626815796, 0.10396852344274521)\n",
      "[ 0.79334646 -2.84289145] -1.1661500381299685 [-5.3884236e-05 -6.7035167e-04] -0.006840062793344259\n"
     ]
    },
    {
     "name": "stderr",
     "output_type": "stream",
     "text": [
      "INFO:/home/fidgetsinner/myworkspace/metadrive/metadrive/envs/base_env.py:Episode ended! Index: 0 Reason: out_of_road.\n"
     ]
    },
    {
     "name": "stdout",
     "output_type": "stream",
     "text": [
      "(-0.26490193605422974, 0.10394605994224548)\n",
      "[ 0.74630147 -2.88626933] -1.1887261873227875 [-0.00030698  0.00092602] -0.006840062793344259\n"
     ]
    },
    {
     "name": "stderr",
     "output_type": "stream",
     "text": [
      "INFO:/home/fidgetsinner/myworkspace/metadrive/metadrive/envs/base_env.py:Episode ended! Index: 0 Reason: out_of_road.\n"
     ]
    },
    {
     "name": "stdout",
     "output_type": "stream",
     "text": [
      "(-0.26541244983673096, 0.10411699116230011)\n",
      "[ 0.74158883 -2.916677  ] -1.2113798345033286 [0.00012035 0.00010053] -0.006838898174464703\n"
     ]
    },
    {
     "name": "stderr",
     "output_type": "stream",
     "text": [
      "INFO:/home/fidgetsinner/myworkspace/metadrive/metadrive/envs/base_env.py:Episode ended! Index: 0 Reason: out_of_road.\n"
     ]
    },
    {
     "name": "stdout",
     "output_type": "stream",
     "text": [
      "(-0.26667478680610657, 0.10416795313358307)\n",
      "[ 0.70989454 -2.95328522] -1.2341139091487907 [ 0.00031894 -0.00123644] -0.006840062793344259\n"
     ]
    },
    {
     "name": "stderr",
     "output_type": "stream",
     "text": [
      "INFO:/home/fidgetsinner/myworkspace/metadrive/metadrive/envs/base_env.py:Episode ended! Index: 0 Reason: out_of_road.\n"
     ]
    },
    {
     "name": "stdout",
     "output_type": "stream",
     "text": [
      "(-0.2664116322994232, 0.10428915172815323)\n",
      "[ 0.63323337 -2.86882806] -1.2570969893561736 [ 0.00053404 -0.00084201] -0.00684044323861599\n"
     ]
    },
    {
     "name": "stderr",
     "output_type": "stream",
     "text": [
      "INFO:/home/fidgetsinner/myworkspace/metadrive/metadrive/envs/base_env.py:Episode ended! Index: 0 Reason: out_of_road.\n"
     ]
    },
    {
     "name": "stdout",
     "output_type": "stream",
     "text": [
      "(-0.26566341519355774, 0.10431136190891266)\n",
      "[ 0.66878992 -2.89260006] -1.2792933717775483 [ 8.818742e-04 -6.691119e-05] -0.00684044323861599\n"
     ]
    },
    {
     "name": "stderr",
     "output_type": "stream",
     "text": [
      "INFO:/home/fidgetsinner/myworkspace/metadrive/metadrive/envs/base_env.py:Episode ended! Index: 0 Reason: out_of_road.\n"
     ]
    },
    {
     "name": "stdout",
     "output_type": "stream",
     "text": [
      "(-0.2662629783153534, 0.10385673493146896)\n",
      "[ 0.49779543 -2.94153452] -1.3004234244984545 [ 0.0002134  -0.00063383] -0.006841245573014021\n"
     ]
    },
    {
     "name": "stderr",
     "output_type": "stream",
     "text": [
      "INFO:/home/fidgetsinner/myworkspace/metadrive/metadrive/envs/base_env.py:Episode ended! Index: 0 Reason: out_of_road.\n"
     ]
    },
    {
     "name": "stdout",
     "output_type": "stream",
     "text": [
      "(-0.2666221559047699, 0.10399869084358215)\n",
      "[ 0.34710705 -2.98692417] -1.321157997797485 [-0.00011517 -0.00102019] -0.006841245573014021\n"
     ]
    },
    {
     "name": "stderr",
     "output_type": "stream",
     "text": [
      "INFO:/home/fidgetsinner/myworkspace/metadrive/metadrive/envs/base_env.py:Episode ended! Index: 0 Reason: out_of_road.\n"
     ]
    },
    {
     "name": "stdout",
     "output_type": "stream",
     "text": [
      "(-0.26596391201019287, 0.1044604629278183)\n",
      "[ 0.29740319 -3.00447917] -1.34086592249629 [ 0.00065714 -0.00043642] -0.0068416353315114975\n"
     ]
    },
    {
     "name": "stderr",
     "output_type": "stream",
     "text": [
      "INFO:/home/fidgetsinner/myworkspace/metadrive/metadrive/envs/base_env.py:Episode ended! Index: 0 Reason: out_of_road.\n"
     ]
    },
    {
     "name": "stdout",
     "output_type": "stream",
     "text": [
      "(-0.2650924324989319, 0.10428839921951294)\n",
      "[ 0.35514143 -3.00994706] -1.3610505530302177 [0.00104358 0.00053029] -0.0068416353315114975\n"
     ]
    },
    {
     "name": "stderr",
     "output_type": "stream",
     "text": [
      "INFO:/home/fidgetsinner/myworkspace/metadrive/metadrive/envs/base_env.py:Episode ended! Index: 0 Reason: out_of_road.\n"
     ]
    },
    {
     "name": "stdout",
     "output_type": "stream",
     "text": [
      "(-0.2649482786655426, 0.10374326258897781)\n",
      "[ 0.33351701 -3.04185319] -1.382482608218739 [0.00029575 0.00080775] -0.006842047907412052\n"
     ]
    },
    {
     "name": "stderr",
     "output_type": "stream",
     "text": [
      "INFO:/home/fidgetsinner/myworkspace/metadrive/metadrive/envs/base_env.py:Episode ended! Index: 0 Reason: out_of_road.\n"
     ]
    },
    {
     "name": "stdout",
     "output_type": "stream",
     "text": [
      "(-0.26578909158706665, 0.10384231060743332)\n",
      "[ 0.21112956 -3.07666969] -1.403533032423053 [-8.285345e-05 -1.941170e-04] -0.006842047907412052\n"
     ]
    },
    {
     "name": "stderr",
     "output_type": "stream",
     "text": [
      "INFO:/home/fidgetsinner/myworkspace/metadrive/metadrive/envs/base_env.py:Episode ended! Index: 0 Reason: out_of_road.\n"
     ]
    },
    {
     "name": "stdout",
     "output_type": "stream",
     "text": [
      "(-0.2660520076751709, 0.10403531044721603)\n",
      "[ 0.11352792 -3.10738921] -1.425480409282505 [-0.00013921 -0.0004483 ] -0.006842047907412052\n"
     ]
    },
    {
     "name": "stderr",
     "output_type": "stream",
     "text": [
      "INFO:/home/fidgetsinner/myworkspace/metadrive/metadrive/envs/base_env.py:Episode ended! Index: 0 Reason: out_of_road.\n"
     ]
    },
    {
     "name": "stdout",
     "output_type": "stream",
     "text": [
      "(-0.26527777314186096, 0.10402125120162964)\n",
      "[ 0.03543562 -3.13570356] -1.4486168875686776 [-0.00019597  0.00045057] -0.006842047907412052\n"
     ]
    },
    {
     "name": "stderr",
     "output_type": "stream",
     "text": [
      "INFO:/home/fidgetsinner/myworkspace/metadrive/metadrive/envs/base_env.py:Episode ended! Index: 0 Reason: out_of_road.\n"
     ]
    },
    {
     "name": "stdout",
     "output_type": "stream",
     "text": [
      "(-0.265004962682724, 0.10397890955209732)\n",
      "[-0.04211082 -3.16269445] -1.4725587057684901 [-0.00015523  0.00066839] -0.006841245573014021\n"
     ]
    },
    {
     "name": "stderr",
     "output_type": "stream",
     "text": [
      "INFO:/home/fidgetsinner/myworkspace/metadrive/metadrive/envs/base_env.py:Episode ended! Index: 0 Reason: out_of_road.\n"
     ]
    },
    {
     "name": "stdout",
     "output_type": "stream",
     "text": [
      "(-0.2653026580810547, 0.10411965847015381)\n",
      "[-0.13841149 -3.18571353] -1.4968512622838652 [0.00020758 0.00025023] -0.006841245573014021\n"
     ]
    },
    {
     "name": "stderr",
     "output_type": "stream",
     "text": [
      "INFO:/home/fidgetsinner/myworkspace/metadrive/metadrive/envs/base_env.py:Episode ended! Index: 0 Reason: out_of_road.\n"
     ]
    },
    {
     "name": "stdout",
     "output_type": "stream",
     "text": [
      "(-0.2650497555732727, 0.10439315438270569)\n",
      "[-0.19010875 -3.19347858] -1.5225302604627364 [0.00105393 0.00045836] -0.006842047907412052\n"
     ]
    },
    {
     "name": "stderr",
     "output_type": "stream",
     "text": [
      "INFO:/home/fidgetsinner/myworkspace/metadrive/metadrive/envs/base_env.py:Episode ended! Index: 0 Reason: out_of_road.\n"
     ]
    },
    {
     "name": "stdout",
     "output_type": "stream",
     "text": [
      "(-0.2653319537639618, 0.10391473770141602)\n",
      "[-0.25372264 -3.19776845] -1.5506990479447227 [0.00064625 0.00031493] -0.006842442322522402\n"
     ]
    },
    {
     "name": "stderr",
     "output_type": "stream",
     "text": [
      "INFO:/home/fidgetsinner/myworkspace/metadrive/metadrive/envs/base_env.py:Episode ended! Index: 0 Reason: out_of_road.\n"
     ]
    },
    {
     "name": "stdout",
     "output_type": "stream",
     "text": [
      "(-0.2664390504360199, 0.10377693176269531)\n",
      "[-0.37474427 -3.21812677] -1.5800891611026193 [-9.729472e-05 -8.369428e-04] -0.006841648835688829\n"
     ]
    },
    {
     "name": "stderr",
     "output_type": "stream",
     "text": [
      "INFO:/home/fidgetsinner/myworkspace/metadrive/metadrive/envs/base_env.py:Episode ended! Index: 0 Reason: out_of_road.\n"
     ]
    },
    {
     "name": "stdout",
     "output_type": "stream",
     "text": [
      "(-0.2662047743797302, 0.1042475476861)\n",
      "[-0.45072144 -3.23981047] -1.6066094518698462 [ 0.00020297 -0.00063461] -0.006842047907412052\n"
     ]
    },
    {
     "name": "stderr",
     "output_type": "stream",
     "text": [
      "INFO:/home/fidgetsinner/myworkspace/metadrive/metadrive/envs/base_env.py:Episode ended! Index: 0 Reason: out_of_road.\n"
     ]
    },
    {
     "name": "stdout",
     "output_type": "stream",
     "text": [
      "(-0.2655865550041199, 0.10394632816314697)\n",
      "[-0.53249723 -3.2565918 ] -1.63111452864021 [-0.00015697  0.00015632] -0.006842850707471371\n"
     ]
    },
    {
     "name": "stderr",
     "output_type": "stream",
     "text": [
      "INFO:/home/fidgetsinner/myworkspace/metadrive/metadrive/envs/base_env.py:Episode ended! Index: 0 Reason: out_of_road.\n"
     ]
    },
    {
     "name": "stdout",
     "output_type": "stream",
     "text": [
      "(-0.2651703953742981, 0.10377709567546844)\n",
      "[-0.61763573 -3.26899862] -1.6549330424815523 [-0.00064566  0.00060508] -0.006842047907412052\n"
     ]
    },
    {
     "name": "stderr",
     "output_type": "stream",
     "text": [
      "INFO:/home/fidgetsinner/myworkspace/metadrive/metadrive/envs/base_env.py:Episode ended! Index: 0 Reason: out_of_road.\n"
     ]
    },
    {
     "name": "stdout",
     "output_type": "stream",
     "text": [
      "(-0.26497262716293335, 0.10406788438558578)\n",
      "[-0.70399928 -3.27876639] -1.6790724672342474 [-0.000275    0.00065401] -0.006842047907412052\n"
     ]
    },
    {
     "name": "stderr",
     "output_type": "stream",
     "text": [
      "INFO:/home/fidgetsinner/myworkspace/metadrive/metadrive/envs/base_env.py:Episode ended! Index: 0 Reason: out_of_road.\n"
     ]
    },
    {
     "name": "stdout",
     "output_type": "stream",
     "text": [
      "(-0.26505976915359497, 0.10419587790966034)\n",
      "[-0.79350317 -3.28585935] -1.7037407957794342 [0.00030363 0.00049132] -0.006841648835688829\n"
     ]
    },
    {
     "name": "stderr",
     "output_type": "stream",
     "text": [
      "INFO:/home/fidgetsinner/myworkspace/metadrive/metadrive/envs/base_env.py:Episode ended! Index: 0 Reason: out_of_road.\n"
     ]
    },
    {
     "name": "stdout",
     "output_type": "stream",
     "text": [
      "(-0.26550593972206116, 0.10365920513868332)\n",
      "[-0.88358444 -3.29064298] -1.7288352300990333 [-0.00052204  0.00023692] -0.006841648835688829\n"
     ]
    },
    {
     "name": "stderr",
     "output_type": "stream",
     "text": [
      "INFO:/home/fidgetsinner/myworkspace/metadrive/metadrive/envs/base_env.py:Episode ended! Index: 0 Reason: out_of_road.\n"
     ]
    },
    {
     "name": "stdout",
     "output_type": "stream",
     "text": [
      "(-0.2653534710407257, 0.10383229702711105)\n",
      "[-0.97393894 -3.293329  ] -1.7542116931780711 [-0.00080569  0.00037237] -0.006840855814516544\n"
     ]
    },
    {
     "name": "stderr",
     "output_type": "stream",
     "text": [
      "INFO:/home/fidgetsinner/myworkspace/metadrive/metadrive/envs/base_env.py:Episode ended! Index: 0 Reason: out_of_road.\n"
     ]
    },
    {
     "name": "stdout",
     "output_type": "stream",
     "text": [
      "(-0.26531562209129333, 0.10472511500120163)\n",
      "[-1.06563699 -3.29357815] -1.7797783059589403 [1.0118816e-03 1.7829565e-05] -0.006840855814516544\n"
     ]
    },
    {
     "name": "stderr",
     "output_type": "stream",
     "text": [
      "INFO:/home/fidgetsinner/myworkspace/metadrive/metadrive/envs/base_env.py:Episode ended! Index: 0 Reason: out_of_road.\n"
     ]
    },
    {
     "name": "stdout",
     "output_type": "stream",
     "text": [
      "(-0.26563915610313416, 0.10426797717809677)\n",
      "[-1.15915549 -3.2906158 ] -1.8055297421194618 [ 0.00130786 -0.00012748] -0.006842442322522402\n"
     ]
    },
    {
     "name": "stderr",
     "output_type": "stream",
     "text": [
      "INFO:/home/fidgetsinner/myworkspace/metadrive/metadrive/envs/base_env.py:Episode ended! Index: 0 Reason: out_of_road.\n"
     ]
    },
    {
     "name": "stdout",
     "output_type": "stream",
     "text": [
      "(-0.26550379395484924, 0.10365889966487885)\n",
      "[-1.2536217  -3.28467965] -1.831484643787265 [0.00014988 0.00029872] -0.006842442322522402\n"
     ]
    },
    {
     "name": "stderr",
     "output_type": "stream",
     "text": [
      "INFO:/home/fidgetsinner/myworkspace/metadrive/metadrive/envs/base_env.py:Episode ended! Index: 0 Reason: out_of_road.\n"
     ]
    },
    {
     "name": "stdout",
     "output_type": "stream",
     "text": [
      "(-0.265519917011261, 0.10383614152669907)\n",
      "[-1.34934187 -3.27572227] -1.857635820427407 [-0.00027754  0.00016971] -0.006842442322522402\n"
     ]
    },
    {
     "name": "stderr",
     "output_type": "stream",
     "text": [
      "INFO:/home/fidgetsinner/myworkspace/metadrive/metadrive/envs/base_env.py:Episode ended! Index: 0 Reason: out_of_road.\n"
     ]
    },
    {
     "name": "stdout",
     "output_type": "stream",
     "text": [
      "(-0.2657833993434906, 0.10395259410142899)\n",
      "[-1.44638622 -3.26353455] -1.8839949899486843 [-0.00039166 -0.00015339] -0.006842442322522402\n"
     ]
    },
    {
     "name": "stderr",
     "output_type": "stream",
     "text": [
      "INFO:/home/fidgetsinner/myworkspace/metadrive/metadrive/envs/base_env.py:Episode ended! Index: 0 Reason: out_of_road.\n"
     ]
    },
    {
     "name": "stdout",
     "output_type": "stream",
     "text": [
      "(-0.2657891809940338, 0.10383407771587372)\n",
      "[-1.54407859 -3.24828672] -1.910569609202149 [-8.045055e-04 -6.968246e-05] -0.006841648835688829\n"
     ]
    },
    {
     "name": "stderr",
     "output_type": "stream",
     "text": [
      "INFO:/home/fidgetsinner/myworkspace/metadrive/metadrive/envs/base_env.py:Episode ended! Index: 0 Reason: out_of_road.\n"
     ]
    },
    {
     "name": "stdout",
     "output_type": "stream",
     "text": [
      "(-0.2654918134212494, 0.10398324579000473)\n",
      "[-1.64226782 -3.23005795] -1.937339970795735 [-0.00075012  0.00019279] -0.006841250229626894\n"
     ]
    },
    {
     "name": "stderr",
     "output_type": "stream",
     "text": [
      "INFO:/home/fidgetsinner/myworkspace/metadrive/metadrive/envs/base_env.py:Episode ended! Index: 0 Reason: out_of_road.\n"
     ]
    },
    {
     "name": "stdout",
     "output_type": "stream",
     "text": [
      "(-0.2649697959423065, 0.10422494262456894)\n",
      "[-1.74085104 -3.20883703] -1.964281573647412 [-7.3770221e-05  6.3877896e-04] -0.006840855814516544\n"
     ]
    },
    {
     "name": "stderr",
     "output_type": "stream",
     "text": [
      "INFO:/home/fidgetsinner/myworkspace/metadrive/metadrive/envs/base_env.py:Episode ended! Index: 0 Reason: out_of_road.\n"
     ]
    },
    {
     "name": "stdout",
     "output_type": "stream",
     "text": [
      "(-0.2648908495903015, 0.10434159636497498)\n",
      "[-1.84038866 -3.18404746] -1.9913856293255847 [0.00080008 0.00061578] -0.006841250229626894\n"
     ]
    },
    {
     "name": "stderr",
     "output_type": "stream",
     "text": [
      "INFO:/home/fidgetsinner/myworkspace/metadrive/metadrive/envs/base_env.py:Episode ended! Index: 0 Reason: out_of_road.\n"
     ]
    },
    {
     "name": "stdout",
     "output_type": "stream",
     "text": [
      "(-0.2656238079071045, 0.10388243943452835)\n",
      "[-1.94130147 -3.15496325] -2.0186920852466024 [ 3.8014582e-04 -1.1530892e-05] -0.006841250229626894\n"
     ]
    },
    {
     "name": "stderr",
     "output_type": "stream",
     "text": [
      "INFO:/home/fidgetsinner/myworkspace/metadrive/metadrive/envs/base_env.py:Episode ended! Index: 0 Reason: out_of_road.\n"
     ]
    },
    {
     "name": "stdout",
     "output_type": "stream",
     "text": [
      "(-0.2657850980758667, 0.1037309542298317)\n",
      "[-2.04234123 -3.12246847] -2.046237160401292 [-4.1160005e-04 -4.7299767e-05] -0.006841250229626894\n"
     ]
    },
    {
     "name": "stderr",
     "output_type": "stream",
     "text": [
      "INFO:/home/fidgetsinner/myworkspace/metadrive/metadrive/envs/base_env.py:Episode ended! Index: 0 Reason: out_of_road.\n"
     ]
    },
    {
     "name": "stdout",
     "output_type": "stream",
     "text": [
      "(-0.2655502259731293, 0.10441064834594727)\n",
      "[-2.14331198 -3.08688593] -2.0739936905465344 [ 5.186278e-04 -6.396899e-05] -0.006841250229626894\n"
     ]
    },
    {
     "name": "stderr",
     "output_type": "stream",
     "text": [
      "INFO:/home/fidgetsinner/myworkspace/metadrive/metadrive/envs/base_env.py:Episode ended! Index: 0 Reason: out_of_road.\n"
     ]
    },
    {
     "name": "stdout",
     "output_type": "stream",
     "text": [
      "(-0.2654847502708435, 0.10416585206985474)\n",
      "[-2.24439716 -3.04756975] -2.101938772496954 [0.00069232 0.00010433] -0.006842033937573433\n"
     ]
    },
    {
     "name": "stderr",
     "output_type": "stream",
     "text": [
      "INFO:/home/fidgetsinner/myworkspace/metadrive/metadrive/envs/base_env.py:Episode ended! Index: 0 Reason: out_of_road.\n"
     ]
    },
    {
     "name": "stdout",
     "output_type": "stream",
     "text": [
      "(-0.2657720446586609, 0.10363311320543289)\n",
      "[-2.34577107 -3.00405335] -2.130082526264693 [-3.6835697e-04 -8.0475820e-06] -0.006842033937573433\n"
     ]
    },
    {
     "name": "stderr",
     "output_type": "stream",
     "text": [
      "INFO:/home/fidgetsinner/myworkspace/metadrive/metadrive/envs/base_env.py:Episode ended! Index: 0 Reason: out_of_road.\n"
     ]
    },
    {
     "name": "stdout",
     "output_type": "stream",
     "text": [
      "(-0.2656370997428894, 0.10355792194604874)\n",
      "[-2.44678283 -2.95696092] -2.158433473965241 [-0.00137132  0.00020138] -0.006841250229626894\n"
     ]
    },
    {
     "name": "stderr",
     "output_type": "stream",
     "text": [
      "INFO:/home/fidgetsinner/myworkspace/metadrive/metadrive/envs/base_env.py:Episode ended! Index: 0 Reason: out_of_road.\n"
     ]
    },
    {
     "name": "stdout",
     "output_type": "stream",
     "text": [
      "(-0.26588135957717896, 0.10413825511932373)\n",
      "[-2.54793024 -2.90582681] -2.1869836261153264 [-0.00082564 -0.00033226] -0.006840466056019068\n"
     ]
    },
    {
     "name": "stderr",
     "output_type": "stream",
     "text": [
      "INFO:/home/fidgetsinner/myworkspace/metadrive/metadrive/envs/base_env.py:Episode ended! Index: 0 Reason: out_of_road.\n"
     ]
    },
    {
     "name": "stdout",
     "output_type": "stream",
     "text": [
      "(-0.2658681273460388, 0.10442043840885162)\n",
      "[-2.6485796  -2.85100245] -2.215742570094874 [ 0.00014294 -0.00038392] -0.006840466056019068\n"
     ]
    },
    {
     "name": "stderr",
     "output_type": "stream",
     "text": [
      "INFO:/home/fidgetsinner/myworkspace/metadrive/metadrive/envs/base_env.py:Episode ended! Index: 0 Reason: out_of_road.\n"
     ]
    },
    {
     "name": "stdout",
     "output_type": "stream",
     "text": [
      "(-0.26582419872283936, 0.10394202917814255)\n",
      "[-2.74854302 -2.79219556] -2.2447004522078506 [-0.00018836 -0.00013537] -0.006840466056019068\n"
     ]
    },
    {
     "name": "stderr",
     "output_type": "stream",
     "text": [
      "INFO:/home/fidgetsinner/myworkspace/metadrive/metadrive/envs/base_env.py:Episode ended! Index: 0 Reason: out_of_road.\n"
     ]
    },
    {
     "name": "stdout",
     "output_type": "stream",
     "text": [
      "(-0.26606589555740356, 0.10399003326892853)\n",
      "[-2.8480494  -2.72910595] -2.27385887035091 [-0.00031404 -0.00045002] -0.006840466056019068\n"
     ]
    },
    {
     "name": "stderr",
     "output_type": "stream",
     "text": [
      "INFO:/home/fidgetsinner/myworkspace/metadrive/metadrive/envs/base_env.py:Episode ended! Index: 0 Reason: out_of_road.\n"
     ]
    },
    {
     "name": "stdout",
     "output_type": "stream",
     "text": [
      "(-0.265733540058136, 0.10428599268198013)\n",
      "[-2.94638276 -2.66256309] -2.3032178245240527 [ 0.00022785 -0.00016888] -0.006840855814516544\n"
     ]
    },
    {
     "name": "stderr",
     "output_type": "stream",
     "text": [
      "INFO:/home/fidgetsinner/myworkspace/metadrive/metadrive/envs/base_env.py:Episode ended! Index: 0 Reason: out_of_road.\n"
     ]
    },
    {
     "name": "stdout",
     "output_type": "stream",
     "text": [
      "(-0.26576030254364014, 0.10412781685590744)\n",
      "[-3.04384685 -2.59170294] -2.3327578736513206 [ 0.00033951 -0.00017028] -0.006840855814516544\n"
     ]
    },
    {
     "name": "stderr",
     "output_type": "stream",
     "text": [
      "INFO:/home/fidgetsinner/myworkspace/metadrive/metadrive/envs/base_env.py:Episode ended! Index: 0 Reason: out_of_road.\n"
     ]
    },
    {
     "name": "stdout",
     "output_type": "stream",
     "text": [
      "(-0.2657526135444641, 0.1038634330034256)\n",
      "[-3.14008307 -2.5167129 ] -2.362489936693183 [-1.6950458e-04 -4.9247486e-05] -0.006840855814516544\n"
     ]
    },
    {
     "name": "stderr",
     "output_type": "stream",
     "text": [
      "INFO:/home/fidgetsinner/myworkspace/metadrive/metadrive/envs/base_env.py:Episode ended! Index: 0 Reason: out_of_road.\n"
     ]
    },
    {
     "name": "stdout",
     "output_type": "stream",
     "text": [
      "(-0.2658819556236267, 0.10397998243570328)\n",
      "[-3.23511147 -2.43746567] -2.3924188073396024 [-0.00029182 -0.00025103] -0.006840855814516544\n"
     ]
    },
    {
     "name": "stderr",
     "output_type": "stream",
     "text": [
      "INFO:/home/fidgetsinner/myworkspace/metadrive/metadrive/envs/base_env.py:Episode ended! Index: 0 Reason: out_of_road.\n"
     ]
    },
    {
     "name": "stdout",
     "output_type": "stream",
     "text": [
      "(-0.26550188660621643, 0.10412786155939102)\n",
      "[-3.32834196 -2.35471272] -2.422539425584508 [-5.7669287e-05  1.3378801e-04] -0.006840855814516544\n"
     ]
    },
    {
     "name": "stderr",
     "output_type": "stream",
     "text": [
      "INFO:/home/fidgetsinner/myworkspace/metadrive/metadrive/envs/base_env.py:Episode ended! Index: 0 Reason: out_of_road.\n"
     ]
    },
    {
     "name": "stdout",
     "output_type": "stream",
     "text": [
      "(-0.2648265063762665, 0.10399132966995239)\n",
      "[-3.41955352 -2.26847696] -2.4528150398048556 [-6.0550297e-05  8.9693913e-04] -0.006840855814516544\n"
     ]
    },
    {
     "name": "stderr",
     "output_type": "stream",
     "text": [
      "INFO:/home/fidgetsinner/myworkspace/metadrive/metadrive/envs/base_env.py:Episode ended! Index: 0 Reason: out_of_road.\n"
     ]
    },
    {
     "name": "stdout",
     "output_type": "stream",
     "text": [
      "(-0.2647942304611206, 0.10394485294818878)\n",
      "[-3.5091691  -2.17765212] -2.4832351305143403 [-3.1229192e-05  8.6369703e-04] -0.006840466056019068\n"
     ]
    },
    {
     "name": "stderr",
     "output_type": "stream",
     "text": [
      "INFO:/home/fidgetsinner/myworkspace/metadrive/metadrive/envs/base_env.py:Episode ended! Index: 0 Reason: out_of_road.\n"
     ]
    },
    {
     "name": "stdout",
     "output_type": "stream",
     "text": [
      "(-0.26545342803001404, 0.10396935790777206)\n",
      "[-3.59723186 -2.08168197] -2.5138508304058913 [-1.2987649e-05  1.2250974e-04] -0.006840466056019068\n"
     ]
    },
    {
     "name": "stderr",
     "output_type": "stream",
     "text": [
      "INFO:/home/fidgetsinner/myworkspace/metadrive/metadrive/envs/base_env.py:Episode ended! Index: 0 Reason: out_of_road.\n"
     ]
    },
    {
     "name": "stdout",
     "output_type": "stream",
     "text": [
      "(-0.2657284736633301, 0.10376321524381638)\n",
      "[-3.68297982 -1.98166037] -2.5447051495311133 [-6.1638583e-04 -8.8030774e-06] -0.006840466056019068\n"
     ]
    },
    {
     "name": "stderr",
     "output_type": "stream",
     "text": [
      "INFO:/home/fidgetsinner/myworkspace/metadrive/metadrive/envs/base_env.py:Episode ended! Index: 0 Reason: out_of_road.\n"
     ]
    },
    {
     "name": "stdout",
     "output_type": "stream",
     "text": [
      "(-0.26532793045043945, 0.10410375148057938)\n",
      "[-3.76605558 -1.87854242] -2.575768393643852 [-0.0003075   0.00031368] -0.0068396818824112415\n"
     ]
    },
    {
     "name": "stderr",
     "output_type": "stream",
     "text": [
      "INFO:/home/fidgetsinner/myworkspace/metadrive/metadrive/envs/base_env.py:Episode ended! Index: 0 Reason: out_of_road.\n"
     ]
    },
    {
     "name": "stdout",
     "output_type": "stream",
     "text": [
      "(-0.2650976777076721, 0.10448765754699707)\n",
      "[-3.8465991  -1.77159917] -2.607000082695538 [0.00087404 0.00036331] -0.006840466056019068\n"
     ]
    },
    {
     "name": "stderr",
     "output_type": "stream",
     "text": [
      "INFO:/home/fidgetsinner/myworkspace/metadrive/metadrive/envs/base_env.py:Episode ended! Index: 0 Reason: out_of_road.\n"
     ]
    },
    {
     "name": "stdout",
     "output_type": "stream",
     "text": [
      "(-0.2654940187931061, 0.10382495075464249)\n",
      "[-3.9244566  -1.65978003] -2.6384167282849305 [0.00027452 0.00018609] -0.006840076297521591\n"
     ]
    },
    {
     "name": "stderr",
     "output_type": "stream",
     "text": [
      "INFO:/home/fidgetsinner/myworkspace/metadrive/metadrive/envs/base_env.py:Episode ended! Index: 0 Reason: out_of_road.\n"
     ]
    },
    {
     "name": "stdout",
     "output_type": "stream",
     "text": [
      "(-0.26545077562332153, 0.10378135740756989)\n",
      "[-3.99925685 -1.54430115] -2.670042964652112 [-0.00031777  0.00028146] -0.006840076297521591\n"
     ]
    },
    {
     "name": "stderr",
     "output_type": "stream",
     "text": [
      "INFO:/home/fidgetsinner/myworkspace/metadrive/metadrive/envs/base_env.py:Episode ended! Index: 0 Reason: out_of_road.\n"
     ]
    },
    {
     "name": "stdout",
     "output_type": "stream",
     "text": [
      "(-0.26545393466949463, 0.10436612367630005)\n",
      "[-4.0710535  -1.42499185] -2.7018632123047057 [5.571292e-04 2.251107e-05] -0.006840076297521591\n"
     ]
    },
    {
     "name": "stderr",
     "output_type": "stream",
     "text": [
      "INFO:/home/fidgetsinner/myworkspace/metadrive/metadrive/envs/base_env.py:Episode ended! Index: 0 Reason: out_of_road.\n"
     ]
    },
    {
     "name": "stdout",
     "output_type": "stream",
     "text": [
      "(-0.26624158024787903, 0.10389665514230728)\n",
      "[-4.13958168 -1.30065954] -2.733899974953923 [ 6.8562724e-05 -6.3349580e-04] -0.006840076297521591\n"
     ]
    },
    {
     "name": "stderr",
     "output_type": "stream",
     "text": [
      "INFO:/home/fidgetsinner/myworkspace/metadrive/metadrive/envs/base_env.py:Episode ended! Index: 0 Reason: out_of_road.\n"
     ]
    },
    {
     "name": "stdout",
     "output_type": "stream",
     "text": [
      "(-0.26620009541511536, 0.10376990586519241)\n",
      "[-4.20435524 -1.17332804] -2.7661773542076284 [-0.00070903 -0.0004498 ] -0.006840466056019068\n"
     ]
    },
    {
     "name": "stderr",
     "output_type": "stream",
     "text": [
      "INFO:/home/fidgetsinner/myworkspace/metadrive/metadrive/envs/base_env.py:Episode ended! Index: 0 Reason: out_of_road.\n"
     ]
    },
    {
     "name": "stdout",
     "output_type": "stream",
     "text": [
      "(-0.26531386375427246, 0.10423022508621216)\n",
      "[-4.26531076 -1.04386795] -2.798633831044642 [-0.00017064  0.00032766] -0.006840466056019068\n"
     ]
    },
    {
     "name": "stderr",
     "output_type": "stream",
     "text": [
      "INFO:/home/fidgetsinner/myworkspace/metadrive/metadrive/envs/base_env.py:Episode ended! Index: 0 Reason: out_of_road.\n"
     ]
    },
    {
     "name": "stdout",
     "output_type": "stream",
     "text": [
      "(-0.26481765508651733, 0.1040443480014801)\n",
      "[-4.32232571 -0.91088182] -2.83121015013071 [6.084066e-06 8.625845e-04] -0.006840076297521591\n"
     ]
    },
    {
     "name": "stderr",
     "output_type": "stream",
     "text": [
      "INFO:/home/fidgetsinner/myworkspace/metadrive/metadrive/envs/base_env.py:Episode ended! Index: 0 Reason: out_of_road.\n"
     ]
    },
    {
     "name": "stdout",
     "output_type": "stream",
     "text": [
      "(-0.26527300477027893, 0.10396794229745865)\n",
      "[-4.37531281 -0.77311653] -2.8639417315083286 [2.7668682e-05 3.2358294e-04] -0.006840076297521591\n"
     ]
    },
    {
     "name": "stderr",
     "output_type": "stream",
     "text": [
      "INFO:/home/fidgetsinner/myworkspace/metadrive/metadrive/envs/base_env.py:Episode ended! Index: 0 Reason: out_of_road.\n"
     ]
    },
    {
     "name": "stdout",
     "output_type": "stream",
     "text": [
      "(-0.26594507694244385, 0.10422410070896149)\n",
      "[-4.42406178 -0.63114953] -2.896899015788332 [ 0.00047243 -0.00047266] -0.006840076297521591\n"
     ]
    },
    {
     "name": "stderr",
     "output_type": "stream",
     "text": [
      "INFO:/home/fidgetsinner/myworkspace/metadrive/metadrive/envs/base_env.py:Episode ended! Index: 0 Reason: out_of_road.\n"
     ]
    },
    {
     "name": "stdout",
     "output_type": "stream",
     "text": [
      "(-0.26625898480415344, 0.1042754277586937)\n",
      "[-4.46827221 -0.48607233] -2.9301065040527474 [ 0.00076892 -0.00075717] -0.006840076297521591\n"
     ]
    },
    {
     "name": "stderr",
     "output_type": "stream",
     "text": [
      "INFO:/home/fidgetsinner/myworkspace/metadrive/metadrive/envs/base_env.py:Episode ended! Index: 0 Reason: out_of_road.\n"
     ]
    },
    {
     "name": "stdout",
     "output_type": "stream",
     "text": [
      "(-0.2656763792037964, 0.10407394915819168)\n",
      "[-4.50774527 -0.3393507 ] -2.96352171888219 [5.424480e-04 8.052971e-06] -0.006841250229626894\n"
     ]
    },
    {
     "name": "stderr",
     "output_type": "stream",
     "text": [
      "INFO:/home/fidgetsinner/myworkspace/metadrive/metadrive/envs/base_env.py:Episode ended! Index: 0 Reason: out_of_road.\n"
     ]
    },
    {
     "name": "stdout",
     "output_type": "stream",
     "text": [
      "(-0.26554667949676514, 0.1038849875330925)\n",
      "[-4.54228783 -0.18947698] -2.9970917965290202 [8.5231295e-05 1.4751752e-04] -0.006840850692242384\n"
     ]
    },
    {
     "name": "stderr",
     "output_type": "stream",
     "text": [
      "INFO:/home/fidgetsinner/myworkspace/metadrive/metadrive/envs/base_env.py:Episode ended! Index: 0 Reason: out_of_road.\n"
     ]
    },
    {
     "name": "stdout",
     "output_type": "stream",
     "text": [
      "(-0.2657356560230255, 0.10399738699197769)\n",
      "[-4.57174587 -0.03627852] -3.0308393738625043 [-8.0411846e-06 -1.2176326e-04] -0.006841250229626894\n"
     ]
    },
    {
     "name": "stderr",
     "output_type": "stream",
     "text": [
      "INFO:/home/fidgetsinner/myworkspace/metadrive/metadrive/envs/base_env.py:Episode ended! Index: 0 Reason: out_of_road.\n"
     ]
    },
    {
     "name": "stdout",
     "output_type": "stream",
     "text": [
      "(-0.26554790139198303, 0.10409298539161682)\n",
      "[-4.59603643  0.11920065] -3.0647778998461472 [1.0346689e-04 7.8772784e-05] -0.006840850692242384\n"
     ]
    },
    {
     "name": "stderr",
     "output_type": "stream",
     "text": [
      "INFO:/home/fidgetsinner/myworkspace/metadrive/metadrive/envs/base_env.py:Episode ended! Index: 0 Reason: out_of_road.\n"
     ]
    },
    {
     "name": "stdout",
     "output_type": "stream",
     "text": [
      "(-0.2656562924385071, 0.10380365699529648)\n",
      "[-4.61477184  0.2774837 ] -3.098896455519479 [-4.3643010e-04  5.7880927e-05] -0.006841250229626894\n"
     ]
    },
    {
     "name": "stderr",
     "output_type": "stream",
     "text": [
      "INFO:/home/fidgetsinner/myworkspace/metadrive/metadrive/envs/base_env.py:Episode ended! Index: 0 Reason: out_of_road.\n"
     ]
    },
    {
     "name": "stdout",
     "output_type": "stream",
     "text": [
      "(-0.2651437819004059, 0.10395503789186478)\n",
      "[-4.62815905  0.43707356] -3.133190912982811 [-0.00047605  0.00057274] -0.006840076297521591\n"
     ]
    },
    {
     "name": "stderr",
     "output_type": "stream",
     "text": [
      "INFO:/home/fidgetsinner/myworkspace/metadrive/metadrive/envs/base_env.py:Episode ended! Index: 0 Reason: out_of_road.\n"
     ]
    },
    {
     "name": "stdout",
     "output_type": "stream",
     "text": [
      "(-0.26477381587028503, 0.10416632890701294)\n",
      "[-4.63593721  0.59857059] 3.1155581234053966 [9.0125388e-05 8.3420496e-04] -0.006840076297521591\n"
     ]
    },
    {
     "name": "stderr",
     "output_type": "stream",
     "text": [
      "INFO:/home/fidgetsinner/myworkspace/metadrive/metadrive/envs/base_env.py:Episode ended! Index: 0 Reason: out_of_road.\n"
     ]
    },
    {
     "name": "stdout",
     "output_type": "stream",
     "text": [
      "(-0.2653438448905945, 0.1041654497385025)\n",
      "[-4.63745165  0.76332575] 3.080952475568689 [0.00052788 0.00016182] -0.006839686073362827\n"
     ]
    },
    {
     "name": "stderr",
     "output_type": "stream",
     "text": [
      "INFO:/home/fidgetsinner/myworkspace/metadrive/metadrive/envs/base_env.py:Episode ended! Index: 0 Reason: out_of_road.\n"
     ]
    },
    {
     "name": "stdout",
     "output_type": "stream",
     "text": [
      "(-0.26592057943344116, 0.10401453822851181)\n",
      "[-4.63265324  0.93032104] 3.0461123363979996 [ 0.00036219 -0.00034261] -0.006840850692242384\n"
     ]
    },
    {
     "name": "stderr",
     "output_type": "stream",
     "text": [
      "INFO:/home/fidgetsinner/myworkspace/metadrive/metadrive/envs/base_env.py:Episode ended! Index: 0 Reason: out_of_road.\n"
     ]
    },
    {
     "name": "stdout",
     "output_type": "stream",
     "text": [
      "(-0.26638224720954895, 0.10386092960834503)\n",
      "[-4.62148428  1.09894013] 3.0110218600848433 [-0.00023936 -0.00072961] -0.006840850692242384\n"
     ]
    },
    {
     "name": "stderr",
     "output_type": "stream",
     "text": [
      "INFO:/home/fidgetsinner/myworkspace/metadrive/metadrive/envs/base_env.py:Episode ended! Index: 0 Reason: out_of_road.\n"
     ]
    },
    {
     "name": "stdout",
     "output_type": "stream",
     "text": [
      "(-0.26555463671684265, 0.10405591130256653)\n",
      "[-4.60474157  1.26685512] 2.975724322996933 [-0.00026749  0.00016118] -0.006840850692242384\n"
     ]
    },
    {
     "name": "stderr",
     "output_type": "stream",
     "text": [
      "INFO:/home/fidgetsinner/myworkspace/metadrive/metadrive/envs/base_env.py:Episode ended! Index: 0 Reason: out_of_road.\n"
     ]
    },
    {
     "name": "stdout",
     "output_type": "stream",
     "text": [
      "(-0.2642824649810791, 0.10431171953678131)\n",
      "[-4.58227444  1.43434691] 2.940327849474526 [0.00054828 0.00136449] -0.006840850692242384\n"
     ]
    },
    {
     "name": "stderr",
     "output_type": "stream",
     "text": [
      "INFO:/home/fidgetsinner/myworkspace/metadrive/metadrive/envs/base_env.py:Episode ended! Index: 0 Reason: out_of_road.\n"
     ]
    },
    {
     "name": "stdout",
     "output_type": "stream",
     "text": [
      "(-0.2649933993816376, 0.10400635749101639)\n",
      "[-4.55206251  1.60495281] 2.904828711092097 [0.00064684 0.00055302] -0.006840451620519161\n"
     ]
    },
    {
     "name": "stderr",
     "output_type": "stream",
     "text": [
      "INFO:/home/fidgetsinner/myworkspace/metadrive/metadrive/envs/base_env.py:Episode ended! Index: 0 Reason: out_of_road.\n"
     ]
    },
    {
     "name": "stdout",
     "output_type": "stream",
     "text": [
      "(-0.2654021382331848, 0.10381755232810974)\n",
      "[-4.51489687  1.77633631] 2.869109462445573 [0.00012179 0.00027244] -0.006840451620519161\n"
     ]
    },
    {
     "name": "stderr",
     "output_type": "stream",
     "text": [
      "INFO:/home/fidgetsinner/myworkspace/metadrive/metadrive/envs/base_env.py:Episode ended! Index: 0 Reason: out_of_road.\n"
     ]
    },
    {
     "name": "stdout",
     "output_type": "stream",
     "text": [
      "(-0.2662466764450073, 0.10405222326517105)\n",
      "[-4.47038841  1.94888449] 2.833142007185453 [ 0.00012429 -0.00072972] -0.006840451620519161\n"
     ]
    },
    {
     "name": "stderr",
     "output_type": "stream",
     "text": [
      "INFO:/home/fidgetsinner/myworkspace/metadrive/metadrive/envs/base_env.py:Episode ended! Index: 0 Reason: out_of_road.\n"
     ]
    },
    {
     "name": "stdout",
     "output_type": "stream",
     "text": [
      "(-0.26612189412117004, 0.10391552746295929)\n",
      "[-4.41949034  2.12029815] 2.796922616886212 [-0.00034774 -0.00041495] -0.006840850692242384\n"
     ]
    },
    {
     "name": "stderr",
     "output_type": "stream",
     "text": [
      "INFO:/home/fidgetsinner/myworkspace/metadrive/metadrive/envs/base_env.py:Episode ended! Index: 0 Reason: out_of_road.\n"
     ]
    },
    {
     "name": "stdout",
     "output_type": "stream",
     "text": [
      "(-0.2659289836883545, 0.1040143147110939)\n",
      "[-4.36184311  2.2909708 ] 2.760514408465684 [-0.00042106 -0.00027321] -0.006840451620519161\n"
     ]
    },
    {
     "name": "stderr",
     "output_type": "stream",
     "text": [
      "INFO:/home/fidgetsinner/myworkspace/metadrive/metadrive/envs/base_env.py:Episode ended! Index: 0 Reason: out_of_road.\n"
     ]
    },
    {
     "name": "stdout",
     "output_type": "stream",
     "text": [
      "(-0.2660191059112549, 0.10403884202241898)\n",
      "[-4.29690361  2.46127224] 2.723930830887375 [-0.00040534 -0.00039978] -0.006840850692242384\n"
     ]
    },
    {
     "name": "stderr",
     "output_type": "stream",
     "text": [
      "INFO:/home/fidgetsinner/myworkspace/metadrive/metadrive/envs/base_env.py:Episode ended! Index: 0 Reason: out_of_road.\n"
     ]
    },
    {
     "name": "stdout",
     "output_type": "stream",
     "text": [
      "(-0.2664889693260193, 0.10388839989900589)\n",
      "[-4.22419786  2.63130021] 2.687144986224274 [-0.00079325 -0.00084376] -0.006840850692242384\n"
     ]
    },
    {
     "name": "stderr",
     "output_type": "stream",
     "text": [
      "INFO:/home/fidgetsinner/myworkspace/metadrive/metadrive/envs/base_env.py:Episode ended! Index: 0 Reason: out_of_road.\n"
     ]
    },
    {
     "name": "stdout",
     "output_type": "stream",
     "text": [
      "(-0.2648535668849945, 0.1045340746641159)\n",
      "[-4.14663458  2.79757357] 2.650194158731642 [0.00041798 0.00075665] -0.006840466056019068\n"
     ]
    },
    {
     "name": "stderr",
     "output_type": "stream",
     "text": [
      "INFO:/home/fidgetsinner/myworkspace/metadrive/metadrive/envs/base_env.py:Episode ended! Index: 0 Reason: out_of_road.\n"
     ]
    },
    {
     "name": "stdout",
     "output_type": "stream",
     "text": [
      "(-0.2624879479408264, 0.10404124110937119)\n",
      "[-4.0638175   2.96012568] 2.6132531849350444 [0.00072305 0.00340131] -0.006840451620519161\n"
     ]
    },
    {
     "name": "stderr",
     "output_type": "stream",
     "text": [
      "INFO:/home/fidgetsinner/myworkspace/metadrive/metadrive/envs/base_env.py:Episode ended! Index: 0 Reason: out_of_road.\n"
     ]
    },
    {
     "name": "stdout",
     "output_type": "stream",
     "text": [
      "(-0.26580411195755005, 0.10318772494792938)\n",
      "[-3.96754265  3.12696552] 2.5762311178832533 [-0.00077291 -0.00023762] -0.0068396530114114285\n"
     ]
    },
    {
     "name": "stderr",
     "output_type": "stream",
     "text": [
      "INFO:/home/fidgetsinner/myworkspace/metadrive/metadrive/envs/base_env.py:Episode ended! Index: 0 Reason: out_of_road.\n"
     ]
    },
    {
     "name": "stdout",
     "output_type": "stream",
     "text": [
      "(-0.26459985971450806, 0.10416924953460693)\n",
      "[-3.86772251  3.28830314] 2.538876155695202 [-0.00026201  0.0011251 ] -0.006839686073362827\n"
     ]
    },
    {
     "name": "stderr",
     "output_type": "stream",
     "text": [
      "INFO:/home/fidgetsinner/myworkspace/metadrive/metadrive/envs/base_env.py:Episode ended! Index: 0 Reason: out_of_road.\n"
     ]
    },
    {
     "name": "stdout",
     "output_type": "stream",
     "text": [
      "(-0.2670150399208069, 0.10404807329177856)\n",
      "[-3.75669503  3.45051336] 2.501294425340331 [-0.00011549 -0.00167918] -0.006839253939688206\n"
     ]
    },
    {
     "name": "stderr",
     "output_type": "stream",
     "text": [
      "INFO:/home/fidgetsinner/myworkspace/metadrive/metadrive/envs/base_env.py:Episode ended! Index: 0 Reason: out_of_road.\n"
     ]
    },
    {
     "name": "stdout",
     "output_type": "stream",
     "text": [
      "(-0.2659029960632324, 0.10408647358417511)\n",
      "[-3.64187813  3.60684824] 2.463395379341577 [-0.00029727 -0.00013081] -0.006840466056019068\n"
     ]
    },
    {
     "name": "stderr",
     "output_type": "stream",
     "text": [
      "INFO:/home/fidgetsinner/myworkspace/metadrive/metadrive/envs/base_env.py:Episode ended! Index: 0 Reason: out_of_road.\n"
     ]
    },
    {
     "name": "stdout",
     "output_type": "stream",
     "text": [
      "(-0.2656281292438507, 0.10449334233999252)\n",
      "[-3.51974869  3.76023889] 2.4253607784433378 [ 0.00077411 -0.00017857] -0.006838515866547823\n"
     ]
    },
    {
     "name": "stderr",
     "output_type": "stream",
     "text": [
      "INFO:/home/fidgetsinner/myworkspace/metadrive/metadrive/envs/base_env.py:Episode ended! Index: 0 Reason: out_of_road.\n"
     ]
    },
    {
     "name": "stdout",
     "output_type": "stream",
     "text": [
      "(-0.2673795521259308, 0.10379265993833542)\n",
      "[-3.38721323  3.91200829] 2.3871176520317454 [-0.00012636 -0.00183553] -0.006841250229626894\n"
     ]
    },
    {
     "name": "stderr",
     "output_type": "stream",
     "text": [
      "INFO:/home/fidgetsinner/myworkspace/metadrive/metadrive/envs/base_env.py:Episode ended! Index: 0 Reason: out_of_road.\n"
     ]
    },
    {
     "name": "stdout",
     "output_type": "stream",
     "text": [
      "(-0.2616420090198517, 0.10342538356781006)\n",
      "[-3.25804925  4.0531168 ] 2.348765935226705 [-0.00145812  0.00491761] -0.006839295849204063\n"
     ]
    }
   ],
   "source": [
    "scenario = h[1]\n",
    "with torch.no_grad():\n",
    "    # reset\n",
    "    env.reset()\n",
    "\n",
    "    # allow car to settle\n",
    "    for _ in range(10):\n",
    "        env.step([0,0])\n",
    "\n",
    "    st = scenario[0]\n",
    "\n",
    "    # set the initial state\n",
    "    env.vehicle.set_velocity(st.velocity)\n",
    "    env.vehicle.set_heading_theta(st.heading)\n",
    "\n",
    "\n",
    "    for i in range(len(scenario)-1):\n",
    "        st0 = scenario[i]\n",
    "        st1 = scenario[i+1]\n",
    "        st0_pred = get_metadrive_state(env)\n",
    "        action = IDMPolicy(idm)((st0, st1))\n",
    "        env.step(action)\n",
    "        st1_pred = get_metadrive_state(env)\n",
    "        print(action)\n",
    "        print(st1_pred.velocity, st1_pred.heading, st1.velocity, st1.heading)\n",
    "        "
   ]
  },
  {
   "cell_type": "code",
   "execution_count": 113,
   "metadata": {},
   "outputs": [],
   "source": [
    "env.close()"
   ]
  },
  {
   "cell_type": "code",
   "execution_count": 114,
   "metadata": {},
   "outputs": [],
   "source": [
    "env = MetaDriveEnv(config={\"on_continuous_line_done\": False, \"use_render\": False})"
   ]
  },
  {
   "cell_type": "code",
   "execution_count": 116,
   "metadata": {},
   "outputs": [],
   "source": [
    "def compute_loss(s_pred: State, s_true:State) -> float:\n",
    "    \"\"\"\n",
    "    Computes the loss between the predicted state and the true state\n",
    "    \"\"\"\n",
    "    vel_error = np.linalg.norm(s_pred.velocity - s_true.velocity) ** 2\n",
    "    heading_error = normalize_angle(s_pred.heading - s_true.heading) ** 2\n",
    "    return float(vel_error + heading_error)\n",
    "\n",
    "\n",
    "def run_game(env: MetaDriveEnv, policy:typing.Callable[[Observation], Action], o: Observation) -> tuple[Action, float, State]:\n",
    "    s0, s1 = o\n",
    "    a = policy(o)\n",
    "    s1_pred = next_state(env, s0, a)\n",
    "    r = -compute_loss(s1, s1_pred)\n",
    "    return a, r, s1_pred\n"
   ]
  },
  {
   "cell_type": "code",
   "execution_count": 120,
   "metadata": {},
   "outputs": [],
   "source": [
    "idm_test_set = random.sample(idm_train_data, 500)"
   ]
  },
  {
   "cell_type": "code",
   "execution_count": 121,
   "metadata": {},
   "outputs": [
    {
     "data": {
      "image/png": "[encoded data removed]",
      "text/plain": [
       "<Figure size 640x480 with 1 Axes>"
      ]
     },
     "metadata": {},
     "output_type": "display_data"
    },
    {
     "name": "stdout",
     "output_type": "stream",
     "text": [
      "mean -0.028576100198793006\n",
      "median -0.002603338107250909\n"
     ]
    }
   ],
   "source": [
    "def null_policy(_:Observation) -> tuple[float, float]:\n",
    "    return 0, 0\n",
    "\n",
    "# test loss function\n",
    "do_nothing_loss = []\n",
    "for s0, s1 in idm_test_set:\n",
    "    _, rew, _ = run_game(env, null_policy, (s0, s1))\n",
    "    do_nothing_loss.append(rew)\n",
    "\n",
    "plt.hist(do_nothing_loss, bins=200)\n",
    "plt.show()\n",
    "print(\"mean\", np.mean(do_nothing_loss))\n",
    "print(\"median\", np.median(do_nothing_loss))"
   ]
  },
  {
   "cell_type": "code",
   "execution_count": 141,
   "metadata": {},
   "outputs": [
    {
     "data": {
      "image/png": "[encoded data removed]",
      "text/plain": [
       "<Figure size 640x480 with 1 Axes>"
      ]
     },
     "metadata": {},
     "output_type": "display_data"
    },
    {
     "name": "stdout",
     "output_type": "stream",
     "text": [
      "mean -0.1180650003180948\n",
      "median -0.059890544769290344\n"
     ]
    }
   ],
   "source": [
    "# test loss function\n",
    "idm_loss = []\n",
    "for s0, s1 in idm_test_set:\n",
    "    _, rew, _ = run_game(env, IDMPolicy(idm), (s0, s1))\n",
    "    idm_loss.append(rew)\n",
    "\n",
    "plt.hist(idm_loss, bins=200)\n",
    "plt.show()\n",
    "print(\"mean\", np.mean(idm_loss))\n",
    "print(\"median\", np.median(idm_loss))"
   ]
  }
 ],
 "metadata": {
  "kernelspec": {
   "display_name": "metadrive",
   "language": "python",
   "name": "python3"
  },
  "language_info": {
   "codemirror_mode": {
    "name": "ipython",
    "version": 3
   },
   "file_extension": ".py",
   "mimetype": "text/x-python",
   "name": "python",
   "nbconvert_exporter": "python",
   "pygments_lexer": "ipython3",
   "version": "3.11.3"
  },
  "orig_nbformat": 4
 },
 "nbformat": 4,
 "nbformat_minor": 2
}
