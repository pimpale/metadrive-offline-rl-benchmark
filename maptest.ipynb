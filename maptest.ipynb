{
 "cells": [
  {
   "cell_type": "code",
   "execution_count": 1,
   "metadata": {},
   "outputs": [],
   "source": [
    "%reload_ext autoreload\n",
    "%autoreload 2\n",
    "\n",
    "import metadrive\n",
    "from metadrive.envs.base_env import BaseEnv\n",
    "from metadrive.obs.observation_base import ObservationBase\n",
    "from metadrive.constants import DEFAULT_AGENT\n",
    "from metadrive.utils import Config\n",
    "from metadrive.manager.scenario_map_manager import ScenarioMapManager\n",
    "from metadrive.manager.base_manager import BaseManager\n",
    "from metadrive.scenario.scenario_description import ScenarioDescription\n",
    "from metadrive.manager.scenario_light_manager import ScenarioLightManager\n",
    "from metadrive.manager.scenario_traffic_manager import ScenarioTrafficManager\n",
    "from metadrive.component.vehicle_navigation_module.trajectory_navigation import TrajectoryNavigation\n",
    "\n"
   ]
  },
  {
   "cell_type": "code",
   "execution_count": 2,
   "metadata": {},
   "outputs": [
    {
     "name": "stderr",
     "output_type": "stream",
     "text": [
      "2023-09-01 18:38:58.129501: I tensorflow/tsl/cuda/cudart_stub.cc:28] Could not find cuda drivers on your machine, GPU will not be used.\n",
      "2023-09-01 18:38:58.169776: I tensorflow/tsl/cuda/cudart_stub.cc:28] Could not find cuda drivers on your machine, GPU will not be used.\n",
      "2023-09-01 18:38:58.170649: I tensorflow/core/platform/cpu_feature_guard.cc:182] This TensorFlow binary is optimized to use available CPU instructions in performance-critical operations.\n",
      "To enable the following instructions: AVX2 FMA, in other operations, rebuild TensorFlow with the appropriate compiler flags.\n",
      "2023-09-01 18:38:59.194155: W tensorflow/compiler/tf2tensorrt/utils/py_utils.cc:38] TF-TRT Warning: Could not find TensorRT\n"
     ]
    }
   ],
   "source": [
    "import scenario_to_metadrive\n",
    "import waymo_loader"
   ]
  },
  {
   "cell_type": "code",
   "execution_count": 3,
   "metadata": {},
   "outputs": [
    {
     "name": "stdout",
     "output_type": "stream",
     "text": [
      "Loading scenarios from Waymo dataset...\n"
     ]
    },
    {
     "name": "stderr",
     "output_type": "stream",
     "text": [
      "2023-09-01 18:39:00.022910: I tensorflow/compiler/xla/stream_executor/cuda/cuda_gpu_executor.cc:995] successful NUMA node read from SysFS had negative value (-1), but there must be at least one NUMA node, so returning NUMA node zero. See more at https://github.com/torvalds/linux/blob/v6.0/Documentation/ABI/testing/sysfs-bus-pci#L344-L355\n",
      "2023-09-01 18:39:00.044359: W tensorflow/core/common_runtime/gpu/gpu_device.cc:1960] Cannot dlopen some GPU libraries. Please make sure the missing libraries mentioned above are installed properly if you would like to use GPU. Follow the guide at https://www.tensorflow.org/install/gpu for how to download and setup the required libraries for your platform.\n",
      "Skipping registering GPU devices...\n",
      "/home/fidgetsinner/venvs/metadrive/lib/python3.11/site-packages/numpy/core/fromnumeric.py:3464: RuntimeWarning: Mean of empty slice.\n",
      "  return _methods._mean(a, axis=axis, dtype=dtype,\n",
      "/home/fidgetsinner/venvs/metadrive/lib/python3.11/site-packages/numpy/core/_methods.py:192: RuntimeWarning: invalid value encountered in scalar divide\n",
      "  ret = ret.dtype.type(ret / rcount)\n"
     ]
    },
    {
     "name": "stdout",
     "output_type": "stream",
     "text": [
      "Loaded 61 scenarios\n"
     ]
    }
   ],
   "source": [
    "import os\n",
    "import pickle\n",
    "\n",
    "path = \"~/data/waymo/training_20s.tfrecord-00000-of-01000\"\n",
    "path = os.path.expanduser(path)\n",
    "\n",
    "print(\"Loading scenarios from Waymo dataset...\")\n",
    "scenarios = waymo_loader.parse_file(path)\n",
    "print(f\"Loaded {len(scenarios)} scenarios\")"
   ]
  },
  {
   "cell_type": "code",
   "execution_count": 4,
   "metadata": {},
   "outputs": [],
   "source": [
    "data = scenario_to_metadrive.convert_scenario(scenarios[0])"
   ]
  },
  {
   "cell_type": "code",
   "execution_count": 9,
   "metadata": {},
   "outputs": [
    {
     "ename": "SyntaxError",
     "evalue": "invalid syntax. Perhaps you forgot a comma? (1375608633.py, line 27)",
     "output_type": "error",
     "traceback": [
      "\u001b[0;36m  Cell \u001b[0;32mIn[9], line 27\u001b[0;36m\u001b[0m\n\u001b[0;31m    \"max_lateral_dist\": 4\u001b[0m\n\u001b[0m                        ^\u001b[0m\n\u001b[0;31mSyntaxError\u001b[0m\u001b[0;31m:\u001b[0m invalid syntax. Perhaps you forgot a comma?\n"
     ]
    }
   ],
   "source": [
    "class InMemoryScenarioDataManager(BaseManager):\n",
    "    def __init__(self, scenario):\n",
    "        super().__init__()\n",
    "        self.current_scenario = scenario\n",
    "    \n",
    "    def get_scenario(self, i, should_copy=False):\n",
    "        return self.current_scenario\n",
    "\n",
    "class ReplayEnv(BaseEnv):\n",
    "    @classmethod\n",
    "    def default_config(cls) -> Config:\n",
    "        config = super().default_config()\n",
    "        config.update({\n",
    "            \"start_seed\": 0,\n",
    "            \"num_scenarios\": 1,\n",
    "            \"start_scenario_index\": 0,\n",
    "            \"no_map\": False,\n",
    "            \"store_map\": False,\n",
    "            \"need_lane_localization\": True,\n",
    "            \"vehicle_config\": dict(\n",
    "                lidar=dict(num_lasers=120, distance=50),\n",
    "                lane_line_detector=dict(num_lasers=0, distance=50),\n",
    "                side_detector=dict(num_lasers=12, distance=50),\n",
    "                show_dest_mark=True,\n",
    "                navigation_module=TrajectoryNavigation,\n",
    "            ),\n",
    "            \"max_lateral_dist\": 4,\n",
    "            # whether or not to base vehicle class purely on size or whether to evenly sample from all vehicle classes\n",
    "            \"even_sample_vehicle_class\": False,\n",
    "            # do show traffic lights\n",
    "            \"no_light\": False,\n",
    "            # if true, then any vehicle that is overlapping with another vehicle will be filtered \n",
    "            \"filter_overlapping_car\": False,\n",
    "            # whether to use the default vehicle model\n",
    "            \"default_vehicle_in_traffic\":False,\n",
    "        })\n",
    "        return config\n",
    "\n",
    "    def __init__(self, config, scenario):\n",
    "        super().__init__(config)\n",
    "        self.scenario = scenario\n",
    "\n",
    "    def done_function(self, vehicle_id: str):\n",
    "        return False, {}\n",
    "\n",
    "    def cost_function(self, vehicle_id: str):\n",
    "        return 0, {}\n",
    "    \n",
    "    def reward_function(self, vehicle_id: str):\n",
    "        return 0, {}\n",
    "\n",
    "    def _get_observations(self):\n",
    "        return {DEFAULT_AGENT: self.get_single_observation()}\n",
    "    \n",
    "    def setup_engine(self):\n",
    "        self.engine.register_manager(\"agent_manager\", self.agent_manager)\n",
    "        self.engine.register_manager(\"map_manager\", ScenarioMapManager())\n",
    "        self.engine.register_manager(\"scenario_traffic_manager\", ScenarioTrafficManager())\n",
    "        self.engine.register_manager(\"scenario_light_manager\", ScenarioLightManager()) \n",
    "        self.engine.register_manager(\"data_manager\", InMemoryScenarioDataManager(self.scenario))\n"
   ]
  },
  {
   "cell_type": "code",
   "execution_count": 6,
   "metadata": {},
   "outputs": [
    {
     "name": "stderr",
     "output_type": "stream",
     "text": [
      "\u001b[38;20m[INFO] MetaDrive version: 0.4.1.2\u001b[0m\n",
      "\u001b[38;20m[INFO] Sensors: [dashboard: VehiclePanel(), main_camera: MainCamera(1200, 900)]\u001b[0m\n",
      "\u001b[38;20m[INFO] Render Mode: onscreen\u001b[0m\n"
     ]
    }
   ],
   "source": [
    "env = ReplayEnv(config={\"use_render\": True, \"manual_control\": False}, scenario=ScenarioDescription(data))"
   ]
  },
  {
   "cell_type": "code",
   "execution_count": 7,
   "metadata": {},
   "outputs": [
    {
     "name": "stderr",
     "output_type": "stream",
     "text": [
      "\u001b[38;20m[INFO] Assets version: 0.4.1.2\u001b[0m\n"
     ]
    },
    {
     "name": "stderr",
     "output_type": "stream",
     "text": [
      "Known pipe types:\n",
      "  glxGraphicsPipe\n",
      "(1 aux display modules not yet loaded.)\n",
      ":device(warning): /dev/input/event7 is not readable, some features will be unavailable.\n",
      ":device(warning): /dev/input/event22 is not readable, some features will be unavailable.\n",
      ":device(warning): /dev/input/event23 is not readable, some features will be unavailable.\n"
     ]
    },
    {
     "ename": "KeyError",
     "evalue": "\"'even_sample_vehicle_class' does not exist in existing config. Please use config.update(...) to update the config. Existing keys: dict_keys(['random_agent_model', 'agent_policy', 'num_agents', 'is_multi_agent', 'allow_respawn', 'delay_done', 'return_single_space', 'manual_control', 'controller', 'decision_repeat', 'discrete_action', 'discrete_steering_dim', 'discrete_throttle_dim', 'use_multi_discrete', 'action_check', 'rgb_clip', 'rgb_to_grayscale', 'stack_size', 'image_observation', 'use_render', 'debug', 'disable_model_compression', 'cull_scene', 'use_chase_camera_follow_lane', 'camera_height', 'camera_dist', 'camera_pitch', 'camera_smooth', 'camera_fov', 'prefer_track_agent', 'draw_map_resolution', 'top_down_camera_initial_x', 'top_down_camera_initial_y', 'top_down_camera_initial_z', 'show_logo', 'vehicle_config', 'sensors', 'auto_resize_window', 'target_vehicle_configs', 'window_size', 'physics_world_step_size', 'show_fps', 'global_light', 'debug_physics_world', 'debug_static_world', 'pstats', 'image_on_cuda', '_render_mode', '_disable_detector_mask', 'force_render_fps', 'force_destroy', 'num_buffering_objects', 'render_pipeline', 'daytime', 'debug_panda3d', 'drivable_region_extension', 'height_scale', '_debug_crash_object', 'horizon', 'max_step_per_agent', 'show_interface_navi_mark', 'show_mouse', 'show_skybox', 'show_terrain', 'show_interface', 'show_policy_mark', 'show_coordinates', 'interface_panel', 'multi_thread_render', 'multi_thread_render_mode', 'preload_models', 'log_level', 'record_episode', 'replay_episode', 'only_reset_when_replay', 'force_reuse_object_name', 'start_seed', 'num_scenarios', 'start_scenario_index', 'no_map', 'store_map', 'need_lane_localization', 'max_lateral_dist']).\"",
     "output_type": "error",
     "traceback": [
      "\u001b[0;31m---------------------------------------------------------------------------\u001b[0m",
      "\u001b[0;31mKeyError\u001b[0m                                  Traceback (most recent call last)",
      "\u001b[1;32m/home/fidgetsinner/myworkspace/metadrive-offline-rl-benchmark/maptest.ipynb Cell 7\u001b[0m line \u001b[0;36m1\n\u001b[0;32m----> <a href='vscode-notebook-cell:/home/fidgetsinner/myworkspace/metadrive-offline-rl-benchmark/maptest.ipynb#W5sZmlsZQ%3D%3D?line=0'>1</a>\u001b[0m env\u001b[39m.\u001b[39;49mreset()\n\u001b[1;32m      <a href='vscode-notebook-cell:/home/fidgetsinner/myworkspace/metadrive-offline-rl-benchmark/maptest.ipynb#W5sZmlsZQ%3D%3D?line=1'>2</a>\u001b[0m \u001b[39mfor\u001b[39;00m i \u001b[39min\u001b[39;00m \u001b[39mrange\u001b[39m(\u001b[39m1000\u001b[39m):\n\u001b[1;32m      <a href='vscode-notebook-cell:/home/fidgetsinner/myworkspace/metadrive-offline-rl-benchmark/maptest.ipynb#W5sZmlsZQ%3D%3D?line=2'>3</a>\u001b[0m     env\u001b[39m.\u001b[39mstep([\u001b[39m0\u001b[39m, \u001b[39m1\u001b[39m])\n",
      "File \u001b[0;32m~/projects/metadrive/metadrive/envs/base_env.py:467\u001b[0m, in \u001b[0;36mBaseEnv.reset\u001b[0;34m(self, seed)\u001b[0m\n\u001b[1;32m    463\u001b[0m \u001b[39mif\u001b[39;00m \u001b[39mself\u001b[39m\u001b[39m.\u001b[39mlogger \u001b[39mis\u001b[39;00m \u001b[39mNone\u001b[39;00m:\n\u001b[1;32m    464\u001b[0m     \u001b[39mself\u001b[39m\u001b[39m.\u001b[39mlogger \u001b[39m=\u001b[39m get_logger(\n\u001b[1;32m    465\u001b[0m         \u001b[39mself\u001b[39m\u001b[39m.\u001b[39mconfig\u001b[39m.\u001b[39mget(\u001b[39m\"\u001b[39m\u001b[39mlog_level\u001b[39m\u001b[39m\"\u001b[39m, logging\u001b[39m.\u001b[39mDEBUG \u001b[39mif\u001b[39;00m \u001b[39mself\u001b[39m\u001b[39m.\u001b[39mconfig\u001b[39m.\u001b[39mget(\u001b[39m\"\u001b[39m\u001b[39mdebug\u001b[39m\u001b[39m\"\u001b[39m, \u001b[39mFalse\u001b[39;00m) \u001b[39melse\u001b[39;00m logging\u001b[39m.\u001b[39mINFO)\n\u001b[1;32m    466\u001b[0m     )\n\u001b[0;32m--> 467\u001b[0m \u001b[39mself\u001b[39;49m\u001b[39m.\u001b[39;49mlazy_init()  \u001b[39m# it only works the first time when reset() is called to avoid the error when render\u001b[39;00m\n\u001b[1;32m    468\u001b[0m \u001b[39mself\u001b[39m\u001b[39m.\u001b[39m_reset_global_seed(seed)\n\u001b[1;32m    469\u001b[0m \u001b[39mif\u001b[39;00m \u001b[39mself\u001b[39m\u001b[39m.\u001b[39mengine \u001b[39mis\u001b[39;00m \u001b[39mNone\u001b[39;00m:\n",
      "File \u001b[0;32m~/projects/metadrive/metadrive/envs/base_env.py:355\u001b[0m, in \u001b[0;36mBaseEnv.lazy_init\u001b[0;34m(self)\u001b[0m\n\u001b[1;32m    353\u001b[0m initialize_engine(\u001b[39mself\u001b[39m\u001b[39m.\u001b[39mconfig)\n\u001b[1;32m    354\u001b[0m \u001b[39m# engine setup\u001b[39;00m\n\u001b[0;32m--> 355\u001b[0m \u001b[39mself\u001b[39;49m\u001b[39m.\u001b[39;49msetup_engine()\n\u001b[1;32m    356\u001b[0m \u001b[39m# other optional initialization\u001b[39;00m\n\u001b[1;32m    357\u001b[0m \u001b[39mself\u001b[39m\u001b[39m.\u001b[39m_after_lazy_init()\n",
      "\u001b[1;32m/home/fidgetsinner/myworkspace/metadrive-offline-rl-benchmark/maptest.ipynb Cell 7\u001b[0m line \u001b[0;36m5\n\u001b[1;32m     <a href='vscode-notebook-cell:/home/fidgetsinner/myworkspace/metadrive-offline-rl-benchmark/maptest.ipynb#W5sZmlsZQ%3D%3D?line=47'>48</a>\u001b[0m \u001b[39mself\u001b[39m\u001b[39m.\u001b[39mengine\u001b[39m.\u001b[39mregister_manager(\u001b[39m\"\u001b[39m\u001b[39magent_manager\u001b[39m\u001b[39m\"\u001b[39m, \u001b[39mself\u001b[39m\u001b[39m.\u001b[39magent_manager)\n\u001b[1;32m     <a href='vscode-notebook-cell:/home/fidgetsinner/myworkspace/metadrive-offline-rl-benchmark/maptest.ipynb#W5sZmlsZQ%3D%3D?line=48'>49</a>\u001b[0m \u001b[39mself\u001b[39m\u001b[39m.\u001b[39mengine\u001b[39m.\u001b[39mregister_manager(\u001b[39m\"\u001b[39m\u001b[39mmap_manager\u001b[39m\u001b[39m\"\u001b[39m, ScenarioMapManager())\n\u001b[0;32m---> <a href='vscode-notebook-cell:/home/fidgetsinner/myworkspace/metadrive-offline-rl-benchmark/maptest.ipynb#W5sZmlsZQ%3D%3D?line=49'>50</a>\u001b[0m \u001b[39mself\u001b[39m\u001b[39m.\u001b[39mengine\u001b[39m.\u001b[39mregister_manager(\u001b[39m\"\u001b[39m\u001b[39mscenario_traffic_manager\u001b[39m\u001b[39m\"\u001b[39m, ScenarioTrafficManager())\n\u001b[1;32m     <a href='vscode-notebook-cell:/home/fidgetsinner/myworkspace/metadrive-offline-rl-benchmark/maptest.ipynb#W5sZmlsZQ%3D%3D?line=50'>51</a>\u001b[0m \u001b[39mself\u001b[39m\u001b[39m.\u001b[39mengine\u001b[39m.\u001b[39mregister_manager(\u001b[39m\"\u001b[39m\u001b[39mscenario_light_manager\u001b[39m\u001b[39m\"\u001b[39m, ScenarioLightManager()) \n\u001b[1;32m     <a href='vscode-notebook-cell:/home/fidgetsinner/myworkspace/metadrive-offline-rl-benchmark/maptest.ipynb#W5sZmlsZQ%3D%3D?line=51'>52</a>\u001b[0m \u001b[39mself\u001b[39m\u001b[39m.\u001b[39mengine\u001b[39m.\u001b[39mregister_manager(\u001b[39m\"\u001b[39m\u001b[39mdata_manager\u001b[39m\u001b[39m\"\u001b[39m, InMemoryScenarioDataManager(\u001b[39mself\u001b[39m\u001b[39m.\u001b[39mscenario))\n",
      "File \u001b[0;32m~/projects/metadrive/metadrive/manager/scenario_traffic_manager.py:57\u001b[0m, in \u001b[0;36mScenarioTrafficManager.__init__\u001b[0;34m(self)\u001b[0m\n\u001b[1;32m     54\u001b[0m \u001b[39mself\u001b[39m\u001b[39m.\u001b[39m_obj_to_clean_this_frame \u001b[39m=\u001b[39m []\n\u001b[1;32m     56\u001b[0m \u001b[39m# some flags\u001b[39;00m\n\u001b[0;32m---> 57\u001b[0m \u001b[39mself\u001b[39m\u001b[39m.\u001b[39meven_sample_v \u001b[39m=\u001b[39m \u001b[39mself\u001b[39;49m\u001b[39m.\u001b[39;49mengine\u001b[39m.\u001b[39;49mglobal_config[\u001b[39m\"\u001b[39;49m\u001b[39meven_sample_vehicle_class\u001b[39;49m\u001b[39m\"\u001b[39;49m]\n\u001b[1;32m     58\u001b[0m \u001b[39mself\u001b[39m\u001b[39m.\u001b[39mneed_default_vehicle \u001b[39m=\u001b[39m \u001b[39mself\u001b[39m\u001b[39m.\u001b[39mengine\u001b[39m.\u001b[39mglobal_config[\u001b[39m\"\u001b[39m\u001b[39mdefault_vehicle_in_traffic\u001b[39m\u001b[39m\"\u001b[39m]\n\u001b[1;32m     59\u001b[0m \u001b[39mself\u001b[39m\u001b[39m.\u001b[39mis_ego_vehicle_replay \u001b[39m=\u001b[39m \u001b[39mself\u001b[39m\u001b[39m.\u001b[39mengine\u001b[39m.\u001b[39mglobal_config[\u001b[39m\"\u001b[39m\u001b[39magent_policy\u001b[39m\u001b[39m\"\u001b[39m] \u001b[39m==\u001b[39m ReplayEgoCarPolicy\n",
      "File \u001b[0;32m~/projects/metadrive/metadrive/utils/config.py:205\u001b[0m, in \u001b[0;36mConfig.__getitem__\u001b[0;34m(self, item)\u001b[0m\n\u001b[1;32m    204\u001b[0m \u001b[39mdef\u001b[39;00m \u001b[39m__getitem__\u001b[39m(\u001b[39mself\u001b[39m, item):\n\u001b[0;32m--> 205\u001b[0m     \u001b[39mself\u001b[39;49m\u001b[39m.\u001b[39;49m_check_and_raise_key_error(item)\n\u001b[1;32m    206\u001b[0m     ret \u001b[39m=\u001b[39m \u001b[39mself\u001b[39m\u001b[39m.\u001b[39m_config[item]\n\u001b[1;32m    207\u001b[0m     \u001b[39mreturn\u001b[39;00m ret\n",
      "File \u001b[0;32m~/projects/metadrive/metadrive/utils/config.py:191\u001b[0m, in \u001b[0;36mConfig._check_and_raise_key_error\u001b[0;34m(self, key)\u001b[0m\n\u001b[1;32m    189\u001b[0m \u001b[39mdef\u001b[39;00m \u001b[39m_check_and_raise_key_error\u001b[39m(\u001b[39mself\u001b[39m, key):\n\u001b[1;32m    190\u001b[0m     \u001b[39mif\u001b[39;00m key \u001b[39mnot\u001b[39;00m \u001b[39min\u001b[39;00m \u001b[39mself\u001b[39m\u001b[39m.\u001b[39m_config:\n\u001b[0;32m--> 191\u001b[0m         \u001b[39mraise\u001b[39;00m \u001b[39mKeyError\u001b[39;00m(\n\u001b[1;32m    192\u001b[0m             \u001b[39m\"\u001b[39m\u001b[39m'\u001b[39m\u001b[39m{}\u001b[39;00m\u001b[39m'\u001b[39m\u001b[39m does not exist in existing config. \u001b[39m\u001b[39m\"\u001b[39m\n\u001b[1;32m    193\u001b[0m             \u001b[39m\"\u001b[39m\u001b[39mPlease use config.update(...) to update the config. Existing keys: \u001b[39m\u001b[39m{}\u001b[39;00m\u001b[39m.\u001b[39m\u001b[39m\"\u001b[39m\u001b[39m.\u001b[39mformat(\n\u001b[1;32m    194\u001b[0m                 key, \u001b[39mself\u001b[39m\u001b[39m.\u001b[39m_config\u001b[39m.\u001b[39mkeys()\n\u001b[1;32m    195\u001b[0m             )\n\u001b[1;32m    196\u001b[0m         )\n",
      "\u001b[0;31mKeyError\u001b[0m: \"'even_sample_vehicle_class' does not exist in existing config. Please use config.update(...) to update the config. Existing keys: dict_keys(['random_agent_model', 'agent_policy', 'num_agents', 'is_multi_agent', 'allow_respawn', 'delay_done', 'return_single_space', 'manual_control', 'controller', 'decision_repeat', 'discrete_action', 'discrete_steering_dim', 'discrete_throttle_dim', 'use_multi_discrete', 'action_check', 'rgb_clip', 'rgb_to_grayscale', 'stack_size', 'image_observation', 'use_render', 'debug', 'disable_model_compression', 'cull_scene', 'use_chase_camera_follow_lane', 'camera_height', 'camera_dist', 'camera_pitch', 'camera_smooth', 'camera_fov', 'prefer_track_agent', 'draw_map_resolution', 'top_down_camera_initial_x', 'top_down_camera_initial_y', 'top_down_camera_initial_z', 'show_logo', 'vehicle_config', 'sensors', 'auto_resize_window', 'target_vehicle_configs', 'window_size', 'physics_world_step_size', 'show_fps', 'global_light', 'debug_physics_world', 'debug_static_world', 'pstats', 'image_on_cuda', '_render_mode', '_disable_detector_mask', 'force_render_fps', 'force_destroy', 'num_buffering_objects', 'render_pipeline', 'daytime', 'debug_panda3d', 'drivable_region_extension', 'height_scale', '_debug_crash_object', 'horizon', 'max_step_per_agent', 'show_interface_navi_mark', 'show_mouse', 'show_skybox', 'show_terrain', 'show_interface', 'show_policy_mark', 'show_coordinates', 'interface_panel', 'multi_thread_render', 'multi_thread_render_mode', 'preload_models', 'log_level', 'record_episode', 'replay_episode', 'only_reset_when_replay', 'force_reuse_object_name', 'start_seed', 'num_scenarios', 'start_scenario_index', 'no_map', 'store_map', 'need_lane_localization', 'max_lateral_dist']).\""
     ]
    }
   ],
   "source": [
    "env.reset()\n",
    "for i in range(1000):\n",
    "    env.step([0, 1])"
   ]
  },
  {
   "cell_type": "code",
   "execution_count": 8,
   "metadata": {},
   "outputs": [],
   "source": [
    "env.close()"
   ]
  }
 ],
 "metadata": {
  "kernelspec": {
   "display_name": "metadrive",
   "language": "python",
   "name": "python3"
  },
  "language_info": {
   "codemirror_mode": {
    "name": "ipython",
    "version": 3
   },
   "file_extension": ".py",
   "mimetype": "text/x-python",
   "name": "python",
   "nbconvert_exporter": "python",
   "pygments_lexer": "ipython3",
   "version": "3.11.5"
  },
  "orig_nbformat": 4
 },
 "nbformat": 4,
 "nbformat_minor": 2
}
