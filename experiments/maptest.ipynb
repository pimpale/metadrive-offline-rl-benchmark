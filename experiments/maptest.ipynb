{
 "cells": [
  {
   "cell_type": "code",
   "execution_count": 36,
   "metadata": {},
   "outputs": [],
   "source": [
    "import metadrive\n",
    "from metadrive.envs.base_env import BaseEnv\n",
    "from metadrive.obs.observation_base import ObservationBase\n",
    "from metadrive.constants import DEFAULT_AGENT\n",
    "from metadrive.utils import Config\n",
    "from metadrive.manager.scenario_map_manager import ScenarioMapManager\n",
    "from metadrive.manager.base_manager import BaseManager\n",
    "from metadrive.scenario.scenario_description import ScenarioDescription\n",
    "from metadrive.component.vehicle_navigation_module.trajectory_navigation import TrajectoryNavigation\n",
    "\n"
   ]
  },
  {
   "cell_type": "code",
   "execution_count": 55,
   "metadata": {},
   "outputs": [],
   "source": [
    "import os\n",
    "import pickle\n",
    "\n",
    "path = \"~/myworkspace/scenarionet/waymo/waymo_0/sd_waymo_v1.2_7bdee109da62b185.pkl\"\n",
    "path = os.path.expanduser(path)\n",
    "\n",
    "with open(path, \"rb\") as f:\n",
    "    data = pickle.load(f)"
   ]
  },
  {
   "cell_type": "code",
   "execution_count": 56,
   "metadata": {},
   "outputs": [],
   "source": [
    "class InMemoryScenarioDataManager(BaseManager):\n",
    "    def __init__(self, scenario):\n",
    "        super().__init__()\n",
    "        self.current_scenario = scenario\n",
    "    \n",
    "    def get_scenario(self, i, should_copy=False):\n",
    "        return self.current_scenario\n",
    "\n",
    "class ReplayEnv(BaseEnv):\n",
    "    @classmethod\n",
    "    def default_config(cls) -> Config:\n",
    "        config = super().default_config()\n",
    "        config.update({\n",
    "            \"start_seed\": 0,\n",
    "            \"num_scenarios\": 1,\n",
    "            \"start_scenario_index\": 0,\n",
    "            \"no_map\": False,\n",
    "            \"store_map\": False,\n",
    "            \"need_lane_localization\": True,\n",
    "            \"vehicle_config\": dict(\n",
    "                lidar=dict(num_lasers=120, distance=50),\n",
    "                lane_line_detector=dict(num_lasers=0, distance=50),\n",
    "                side_detector=dict(num_lasers=12, distance=50),\n",
    "                show_dest_mark=True,\n",
    "                navigation_module=TrajectoryNavigation,\n",
    "            ),\n",
    "            \"max_lateral_dist\": 4\n",
    "        })\n",
    "        return config\n",
    "\n",
    "    def __init__(self, config, scenario):\n",
    "        super().__init__(config)\n",
    "        self.scenario = scenario\n",
    "\n",
    "    def done_function(self, vehicle_id: str):\n",
    "        return False, {}\n",
    "\n",
    "    def cost_function(self, vehicle_id: str):\n",
    "        return 0, {}\n",
    "    \n",
    "    def reward_function(self, vehicle_id: str):\n",
    "        return 0, {}\n",
    "\n",
    "    def _get_observations(self):\n",
    "        return {DEFAULT_AGENT: self.get_single_observation()}\n",
    "    \n",
    "    def setup_engine(self):\n",
    "        self.engine.register_manager(\"agent_manager\", self.agent_manager)\n",
    "        self.engine.register_manager(\"map_manager\", ScenarioMapManager())\n",
    "        self.engine.register_manager(\"data_manager\", InMemoryScenarioDataManager(self.scenario))\n"
   ]
  },
  {
   "cell_type": "code",
   "execution_count": 64,
   "metadata": {},
   "outputs": [],
   "source": [
    "env = ReplayEnv(config={\"use_render\": True, \"manual_control\": False}, scenario=ScenarioDescription(data))"
   ]
  },
  {
   "cell_type": "code",
   "execution_count": 65,
   "metadata": {},
   "outputs": [
    {
     "name": "stderr",
     "output_type": "stream",
     "text": [
      "Known pipe types:\n",
      "  glxGraphicsPipe\n",
      "(1 aux display modules not yet loaded.)\n",
      ":task(warning): Creating implicit AsyncTaskChain default for AsyncTaskManager TaskManager\n",
      "show_dest_mark and show_line_to_dest are not supported in TrajectoryNavigation\n"
     ]
    },
    {
     "ename": "SystemExit",
     "evalue": "",
     "output_type": "error",
     "traceback": [
      "An exception has occurred, use %tb to see the full traceback.\n",
      "\u001b[0;31mSystemExit\u001b[0m\n"
     ]
    },
    {
     "name": "stderr",
     "output_type": "stream",
     "text": [
      "/home/fidgetsinner/venvs/metadrive/lib/python3.11/site-packages/IPython/core/interactiveshell.py:3516: UserWarning: To exit: use 'exit', 'quit', or Ctrl-D.\n",
      "  warn(\"To exit: use 'exit', 'quit', or Ctrl-D.\", stacklevel=1)\n"
     ]
    }
   ],
   "source": [
    "env.reset()\n",
    "for i in range(1000):\n",
    "    env.step([0, 1])"
   ]
  },
  {
   "cell_type": "code",
   "execution_count": 66,
   "metadata": {},
   "outputs": [],
   "source": [
    "env.close()"
   ]
  }
 ],
 "metadata": {
  "kernelspec": {
   "display_name": "metadrive",
   "language": "python",
   "name": "python3"
  },
  "language_info": {
   "codemirror_mode": {
    "name": "ipython",
    "version": 3
   },
   "file_extension": ".py",
   "mimetype": "text/x-python",
   "name": "python",
   "nbconvert_exporter": "python",
   "pygments_lexer": "ipython3",
   "version": "3.11.3"
  },
  "orig_nbformat": 4
 },
 "nbformat": 4,
 "nbformat_minor": 2
}
