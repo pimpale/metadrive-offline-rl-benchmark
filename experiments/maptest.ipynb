{
 "cells": [
  {
   "cell_type": "code",
   "execution_count": null,
   "metadata": {},
   "outputs": [],
   "source": [
    "import metadrive\n",
    "from metadrive import MetaDriveEnv"
   ]
  },
  {
   "cell_type": "code",
   "execution_count": null,
   "metadata": {},
   "outputs": [],
   "source": [
    "class ModifiedMetadriveEnv(MetaDriveEnv):\n",
    "    def setup_engine(self):\n",
    "        self.engine.register_manager(\"agent_manager\", self.agent_manager)\n",
    "        self.engine.accept(\"b\", self.switch_to_top_down_view)\n",
    "        self.engine.accept(\"q\", self.switch_to_third_person_view)\n",
    "        self.engine.accept(\"]\", self.next_seed_reset)\n",
    "        self.engine.accept(\"[\", self.last_seed_reset)\n",
    "        self.engine.accept(\"p\", self.stop)\n",
    "        from metadrive.manager.traffic_manager import PGTrafficManager\n",
    "        from metadrive.manager.pg_map_manager import PGMapManager\n",
    "        from metadrive.manager.object_manager import TrafficObjectManager\n",
    "        self.engine.register_manager(\"map_manager\", PGMapManager())\n",
    "        self.engine.register_manager(\"traffic_manager\", PGTrafficManager())"
   ]
  }
 ],
 "metadata": {
  "kernelspec": {
   "display_name": "metadrive",
   "language": "python",
   "name": "python3"
  },
  "language_info": {
   "name": "python",
   "version": "3.11.3"
  },
  "orig_nbformat": 4
 },
 "nbformat": 4,
 "nbformat_minor": 2
}
