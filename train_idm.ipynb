{
 "cells": [
  {
   "cell_type": "code",
   "execution_count": 8,
   "metadata": {},
   "outputs": [
    {
     "name": "stdout",
     "output_type": "stream",
     "text": [
      "The autoreload extension is already loaded. To reload it, use:\n",
      "  %reload_ext autoreload\n"
     ]
    }
   ],
   "source": [
    "%load_ext autoreload\n",
    "%autoreload 2\n",
    "\n",
    "import torch\n",
    "import torch.nn as nn\n",
    "import torch.nn.functional as F\n",
    "import lzma\n",
    "import numpy as np\n",
    "import matplotlib.pyplot as plt\n",
    "import random\n",
    "import json\n",
    "import pickle\n",
    "from torch.utils.data import TensorDataset, DataLoader\n",
    "import itertools\n",
    "import os"
   ]
  },
  {
   "cell_type": "code",
   "execution_count": 9,
   "metadata": {},
   "outputs": [],
   "source": [
    "from utils.model import deviceof, set_lr_on_step\n",
    "from utils.env import State, Action, Observation, Transition, state_batch_to_tensor, action_batch_to_tensor, obs_batch_to_tensor, transition_json_to_batch, transition_batch_to_json\n",
    "from utils.loader import getFiles\n",
    "from utils.waymo_loader import extract_scenarios_file"
   ]
  },
  {
   "cell_type": "code",
   "execution_count": 50,
   "metadata": {},
   "outputs": [],
   "source": [
    "# CHANGE ME: Set this to the path to the Waymo Open Dataset root directory\n",
    "WAYMO_DATA_PATH = \"~/data/waymo\""
   ]
  },
  {
   "cell_type": "code",
   "execution_count": 14,
   "metadata": {},
   "outputs": [],
   "source": [
    "# load data\n",
    "with lzma.open(\"./data/transition_data.pkl.xz\", \"rb\") as f:\n",
    "    transition_data: list[Transition] = pickle.load(f)"
   ]
  },
  {
   "cell_type": "code",
   "execution_count": 7,
   "metadata": {},
   "outputs": [],
   "source": [
    "# save data\n",
    "if not os.path.exists(\"./data/transition_data.pkl.xz\"):\n",
    "    with lzma.open(\"./data/transition_data.pkl.xz\", \"wb\") as f:\n",
    "        pickle.dump(transition_data, f)"
   ]
  },
  {
   "cell_type": "code",
   "execution_count": 15,
   "metadata": {},
   "outputs": [],
   "source": [
    "# 90:10 train-validation split\n",
    "transition_train_data = transition_data[:int(len(transition_data)*0.9)]\n",
    "transition_validation_data = transition_data[int(len(transition_data)*0.9):]"
   ]
  },
  {
   "cell_type": "code",
   "execution_count": 16,
   "metadata": {},
   "outputs": [
    {
     "name": "stdout",
     "output_type": "stream",
     "text": [
      "train data size: 450000\n",
      "validation data size: 50000\n"
     ]
    }
   ],
   "source": [
    "print(\"train data size:\", len(transition_train_data))\n",
    "print(\"validation data size:\", len(transition_validation_data))"
   ]
  },
  {
   "cell_type": "code",
   "execution_count": 10,
   "metadata": {},
   "outputs": [],
   "source": [
    "# create a model that attempts to predict the next state given the current state and the action: (throttle and steering)\n",
    "# each state contains: velocity_x, velocity_y, and heading\n",
    "# creates a model that attempts to predict the action given the current state and the next state\n",
    "class InverseDynamicsModel(nn.Module):\n",
    "    def __init__(self):\n",
    "        super().__init__()\n",
    "        # input shape: (batch_size, 4, 2)\n",
    "        # output shape: (batch_size, 2)\n",
    "\n",
    "        self.conv1 = nn.Conv1d(4, 2048, 2) # Bx4x2 -> Bx768x1\n",
    "        self.fc1 = nn.Linear(2048, 1536) # Bx768 -> Bx768\n",
    "        self.fc2 = nn.Linear(1536, 1024) # Bx768 -> Bx768\n",
    "        self.fc3 = nn.Linear(1024, 768) # Bx768 -> Bx768\n",
    "        self.fc4 = nn.Linear(768, 2) # Bx768 -> Bx2\n",
    "    \n",
    "    def forward(self, x: torch.Tensor):\n",
    "        x = F.relu(self.conv1(x))\n",
    "        x = torch.flatten(x, 1)        \n",
    "        x = F.relu(self.fc1(x))\n",
    "        x = F.relu(self.fc2(x))\n",
    "        x = F.relu(self.fc3(x))\n",
    "        x = self.fc4(x)\n",
    "        x = torch.clamp(x, -1, 1)\n",
    "        return x\n",
    "\n",
    "def idm_train_batch(\n",
    "        idm: InverseDynamicsModel,\n",
    "        idm_optimizer: torch.optim.Optimizer,\n",
    "        obs_tensor: torch.Tensor,\n",
    "        a_tensor: torch.Tensor,\n",
    ") -> float:\n",
    "    device = deviceof(idm)\n",
    "\n",
    "    obs_tensor = obs_tensor.to(device)\n",
    "    a_tensor = a_tensor.to(device)\n",
    "\n",
    "    idm_optimizer.zero_grad()\n",
    "\n",
    "    pred_action = idm(obs_tensor)\n",
    "\n",
    "    loss = F.mse_loss(pred_action, a_tensor)\n",
    "    loss.backward()\n",
    "\n",
    "    idm_optimizer.step()\n",
    "\n",
    "    return float(loss.item())"
   ]
  },
  {
   "cell_type": "code",
   "execution_count": 11,
   "metadata": {},
   "outputs": [],
   "source": [
    "device = torch.device(\"cuda\" if torch.cuda.is_available() else \"cpu\")"
   ]
  },
  {
   "cell_type": "code",
   "execution_count": 36,
   "metadata": {},
   "outputs": [],
   "source": [
    "idm_train_dataset = TensorDataset(\n",
    "    obs_batch_to_tensor([(t.state, t.next_state) for t in transition_train_data], torch.device(\"cpu\")),\n",
    "    action_batch_to_tensor([t.action for t in transition_train_data], torch.device(\"cpu\")),\n",
    ")\n",
    "idm_train_loader = DataLoader(idm_train_dataset, batch_size=8192, shuffle=True)\n",
    "idm_train_iter = itertools.cycle(iter(idm_train_loader))\n",
    "\n",
    "idm = InverseDynamicsModel().to(device)\n",
    "\n",
    "idm_optimizer = torch.optim.AdamW(idm.parameters(), lr=0.0)\n",
    "\n",
    "idm_step = 0\n",
    "idm_losses = []"
   ]
  },
  {
   "cell_type": "code",
   "execution_count": 42,
   "metadata": {},
   "outputs": [],
   "source": [
    "LR_SCHEDULE = {\n",
    "    0: 1e-3,\n",
    "    25_000: 5e-4,\n",
    "    30_000: 2e-4,\n",
    "    35_000: 1e-4,\n",
    "    40_000: 5e-5,\n",
    "    45_000: 2e-5,\n",
    "    50_000: 1e-5,\n",
    "}\n",
    "INVERSE_DYNAMICS_MODEL_TRAIN_EPOCHS = 55_000\n",
    "\n",
    "while idm_step < INVERSE_DYNAMICS_MODEL_TRAIN_EPOCHS:\n",
    "    set_lr_on_step(idm_step, idm_optimizer, LR_SCHEDULE)\n",
    "    obs_tensor, a_tensor = next(idm_train_iter) \n",
    "    loss = idm_train_batch(\n",
    "        idm,\n",
    "        idm_optimizer,\n",
    "        obs_tensor,\n",
    "        a_tensor,\n",
    "    )\n",
    "    idm_losses.append(loss)\n",
    "    idm_step += 1\n",
    "    if idm_step % 1000 == 0:\n",
    "        # print average loss over last 100 steps\n",
    "        loss = np.mean(idm_losses[-1000:])\n",
    "        print(f\"Step: {idm_step}, Loss: {loss:.6f}\")"
   ]
  },
  {
   "cell_type": "code",
   "execution_count": 43,
   "metadata": {},
   "outputs": [
    {
     "data": {
      "image/png": "[encoded data removed]",
      "text/plain": [
       "<Figure size 640x480 with 1 Axes>"
      ]
     },
     "metadata": {},
     "output_type": "display_data"
    }
   ],
   "source": [
    "import matplotlib.pyplot as plt\n",
    "\n",
    "# Plot the losses over training\n",
    "plt.plot(list(range(len(idm_losses))), idm_losses, label='IDM')\n",
    "plt.show()"
   ]
  },
  {
   "cell_type": "code",
   "execution_count": 44,
   "metadata": {},
   "outputs": [
    {
     "data": {
      "text/plain": [
       "[<matplotlib.lines.Line2D at 0x7f779428fd10>]"
      ]
     },
     "execution_count": 44,
     "metadata": {},
     "output_type": "execute_result"
    },
    {
     "data": {
      "image/png": "[encoded data removed]",
      "text/plain": [
       "<Figure size 640x480 with 1 Axes>"
      ]
     },
     "metadata": {},
     "output_type": "display_data"
    }
   ],
   "source": [
    "from scipy.ndimage import gaussian_filter1d\n",
    "\n",
    "# plot the average reward per episode\n",
    "idm_losses_averaged = gaussian_filter1d(idm_losses[-10000:], sigma=10)\n",
    "plt.plot(idm_losses_averaged)"
   ]
  },
  {
   "cell_type": "code",
   "execution_count": 63,
   "metadata": {},
   "outputs": [],
   "source": [
    "# save IDM\n",
    "if not os.path.exists('./data/idm.pth'):\n",
    "    torch.save(idm.state_dict(), './data/idm.pth')"
   ]
  },
  {
   "cell_type": "code",
   "execution_count": 12,
   "metadata": {},
   "outputs": [],
   "source": [
    "# load IDM\n",
    "if 'idm' not in locals():\n",
    "    idm = InverseDynamicsModel().to(device)\n",
    "    idm.load_state_dict(torch.load('./data/idm.pth'))"
   ]
  },
  {
   "cell_type": "code",
   "execution_count": 17,
   "metadata": {},
   "outputs": [
    {
     "name": "stdout",
     "output_type": "stream",
     "text": [
      "training loss 0.00020078587112948298\n"
     ]
    }
   ],
   "source": [
    "obs_tensor = obs_batch_to_tensor([(t.state, t.next_state) for t in transition_train_data], device)\n",
    "a_tensor = action_batch_to_tensor([t.action for t in transition_train_data], device)\n",
    "\n",
    "with torch.no_grad():\n",
    "    a_pred_tensor = idm(obs_tensor)\n",
    "\n",
    "loss = (a_tensor - a_pred_tensor)**2\n",
    "loss_steer = loss[:, 0].cpu().detach().numpy()\n",
    "loss_throttle = loss[:, 1].cpu().detach().numpy()\n",
    "\n",
    "print(\"training loss\", loss.mean().item())"
   ]
  },
  {
   "cell_type": "code",
   "execution_count": 18,
   "metadata": {},
   "outputs": [
    {
     "name": "stdout",
     "output_type": "stream",
     "text": [
      "validation loss 5.66789458389394e-05\n"
     ]
    }
   ],
   "source": [
    "obs_tensor = obs_batch_to_tensor([(t.state, t.next_state) for t in transition_validation_data], device)\n",
    "a_tensor = action_batch_to_tensor([t.action for t in transition_validation_data], device)\n",
    "\n",
    "with torch.no_grad():\n",
    "    a_pred_tensor = idm(obs_tensor)\n",
    "\n",
    "loss = (a_tensor - a_pred_tensor)**2\n",
    "loss_steer = loss[:, 0].cpu().detach().numpy()\n",
    "loss_throttle = loss[:, 1].cpu().detach().numpy()\n",
    "\n",
    "print(\"validation loss\", loss.mean().item())"
   ]
  },
  {
   "cell_type": "code",
   "execution_count": 49,
   "metadata": {},
   "outputs": [
    {
     "data": {
      "image/png": "[encoded data removed]",
      "text/plain": [
       "<Figure size 640x480 with 1 Axes>"
      ]
     },
     "metadata": {},
     "output_type": "display_data"
    },
    {
     "data": {
      "image/png": "[encoded data removed]",
      "text/plain": [
       "<Figure size 640x480 with 1 Axes>"
      ]
     },
     "metadata": {},
     "output_type": "display_data"
    }
   ],
   "source": [
    "plt.hist(loss_steer, bins=100)\n",
    "plt.title('Loss in steer')\n",
    "plt.show()\n",
    "plt.hist(loss_throttle, bins=100)\n",
    "plt.title('Loss in throttle')\n",
    "plt.show()"
   ]
  },
  {
   "cell_type": "code",
   "execution_count": null,
   "metadata": {},
   "outputs": [],
   "source": [
    "class IDMPolicy:\n",
    "    def __init__(self, net: InverseDynamicsModel):\n",
    "        self.net = net\n",
    "\n",
    "    def __call__(self, obs:Observation) -> Action:\n",
    "        # sample an action from the policy network\n",
    "        obs_tensor = obs_batch_to_tensor([obs], deviceof(self.net))\n",
    "        # sample an action from the policy network\n",
    "        with torch.no_grad():\n",
    "            steering, throttle = self.net(obs_tensor)[0]\n",
    "        return Action(steering.item(), throttle.item())"
   ]
  },
  {
   "cell_type": "code",
   "execution_count": 61,
   "metadata": {},
   "outputs": [
    {
     "name": "stderr",
     "output_type": "stream",
     "text": [
      "2023-09-07 00:14:49.957502: I tensorflow/compiler/xla/stream_executor/cuda/cuda_gpu_executor.cc:995] successful NUMA node read from SysFS had negative value (-1), but there must be at least one NUMA node, so returning NUMA node zero. See more at https://github.com/torvalds/linux/blob/v6.0/Documentation/ABI/testing/sysfs-bus-pci#L344-L355\n",
      "2023-09-07 00:14:50.196104: I tensorflow/compiler/xla/stream_executor/cuda/cuda_gpu_executor.cc:995] successful NUMA node read from SysFS had negative value (-1), but there must be at least one NUMA node, so returning NUMA node zero. See more at https://github.com/torvalds/linux/blob/v6.0/Documentation/ABI/testing/sysfs-bus-pci#L344-L355\n",
      "2023-09-07 00:14:50.196306: I tensorflow/compiler/xla/stream_executor/cuda/cuda_gpu_executor.cc:995] successful NUMA node read from SysFS had negative value (-1), but there must be at least one NUMA node, so returning NUMA node zero. See more at https://github.com/torvalds/linux/blob/v6.0/Documentation/ABI/testing/sysfs-bus-pci#L344-L355\n",
      "2023-09-07 00:14:50.199379: I tensorflow/compiler/xla/stream_executor/cuda/cuda_gpu_executor.cc:995] successful NUMA node read from SysFS had negative value (-1), but there must be at least one NUMA node, so returning NUMA node zero. See more at https://github.com/torvalds/linux/blob/v6.0/Documentation/ABI/testing/sysfs-bus-pci#L344-L355\n",
      "2023-09-07 00:14:50.199607: I tensorflow/compiler/xla/stream_executor/cuda/cuda_gpu_executor.cc:995] successful NUMA node read from SysFS had negative value (-1), but there must be at least one NUMA node, so returning NUMA node zero. See more at https://github.com/torvalds/linux/blob/v6.0/Documentation/ABI/testing/sysfs-bus-pci#L344-L355\n",
      "2023-09-07 00:14:50.199775: I tensorflow/compiler/xla/stream_executor/cuda/cuda_gpu_executor.cc:995] successful NUMA node read from SysFS had negative value (-1), but there must be at least one NUMA node, so returning NUMA node zero. See more at https://github.com/torvalds/linux/blob/v6.0/Documentation/ABI/testing/sysfs-bus-pci#L344-L355\n",
      "2023-09-07 00:14:50.727203: I tensorflow/compiler/xla/stream_executor/cuda/cuda_gpu_executor.cc:995] successful NUMA node read from SysFS had negative value (-1), but there must be at least one NUMA node, so returning NUMA node zero. See more at https://github.com/torvalds/linux/blob/v6.0/Documentation/ABI/testing/sysfs-bus-pci#L344-L355\n",
      "2023-09-07 00:14:50.727406: I tensorflow/compiler/xla/stream_executor/cuda/cuda_gpu_executor.cc:995] successful NUMA node read from SysFS had negative value (-1), but there must be at least one NUMA node, so returning NUMA node zero. See more at https://github.com/torvalds/linux/blob/v6.0/Documentation/ABI/testing/sysfs-bus-pci#L344-L355\n",
      "2023-09-07 00:14:50.727569: I tensorflow/compiler/xla/stream_executor/cuda/cuda_gpu_executor.cc:995] successful NUMA node read from SysFS had negative value (-1), but there must be at least one NUMA node, so returning NUMA node zero. See more at https://github.com/torvalds/linux/blob/v6.0/Documentation/ABI/testing/sysfs-bus-pci#L344-L355\n",
      "2023-09-07 00:14:50.727681: W tensorflow/core/common_runtime/gpu/gpu_bfc_allocator.cc:47] Overriding orig_value setting because the TF_FORCE_GPU_ALLOW_GROWTH environment variable is set. Original config value was 0.\n",
      "2023-09-07 00:14:50.727702: I tensorflow/core/common_runtime/gpu/gpu_device.cc:1639] Created device /job:localhost/replica:0/task:0/device:GPU:0 with 9505 MB memory:  -> device: 0, name: NVIDIA GeForce RTX 3090, pci bus id: 0000:1d:00.0, compute capability: 8.6\n",
      "/home/fidgetsinner/venvs/metadrive/lib/python3.11/site-packages/numpy/core/fromnumeric.py:3464: RuntimeWarning: Mean of empty slice.\n",
      "  return _methods._mean(a, axis=axis, dtype=dtype,\n",
      "/home/fidgetsinner/venvs/metadrive/lib/python3.11/site-packages/numpy/core/_methods.py:192: RuntimeWarning: invalid value encountered in scalar divide\n",
      "  ret = ret.dtype.type(ret / rcount)\n"
     ]
    }
   ],
   "source": [
    "scenarios = extract_scenarios_file(getFiles(WAYMO_DATA_PATH)[0])"
   ]
  }
 ],
 "metadata": {
  "kernelspec": {
   "display_name": "metadrive",
   "language": "python",
   "name": "python3"
  },
  "language_info": {
   "codemirror_mode": {
    "name": "ipython",
    "version": 3
   },
   "file_extension": ".py",
   "mimetype": "text/x-python",
   "name": "python",
   "nbconvert_exporter": "python",
   "pygments_lexer": "ipython3",
   "version": "3.11.5"
  },
  "orig_nbformat": 4
 },
 "nbformat": 4,
 "nbformat_minor": 2
}
